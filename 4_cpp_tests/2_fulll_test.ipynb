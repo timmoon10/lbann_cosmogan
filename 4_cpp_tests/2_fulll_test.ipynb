{
 "cells": [
  {
   "cell_type": "markdown",
   "metadata": {},
   "source": [
    "# Testing C++ code in python\n",
    "June 12, 2020"
   ]
  },
  {
   "cell_type": "code",
   "execution_count": 15,
   "metadata": {},
   "outputs": [],
   "source": [
    "import numpy as np"
   ]
  },
  {
   "cell_type": "markdown",
   "metadata": {},
   "source": [
    "Steps to implement spectrum calculation\n",
    "- Compute FFT\n",
    "- Shift frequencies\n",
    "- Compute radial average"
   ]
  },
  {
   "cell_type": "markdown",
   "metadata": {},
   "source": [
    "## Save image for C++ code"
   ]
  },
  {
   "cell_type": "code",
   "execution_count": 87,
   "metadata": {},
   "outputs": [],
   "source": [
    "xsize,ysize=128,128"
   ]
  },
  {
   "cell_type": "code",
   "execution_count": 96,
   "metadata": {},
   "outputs": [
    {
     "name": "stdout",
     "output_type": "stream",
     "text": [
      "(512, 1, 128, 128)\n"
     ]
    }
   ],
   "source": [
    "### Save single 2D image to csv for C++ code to handle\n",
    "fname='data/gen_images.npy'\n",
    "a1=np.load(fname)\n",
    "print(a1.shape)\n",
    "np.savetxt('data/images.csv',a1[10,0,:xsize,:ysize],delimiter=',',newline=',')"
   ]
  },
  {
   "cell_type": "code",
   "execution_count": 97,
   "metadata": {},
   "outputs": [],
   "source": [
    "def f_radial_profile(data, center=(None,None)):\n",
    "    ''' Module to compute radial profile of a 2D image '''\n",
    "    y, x = np.indices((data.shape)) # Get a grid of x and y values\n",
    "    \n",
    "    if center[0]==None and center[1]==None:\n",
    "        center = np.array([(x.max()-x.min())/2.0, (y.max()-y.min())/2.0]) # compute centers\n",
    "        \n",
    "    # get radial values of every pair of points\n",
    "    r = np.sqrt((x - center[0])**2 + (y - center[1])**2)\n",
    "    r = r.astype(np.int)\n",
    "    \n",
    "    # Compute histogram of r values\n",
    "    tbin = np.bincount(r.ravel(), data.ravel())\n",
    "    nr = np.bincount(r.ravel()) \n",
    "    radialprofile = tbin / nr\n",
    "    \n",
    "    return radialprofile"
   ]
  },
  {
   "cell_type": "markdown",
   "metadata": {},
   "source": [
    "## Read input"
   ]
  },
  {
   "cell_type": "code",
   "execution_count": 98,
   "metadata": {},
   "outputs": [
    {
     "name": "stdout",
     "output_type": "stream",
     "text": [
      "(128, 128)\n"
     ]
    }
   ],
   "source": [
    "fname='data/images.csv'\n",
    "x=np.loadtxt(fname,delimiter=',',dtype=str)[:-1].astype(np.float64).reshape(xsize,ysize)\n",
    "print(x.shape)\n",
    "# x"
   ]
  },
  {
   "cell_type": "code",
   "execution_count": 99,
   "metadata": {},
   "outputs": [],
   "source": [
    "# x=np.array([[23,6,17,35,33],[15,26,12,9,21],[2,27,10,19,3],[6,20,26,12,16],[11,8,7,29,22]])\n",
    "# x"
   ]
  },
  {
   "cell_type": "code",
   "execution_count": 100,
   "metadata": {},
   "outputs": [
    {
     "name": "stdout",
     "output_type": "stream",
     "text": [
      "[  10.49694482    3.40802768    4.76252278    6.36349742    5.10413934\n",
      "    4.79756468    4.97840299    5.39588531    5.4003053     4.53464022\n",
      "    5.49957069    5.53165724    5.71546969    5.27360164    5.18619513\n",
      "    6.30545474    6.09051821    6.0685409     6.40990659    6.04353769\n",
      "    5.74806914    5.81036689    6.12536387    6.8247455     6.94928425\n",
      "    6.92604092    6.84612515    7.08641838    7.65645585    7.05711512\n",
      "    6.60270502    7.22703528    8.41921883    8.68995137    8.32957115\n",
      "    9.26714528    9.20884492    8.67788399    8.92253353    9.84759988\n",
      "   10.14208274   10.37489039   10.2559299    10.69001194   11.94675542\n",
      "   11.52709725   11.42025112   11.89112413   12.08412585   12.06162137\n",
      "   13.01154185   13.77082109   13.74344759   14.36494818   14.17852331\n",
      "   15.87449192   17.45427333   17.1312081    17.04753819   17.7287977\n",
      "   19.09573394   19.1902872    18.82942227   20.3700787    23.1163633\n",
      "   27.82357658   29.78915542   30.87633173   33.16629766   32.9974442\n",
      "   37.66465197   39.85169297   42.61015042   46.68705938   49.69940366\n",
      "   53.26871275   59.94857129   65.66410471   64.59873674   75.91529216\n",
      "   84.44678631   74.51427851  101.47550458  102.47313528  130.01640407\n",
      "  156.81321423  151.87788544  214.87473325  293.71409386 1287.41183564]\n"
     ]
    }
   ],
   "source": [
    "y1=np.fft.fft2(x)\n",
    "y2=abs(y1)\n",
    "# y2\n",
    "\n",
    "# for i in y2: \n",
    "#     for j in i:\n",
    "#         print(np.around(j,decimals=6),end='\\t')\n",
    "#     print('')\n",
    "    \n",
    "    \n",
    "z1=f_radial_profile(y2)\n",
    "print(z1)"
   ]
  },
  {
   "cell_type": "code",
   "execution_count": 101,
   "metadata": {},
   "outputs": [
    {
     "name": "stdout",
     "output_type": "stream",
     "text": [
      "[  10.4969     3.40803    4.76252    6.3635     5.10414    4.79756\n",
      "    4.9784     5.39589    5.40031    4.53464    5.49957    5.53166\n",
      "    5.71547    5.2736     5.1862     6.30545    6.09052    6.06854\n",
      "    6.40991    6.04354    5.74807    5.81037    6.12536    6.82475\n",
      "    6.94928    6.92604    6.84613    7.08642    7.65646    7.05712\n",
      "    6.60271    7.22704    8.41922    8.68995    8.32957    9.26715\n",
      "    9.20884    8.67788    8.92253    9.8476    10.1421    10.3749\n",
      "   10.2559    10.69      11.9468    11.5271    11.4203    11.8911\n",
      "   12.0841    12.0616    13.0115    13.7708    13.7434    14.3649\n",
      "   14.1785    15.8745    17.4543    17.1312    17.0475    17.7288\n",
      "   19.0957    19.1903    18.8294    20.3701    23.1164    27.8236\n",
      "   29.7892    30.8763    33.1663    32.9974    37.6647    39.8517\n",
      "   42.6102    46.6871    49.6994    53.2687    59.9486    65.6641\n",
      "   64.5987    75.9153    84.4468    74.5143   101.476    102.473\n",
      "  130.016    156.813    151.878    214.875    293.714   1287.41\n",
      "    0.         0.         0.         0.         0.         0.\n",
      "    0.         0.         0.         0.         0.         0.\n",
      "    0.         0.         0.         0.         0.         0.\n",
      "    0.         0.         0.         0.         0.         0.\n",
      "    0.         0.         0.         0.         0.         0.\n",
      "    0.         0.         0.         0.         0.         0.\n",
      "    0.         0.         0.         0.         0.         0.\n",
      "    0.         0.         0.         0.         0.         0.\n",
      "    0.         0.         0.         0.         0.         0.\n",
      "    0.         0.         0.         0.         0.         0.\n",
      "    0.         0.         0.         0.         0.         0.\n",
      "    0.         0.         0.         0.         0.         0.\n",
      "    0.         0.         0.         0.         0.         0.\n",
      "    0.         0.         0.         0.         0.         0.\n",
      "    0.         0.         0.         0.         0.         0.\n",
      "    0.     ]\n"
     ]
    }
   ],
   "source": [
    "### Read c++ file\n",
    "cp_ip_file='data/op.csv'\n",
    "# x=np.loadtxt(fname,delimiter=',',dtype=str)[:-1].astype(np.float64).reshape(5,5)\n",
    "z_cpp=np.loadtxt(cp_ip_file,delimiter=',',dtype=str)[:-1].astype(np.float64)\n",
    "print(z_cpp)"
   ]
  },
  {
   "cell_type": "code",
   "execution_count": 102,
   "metadata": {},
   "outputs": [
    {
     "data": {
      "text/plain": [
       "True"
      ]
     },
     "execution_count": 102,
     "metadata": {},
     "output_type": "execute_result"
    }
   ],
   "source": [
    "### Check arrays\n",
    "np.allclose(z1,z_cpp[:z1.shape[0]],rtol=1e-4,atol=1e-8)"
   ]
  },
  {
   "cell_type": "code",
   "execution_count": 103,
   "metadata": {},
   "outputs": [
    {
     "name": "stdout",
     "output_type": "stream",
     "text": [
      "23 6.82474549864186 6.82475\n",
      "35 9.267145277973935 9.26715\n",
      "82 101.47550457664987 101.476\n",
      "83 102.47313527901589 102.473\n",
      "84 130.01640406575825 130.016\n",
      "85 156.81321422541942 156.813\n",
      "86 151.87788543886876 151.878\n",
      "87 214.87473325471487 214.875\n",
      "88 293.71409386086765 293.714\n",
      "89 1287.4118356440815 1287.41\n"
     ]
    }
   ],
   "source": [
    "### Check manually elementwise\n",
    "for i in range(z1.shape[0]):\n",
    "    if (np.around(z1[i],4)!=np.around(z_cpp[i],4)): \n",
    "          print(i,z1[i],z_cpp[i])"
   ]
  },
  {
   "cell_type": "markdown",
   "metadata": {},
   "source": [
    "## Conclusion:\n",
    "###### July 2, 2020\n",
    "Reading input + computing FFT + computing Modulus + Getting Radial profile \\\n",
    "Arrays from python and C++ match !!\\\n",
    "The C++ code is correct and ready to port to LBANN"
   ]
  },
  {
   "cell_type": "code",
   "execution_count": null,
   "metadata": {},
   "outputs": [],
   "source": []
  }
 ],
 "metadata": {
  "kernelspec": {
   "display_name": "v_py3",
   "language": "python",
   "name": "v_jpt_py3"
  },
  "language_info": {
   "codemirror_mode": {
    "name": "ipython",
    "version": 3
   },
   "file_extension": ".py",
   "mimetype": "text/x-python",
   "name": "python",
   "nbconvert_exporter": "python",
   "pygments_lexer": "ipython3",
   "version": "3.6.8"
  }
 },
 "nbformat": 4,
 "nbformat_minor": 4
}
