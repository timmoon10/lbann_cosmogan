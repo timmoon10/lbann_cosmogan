{
 "cells": [
  {
   "cell_type": "markdown",
   "metadata": {},
   "source": [
    "# Testing C++ code in python\n",
    "June 12, 2020"
   ]
  },
  {
   "cell_type": "code",
   "execution_count": 1,
   "metadata": {},
   "outputs": [],
   "source": [
    "import numpy as np\n",
    "from scipy.fftpack import fft, fft2, ifft2, fftshift\n"
   ]
  },
  {
   "cell_type": "markdown",
   "metadata": {},
   "source": [
    "Steps to implement spectrum calculation\n",
    "- Compute FFT\n",
    "- Shift frequencies\n",
    "- Compute radial average"
   ]
  },
  {
   "cell_type": "markdown",
   "metadata": {},
   "source": [
    "## Read input in C++"
   ]
  },
  {
   "cell_type": "code",
   "execution_count": 15,
   "metadata": {},
   "outputs": [],
   "source": [
    "# ### Save single 2D image to csv for C++ code to handle\n",
    "# fname='data/gen_imgs.npy'\n",
    "# fname='data/images.csv'\n",
    "# a1=np.loadtxt(fname)\n",
    "# print(a1.shape)\n",
    "# # np.savetxt('data/images.csv',a1[0,:5,:5],delimiter=',',newline=',')"
   ]
  },
  {
   "cell_type": "markdown",
   "metadata": {},
   "source": [
    "## FFT"
   ]
  },
  {
   "cell_type": "markdown",
   "metadata": {},
   "source": [
    "#### 1D FFT"
   ]
  },
  {
   "cell_type": "code",
   "execution_count": 31,
   "metadata": {},
   "outputs": [
    {
     "name": "stdout",
     "output_type": "stream",
     "text": [
      "[1, 2, 3, 4, 5, 6]\n"
     ]
    }
   ],
   "source": [
    "y1=[(1.0*10.0*(e+1))-(1.0j*(e+1)) for e in range(6)]\n",
    "y1=[i+1 for i in range(6)]\n",
    "print(y1)"
   ]
  },
  {
   "cell_type": "code",
   "execution_count": 34,
   "metadata": {},
   "outputs": [
    {
     "name": "stdout",
     "output_type": "stream",
     "text": [
      "(-3+0j)\n",
      "(-2.999999999999999-1.7320508075688776j)\n",
      "(-3.000000000000001-5.196152422706632j)\n",
      "(21+0j)\n",
      "(-3.000000000000001+5.196152422706632j)\n",
      "(-2.999999999999999+1.7320508075688776j)\n"
     ]
    }
   ],
   "source": [
    "z1=fft(y1)\n",
    "z1=fftshift(fft(y1))\n",
    "\n",
    "for i in z1:\n",
    "    print(i)"
   ]
  },
  {
   "cell_type": "markdown",
   "metadata": {},
   "source": [
    "### 2D FFT"
   ]
  },
  {
   "cell_type": "code",
   "execution_count": null,
   "metadata": {},
   "outputs": [],
   "source": [
    "y2=np.array([(10.0*(x+1)+5*y)+(1.0j*(((x+3)+y*2.0))) for y in range(5) for x in range(5)]).reshape(5,5)\n",
    "y2\n"
   ]
  },
  {
   "cell_type": "code",
   "execution_count": null,
   "metadata": {},
   "outputs": [],
   "source": [
    "z2=fft2(y2)"
   ]
  },
  {
   "cell_type": "code",
   "execution_count": null,
   "metadata": {},
   "outputs": [],
   "source": [
    "for i in z2: \n",
    "    for j in i:\n",
    "        print(np.around(j,decimals=4),end='\\t')\n",
    "    print('')\n",
    "#     print([np.around(j,decimals=4) for j in i])"
   ]
  },
  {
   "cell_type": "code",
   "execution_count": null,
   "metadata": {},
   "outputs": [],
   "source": []
  },
  {
   "cell_type": "markdown",
   "metadata": {},
   "source": [
    "## Frequency shift"
   ]
  },
  {
   "cell_type": "code",
   "execution_count": null,
   "metadata": {},
   "outputs": [],
   "source": [
    "! cat data/images.csv"
   ]
  },
  {
   "cell_type": "code",
   "execution_count": null,
   "metadata": {},
   "outputs": [],
   "source": [
    "freqs = np.fft.fftfreq(9, d=1./9)\n",
    "print(freqs)\n",
    "print(np.fft.fftshift(freqs))\n",
    "\n",
    "freqs_2d=freqs.reshape(3,3)\n",
    "print(freqs_2d)\n",
    "np.fft.fftshift(freqs_2d, axes=(1,))"
   ]
  },
  {
   "cell_type": "code",
   "execution_count": null,
   "metadata": {},
   "outputs": [],
   "source": [
    "a1=np.arange(-2,10)\n",
    "print(a1)\n",
    "np.fft.fftshift(a1)"
   ]
  },
  {
   "cell_type": "code",
   "execution_count": null,
   "metadata": {},
   "outputs": [],
   "source": [
    "### C++ like code\n",
    "for i in range(3):\n",
    "    for j in range(3):\n",
    "        print(freqs_2d[i,j],'\\t',end='')\n",
    "    print()\n",
    "        "
   ]
  },
  {
   "cell_type": "markdown",
   "metadata": {},
   "source": [
    "## Radial profile"
   ]
  },
  {
   "cell_type": "code",
   "execution_count": null,
   "metadata": {},
   "outputs": [],
   "source": [
    "## Optimized python code\n",
    "def f_radial_profile(data, center=(None,None)):\n",
    "    ''' Module to compute radial profile of a 2D image '''\n",
    "    y, x = np.indices((data.shape)) # Get a grid of x and y values\n",
    "    \n",
    "    if center[0]==None and center[1]==None:\n",
    "        center = np.array([(x.max()-x.min())/2.0, (y.max()-y.min())/2.0]) # compute centers\n",
    "        \n",
    "    # get radial values of every pair of points\n",
    "    r = np.sqrt((x - center[0])**2 + (y - center[1])**2)\n",
    "    r = r.astype(np.int)\n",
    "    \n",
    "    # Compute histogram of r values\n",
    "    tbin = np.bincount(r.ravel(), data.ravel())\n",
    "    nr = np.bincount(r.ravel()) \n",
    "    radialprofile = tbin / nr\n",
    "    \n",
    "    return radialprofile"
   ]
  },
  {
   "cell_type": "code",
   "execution_count": null,
   "metadata": {},
   "outputs": [],
   "source": [
    "x_size,y_size=4,4\n",
    "x_max,x_min=x_size-1,0\n",
    "y_max,y_min=y_size-1,0\n",
    "\n",
    "center_x=(x_max-x_min)/2.0\n",
    "center_y=(y_max-y_min)/2.0\n",
    "print(center_x,center_y)"
   ]
  },
  {
   "cell_type": "code",
   "execution_count": null,
   "metadata": {},
   "outputs": [],
   "source": [
    "img_arr=np.random.randint(0,10,size=x_size*y_size).reshape(x_size,y_size)\n",
    "img_arr"
   ]
  },
  {
   "cell_type": "code",
   "execution_count": null,
   "metadata": {},
   "outputs": [],
   "source": [
    "img_arr=np.array([23, 6, 17, 35,33, 15, 26, 12,9, 21, 2, 27,10,19,3,6]).reshape(4,4)\n",
    "print(img_arr)"
   ]
  },
  {
   "cell_type": "code",
   "execution_count": null,
   "metadata": {},
   "outputs": [],
   "source": [
    "max_r=np.sqrt((x_size-center_x)**2+(y_size-center_y)**2).astype(int)\n",
    "r_bins=np.zeros(max_r,dtype=int)\n",
    "r_arr=np.zeros(max_r,dtype=np.float64)\n",
    "r_prof=np.zeros(max_r,dtype=np.float64)\n",
    "\n",
    "for x in range(x_min,x_size):\n",
    "    for y in range(y_min,y_size):\n",
    "        r=np.sqrt((x-center_x)**2+(y-center_y)**2)\n",
    "        r_int=np.int(r)\n",
    "        r_bins[r_int]+=1\n",
    "        r_arr[r_int]+=img_arr[x,y]\n",
    "        print(x,y,r,r_int,img_arr[x,y])\n",
    "\n",
    "### Take ratios to get the radial profile\n",
    "for i in np.arange(len(r_arr)):\n",
    "    if r_bins[i]!=0: \n",
    "        r_prof[i]=(r_arr[i]/r_bins[i])\n",
    "\n"
   ]
  },
  {
   "cell_type": "code",
   "execution_count": null,
   "metadata": {},
   "outputs": [],
   "source": [
    "r_bins,r_arr,r_prof"
   ]
  },
  {
   "cell_type": "code",
   "execution_count": null,
   "metadata": {},
   "outputs": [],
   "source": [
    "f_radial_profile(img_arr)"
   ]
  },
  {
   "cell_type": "code",
   "execution_count": null,
   "metadata": {},
   "outputs": [],
   "source": []
  },
  {
   "cell_type": "code",
   "execution_count": null,
   "metadata": {},
   "outputs": [],
   "source": []
  }
 ],
 "metadata": {
  "kernelspec": {
   "display_name": "PyROOT",
   "language": "python",
   "name": "pyroot"
  },
  "language_info": {
   "codemirror_mode": {
    "name": "ipython",
    "version": 2
   },
   "file_extension": ".py",
   "mimetype": "text/x-python",
   "name": "python",
   "nbconvert_exporter": "python",
   "pygments_lexer": "ipython2",
   "version": "2.7.12"
  }
 },
 "nbformat": 4,
 "nbformat_minor": 4
}
