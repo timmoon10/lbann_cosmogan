{
 "cells": [
  {
   "cell_type": "markdown",
   "metadata": {},
   "source": [
    "# Extract data from output files\n",
    "\n",
    "### Code to extract timing information from output files of Lbann code\n",
    "March 9, 2020"
   ]
  },
  {
   "cell_type": "code",
   "execution_count": 1,
   "metadata": {},
   "outputs": [],
   "source": [
    "import numpy as np\n",
    "import matplotlib.pyplot as plt\n",
    "import pandas as pd\n",
    "\n",
    "import subprocess as sp\n",
    "import os\n",
    "import glob\n",
    "import itertools\n",
    "\n",
    "from ipywidgets import interact, interact_manual,fixed, SelectMultiple, RadioButtons"
   ]
  },
  {
   "cell_type": "code",
   "execution_count": 2,
   "metadata": {},
   "outputs": [],
   "source": [
    "%matplotlib widget"
   ]
  },
  {
   "cell_type": "markdown",
   "metadata": {},
   "source": [
    "## Extract training times"
   ]
  },
  {
   "cell_type": "code",
   "execution_count": 3,
   "metadata": {},
   "outputs": [],
   "source": [
    "def f_extract_info(fname):\n",
    "    '''\n",
    "    Module to extract information from out.log files of Lbann training\n",
    "    Reads in file name\n",
    "    '''\n",
    "    strg_lst=['objective','d_real','d_fake','gen','run time','mini-batch']\n",
    "    keys=['training_'+strg for strg in strg_lst]\n",
    "    dict1={}\n",
    "    for category in ['training','validation']:\n",
    "        for strg in strg_lst:\n",
    "            key=category+'_'+strg\n",
    "            cmd='grep \"{0}\" {1} | grep \"{2}\"'.format(category,fname,strg)\n",
    "    #         print(cmd)\n",
    "            op1=sp.check_output(cmd,shell=True).decode('utf-8').split('\\n')\n",
    "            obj=np.array([strg.split(':')[-1] for strg in op1 if strg])\n",
    "            dict1[key]=obj\n",
    "    \n",
    "    df=pd.DataFrame([])\n",
    "    key_lst=['training_objective', 'training_d_real', 'training_d_fake', 'training_gen', 'validation_objective', 'validation_d_real', 'validation_d_fake', 'validation_gen']\n",
    "    col_list=['train_obj','train_dreal','train_dfake','train_gen','val_obj','val_dreal','val_dfake','val_gen']\n",
    "    for col,key in zip(col_list,key_lst):\n",
    "        df[col]=dict1[key].astype(np.float)\n",
    "\n",
    "    ### Need to remove the trailing 's' in the timings\n",
    "    for col,key in zip(['train_time','val_time'],['training_run time','validation_run time']):\n",
    "        df[col]=np.array([i[:-1] for i in dict1[key]]).astype(np.float)\n",
    "\n",
    "    for col,key in zip(['train_batch_stats','val_batch_stats'],['training_mini-batch','validation_mini-batch']):\n",
    "        df[col]=dict1[key]\n",
    "        \n",
    "    return df"
   ]
  },
  {
   "cell_type": "code",
   "execution_count": 4,
   "metadata": {},
   "outputs": [
    {
     "name": "stdout",
     "output_type": "stream",
     "text": [
      "/global/cfs/cdirs/m3363/vayyar/cosmogan_data/results_data/20200601_150741_seed2020_200epochs/out.log\n"
     ]
    }
   ],
   "source": [
    "### Extract information from log file\n",
    "\n",
    "# fldr='20200506_121613_exagan_200k_samples'\n",
    "fldr='20200513_121910_peters_dataset'\n",
    "fldr='20200529_063053_exagan_seed232_80epochs'\n",
    "fldr='20200601_150741_seed2020_200epochs'\n",
    "\n",
    "strg='/global/cfs/cdirs/m3363/vayyar/cosmogan_data/results_data/{0}/out.log'.format(fldr)\n",
    "fname=glob.glob(strg)[0]\n",
    "print(fname)\n",
    "df=f_extract_info(fname)"
   ]
  },
  {
   "cell_type": "code",
   "execution_count": 5,
   "metadata": {},
   "outputs": [
    {
     "data": {
      "text/html": [
       "<div>\n",
       "<style scoped>\n",
       "    .dataframe tbody tr th:only-of-type {\n",
       "        vertical-align: middle;\n",
       "    }\n",
       "\n",
       "    .dataframe tbody tr th {\n",
       "        vertical-align: top;\n",
       "    }\n",
       "\n",
       "    .dataframe thead th {\n",
       "        text-align: right;\n",
       "    }\n",
       "</style>\n",
       "<table border=\"1\" class=\"dataframe\">\n",
       "  <thead>\n",
       "    <tr style=\"text-align: right;\">\n",
       "      <th></th>\n",
       "      <th>train_obj</th>\n",
       "      <th>train_dreal</th>\n",
       "      <th>train_dfake</th>\n",
       "      <th>train_gen</th>\n",
       "      <th>val_obj</th>\n",
       "      <th>val_dreal</th>\n",
       "      <th>val_dfake</th>\n",
       "      <th>val_gen</th>\n",
       "      <th>train_time</th>\n",
       "      <th>val_time</th>\n",
       "      <th>train_batch_stats</th>\n",
       "      <th>val_batch_stats</th>\n",
       "    </tr>\n",
       "  </thead>\n",
       "  <tbody>\n",
       "    <tr>\n",
       "      <th>0</th>\n",
       "      <td>5.90908</td>\n",
       "      <td>0.543710</td>\n",
       "      <td>0.832125</td>\n",
       "      <td>4.53324</td>\n",
       "      <td>1.24144</td>\n",
       "      <td>0.228442</td>\n",
       "      <td>0.863401</td>\n",
       "      <td>0.149600</td>\n",
       "      <td>48.5095</td>\n",
       "      <td>3.94297</td>\n",
       "      <td>0.0391762s mean, 3.86967s max, 0.034704s min,...</td>\n",
       "      <td>0.0127595s mean, 0.279638s max, 0.0113598s mi...</td>\n",
       "    </tr>\n",
       "    <tr>\n",
       "      <th>1</th>\n",
       "      <td>3.37840</td>\n",
       "      <td>0.535433</td>\n",
       "      <td>0.551983</td>\n",
       "      <td>2.29098</td>\n",
       "      <td>1.77139</td>\n",
       "      <td>0.164039</td>\n",
       "      <td>1.558790</td>\n",
       "      <td>0.048555</td>\n",
       "      <td>44.5457</td>\n",
       "      <td>3.61227</td>\n",
       "      <td>0.0359619s mean, 0.450788s max, 0.0195584s mi...</td>\n",
       "      <td>0.0116864s mean, 0.0343763s max, 0.0107871s m...</td>\n",
       "    </tr>\n",
       "    <tr>\n",
       "      <th>2</th>\n",
       "      <td>2.97232</td>\n",
       "      <td>0.552815</td>\n",
       "      <td>0.555762</td>\n",
       "      <td>1.86375</td>\n",
       "      <td>1.57801</td>\n",
       "      <td>0.446263</td>\n",
       "      <td>0.811268</td>\n",
       "      <td>0.320480</td>\n",
       "      <td>44.0139</td>\n",
       "      <td>3.63674</td>\n",
       "      <td>0.0355307s mean, 0.265715s max, 0.0193284s mi...</td>\n",
       "      <td>0.0117661s mean, 0.0307579s max, 0.0107432s m...</td>\n",
       "    </tr>\n",
       "    <tr>\n",
       "      <th>3</th>\n",
       "      <td>2.95137</td>\n",
       "      <td>0.533511</td>\n",
       "      <td>0.536263</td>\n",
       "      <td>1.88160</td>\n",
       "      <td>2.08638</td>\n",
       "      <td>0.700980</td>\n",
       "      <td>0.315275</td>\n",
       "      <td>1.070120</td>\n",
       "      <td>43.8381</td>\n",
       "      <td>3.60451</td>\n",
       "      <td>0.0353882s mean, 0.105867s max, 0.0192078s mi...</td>\n",
       "      <td>0.0116617s mean, 0.0323967s max, 0.010791s mi...</td>\n",
       "    </tr>\n",
       "    <tr>\n",
       "      <th>4</th>\n",
       "      <td>2.95366</td>\n",
       "      <td>0.523189</td>\n",
       "      <td>0.521724</td>\n",
       "      <td>1.90875</td>\n",
       "      <td>2.02548</td>\n",
       "      <td>0.417542</td>\n",
       "      <td>1.060590</td>\n",
       "      <td>0.547345</td>\n",
       "      <td>43.9531</td>\n",
       "      <td>3.58355</td>\n",
       "      <td>0.0354814s mean, 0.323131s max, 0.0191207s mi...</td>\n",
       "      <td>0.0115932s mean, 0.0357811s max, 0.0107123s m...</td>\n",
       "    </tr>\n",
       "  </tbody>\n",
       "</table>\n",
       "</div>"
      ],
      "text/plain": [
       "   train_obj  train_dreal  train_dfake  train_gen  val_obj  val_dreal  \\\n",
       "0    5.90908     0.543710     0.832125    4.53324  1.24144   0.228442   \n",
       "1    3.37840     0.535433     0.551983    2.29098  1.77139   0.164039   \n",
       "2    2.97232     0.552815     0.555762    1.86375  1.57801   0.446263   \n",
       "3    2.95137     0.533511     0.536263    1.88160  2.08638   0.700980   \n",
       "4    2.95366     0.523189     0.521724    1.90875  2.02548   0.417542   \n",
       "\n",
       "   val_dfake   val_gen  train_time  val_time  \\\n",
       "0   0.863401  0.149600     48.5095   3.94297   \n",
       "1   1.558790  0.048555     44.5457   3.61227   \n",
       "2   0.811268  0.320480     44.0139   3.63674   \n",
       "3   0.315275  1.070120     43.8381   3.60451   \n",
       "4   1.060590  0.547345     43.9531   3.58355   \n",
       "\n",
       "                                   train_batch_stats  \\\n",
       "0   0.0391762s mean, 3.86967s max, 0.034704s min,...   \n",
       "1   0.0359619s mean, 0.450788s max, 0.0195584s mi...   \n",
       "2   0.0355307s mean, 0.265715s max, 0.0193284s mi...   \n",
       "3   0.0353882s mean, 0.105867s max, 0.0192078s mi...   \n",
       "4   0.0354814s mean, 0.323131s max, 0.0191207s mi...   \n",
       "\n",
       "                                     val_batch_stats  \n",
       "0   0.0127595s mean, 0.279638s max, 0.0113598s mi...  \n",
       "1   0.0116864s mean, 0.0343763s max, 0.0107871s m...  \n",
       "2   0.0117661s mean, 0.0307579s max, 0.0107432s m...  \n",
       "3   0.0116617s mean, 0.0323967s max, 0.010791s mi...  \n",
       "4   0.0115932s mean, 0.0357811s max, 0.0107123s m...  "
      ]
     },
     "execution_count": 5,
     "metadata": {},
     "output_type": "execute_result"
    }
   ],
   "source": [
    "# df.columns\n",
    "df.head()\n",
    "# col_list=['train_obj', 'train_dreal', 'train_dfake', 'train_gen', 'val_obj', 'val_dreal', 'val_dfake', 'val_gen', 'train_time', 'val_time']\n",
    "# df[col_list]"
   ]
  },
  {
   "cell_type": "code",
   "execution_count": 6,
   "metadata": {},
   "outputs": [
    {
     "data": {
      "application/vnd.jupyter.widget-view+json": {
       "model_id": "2c92725911324b6d88111c6970d4c5c8",
       "version_major": 2,
       "version_minor": 0
      },
      "text/plain": [
       "Canvas(toolbar=Toolbar(toolitems=[('Home', 'Reset original view', 'home', 'home'), ('Back', 'Back to previous …"
      ]
     },
     "metadata": {},
     "output_type": "display_data"
    }
   ],
   "source": [
    "def f_plot(df,col_list=['train_obj']):\n",
    "    '''\n",
    "    Plot multiple columns of the dataframe\n",
    "    '''\n",
    "    plt.figure()\n",
    "    \n",
    "    marker_lst=('o','*','H','D','.','x')\n",
    "    marker=itertools.cycle(marker_lst)\n",
    "    for col in col_list: plt.plot(df[col],linestyle='',marker=next(marker),label=col)\n",
    "    plt.legend()\n",
    "    plt.xlabel('Epoch')\n",
    "\n",
    "f_plot(df,col_list=['train_obj','train_dfake','train_dreal','train_gen'])\n",
    "\n",
    "# plt.savefig('fig2.png')"
   ]
  },
  {
   "cell_type": "code",
   "execution_count": 7,
   "metadata": {},
   "outputs": [
    {
     "data": {
      "application/vnd.jupyter.widget-view+json": {
       "model_id": "585c55664a264faaa80d1aada1b00cbd",
       "version_major": 2,
       "version_minor": 0
      },
      "text/plain": [
       "interactive(children=(SelectMultiple(description='col_list', options=('train_obj', 'train_dreal', 'train_dfake…"
      ]
     },
     "metadata": {},
     "output_type": "display_data"
    },
    {
     "data": {
      "text/plain": [
       "<function __main__.f_plot(df, col_list=['train_obj'])>"
      ]
     },
     "execution_count": 7,
     "metadata": {},
     "output_type": "execute_result"
    }
   ],
   "source": [
    "### Compare different quantities\n",
    "col_list=['train_obj', 'train_dreal', 'train_dfake', 'train_gen', 'val_obj',\n",
    "       'val_dreal', 'val_dfake', 'val_gen', 'train_time', 'val_time']\n",
    "interact_manual(f_plot,col_list=SelectMultiple(options=col_list),df=fixed(df))\n"
   ]
  },
  {
   "cell_type": "code",
   "execution_count": null,
   "metadata": {},
   "outputs": [],
   "source": []
  },
  {
   "cell_type": "code",
   "execution_count": null,
   "metadata": {},
   "outputs": [],
   "source": []
  }
 ],
 "metadata": {
  "kernelspec": {
   "display_name": "v_py3",
   "language": "python",
   "name": "v_jpt_py3"
  },
  "language_info": {
   "codemirror_mode": {
    "name": "ipython",
    "version": 3
   },
   "file_extension": ".py",
   "mimetype": "text/x-python",
   "name": "python",
   "nbconvert_exporter": "python",
   "pygments_lexer": "ipython3",
   "version": "3.6.8"
  }
 },
 "nbformat": 4,
 "nbformat_minor": 4
}
