{
 "cells": [
  {
   "cell_type": "markdown",
   "metadata": {},
   "source": [
    "# Extract data from output files\n",
    "\n",
    "### Code to extract timing information from output files of Lbann code\n",
    "March 9, 2020"
   ]
  },
  {
   "cell_type": "code",
   "execution_count": 1,
   "metadata": {},
   "outputs": [],
   "source": [
    "import numpy as np\n",
    "import matplotlib.pyplot as plt\n",
    "import pandas as pd\n",
    "\n",
    "import subprocess as sp\n",
    "import os\n",
    "import glob\n",
    "import itertools\n",
    "\n",
    "from ipywidgets import interact, interact_manual,fixed, SelectMultiple, RadioButtons"
   ]
  },
  {
   "cell_type": "code",
   "execution_count": 2,
   "metadata": {},
   "outputs": [],
   "source": [
    "%matplotlib widget"
   ]
  },
  {
   "cell_type": "markdown",
   "metadata": {},
   "source": [
    "## Extract training times"
   ]
  },
  {
   "cell_type": "code",
   "execution_count": 3,
   "metadata": {},
   "outputs": [],
   "source": [
    "def f_extract_info(fname):\n",
    "    '''\n",
    "    Module to extract information from out.log files of Lbann training\n",
    "    Reads in file name\n",
    "    '''\n",
    "    strg_lst=['objective','d_real','d_fake','gen','run time','mini-batch']\n",
    "    keys=['training_'+strg for strg in strg_lst]\n",
    "    dict1={}\n",
    "    for category in ['training','validation']:\n",
    "        for strg in strg_lst:\n",
    "            key=category+'_'+strg\n",
    "            cmd='grep \"{0}\" {1} | grep \"{2}\"'.format(category,fname,strg)\n",
    "    #         print(cmd)\n",
    "            op1=sp.check_output(cmd,shell=True).decode('utf-8').split('\\n')\n",
    "            obj=np.array([strg.split(':')[-1] for strg in op1 if strg])\n",
    "            dict1[key]=obj\n",
    "    \n",
    "    df=pd.DataFrame([])\n",
    "    key_lst=['training_objective', 'training_d_real', 'training_d_fake', 'training_gen', 'validation_objective', 'validation_d_real', 'validation_d_fake', 'validation_gen']\n",
    "    col_list=['train_obj','train_dreal','train_dfake','train_gen','val_obj','val_dreal','val_dfake','val_gen']\n",
    "    for col,key in zip(col_list,key_lst):\n",
    "        df[col]=dict1[key].astype(np.float)\n",
    "\n",
    "    ### Need to remove the trailing 's' in the timings\n",
    "    for col,key in zip(['train_time','val_time'],['training_run time','validation_run time']):\n",
    "        df[col]=np.array([i[:-1] for i in dict1[key]]).astype(np.float)\n",
    "\n",
    "    for col,key in zip(['train_batch_stats','val_batch_stats'],['training_mini-batch','validation_mini-batch']):\n",
    "        df[col]=dict1[key]\n",
    "        \n",
    "    return df"
   ]
  },
  {
   "cell_type": "code",
   "execution_count": 6,
   "metadata": {},
   "outputs": [
    {
     "name": "stdout",
     "output_type": "stream",
     "text": [
      "/global/cscratch1/sd/vpa/proj/cosmogan/results_dir/128square/20200811_195351_bsize256_8gpurun_noconvbrelu/dump_outs/trainer0/model0/\n",
      "/global/cscratch1/sd/vpa/proj/cosmogan/results_dir/128square/20200811_195351_bsize256_8gpurun_noconvbrelu/out.log\n",
      "/global/cscratch1/sd/vpa/proj/cosmogan/results_dir/128square/20200811_195351_bsize256_8gpurun_noconvbrelu/out.log\n"
     ]
    }
   ],
   "source": [
    "### Extract information from log file\n",
    "\n",
    "parent_dir='/global/cscratch1/sd/vpa/proj/cosmogan/results_dir/128square/'\n",
    "fldr_name='20200811_195351_bsize256_8gpurun_noconvbrelu'\n",
    "main_dir=parent_dir+'{0}/dump_outs/trainer0/model0/'.format(fldr_name)\n",
    "print(main_dir)\n",
    "strg=parent_dir+'{0}/out.log'.format(fldr_name)\n",
    "fname=glob.glob(strg)[0]\n",
    "print(fname)\n",
    "df=f_extract_info(fname)"
   ]
  },
  {
   "cell_type": "code",
   "execution_count": 7,
   "metadata": {},
   "outputs": [
    {
     "data": {
      "text/html": [
       "<div>\n",
       "<style scoped>\n",
       "    .dataframe tbody tr th:only-of-type {\n",
       "        vertical-align: middle;\n",
       "    }\n",
       "\n",
       "    .dataframe tbody tr th {\n",
       "        vertical-align: top;\n",
       "    }\n",
       "\n",
       "    .dataframe thead th {\n",
       "        text-align: right;\n",
       "    }\n",
       "</style>\n",
       "<table border=\"1\" class=\"dataframe\">\n",
       "  <thead>\n",
       "    <tr style=\"text-align: right;\">\n",
       "      <th></th>\n",
       "      <th>train_obj</th>\n",
       "      <th>train_dreal</th>\n",
       "      <th>train_dfake</th>\n",
       "      <th>train_gen</th>\n",
       "      <th>val_obj</th>\n",
       "      <th>val_dreal</th>\n",
       "      <th>val_dfake</th>\n",
       "      <th>val_gen</th>\n",
       "      <th>train_time</th>\n",
       "      <th>val_time</th>\n",
       "      <th>train_batch_stats</th>\n",
       "      <th>val_batch_stats</th>\n",
       "    </tr>\n",
       "  </thead>\n",
       "  <tbody>\n",
       "    <tr>\n",
       "      <th>0</th>\n",
       "      <td>2.788910</td>\n",
       "      <td>0.187376</td>\n",
       "      <td>0.415729</td>\n",
       "      <td>2.185800</td>\n",
       "      <td>0.128862</td>\n",
       "      <td>0.065668</td>\n",
       "      <td>0.060969</td>\n",
       "      <td>0.002225</td>\n",
       "      <td>99.2205</td>\n",
       "      <td>4.80108</td>\n",
       "      <td>0.112764s mean, 5.05943s max, 0.0775405s min,...</td>\n",
       "      <td>0.0489462s mean, 0.354378s max, 0.0408807s mi...</td>\n",
       "    </tr>\n",
       "    <tr>\n",
       "      <th>1</th>\n",
       "      <td>0.161344</td>\n",
       "      <td>0.067305</td>\n",
       "      <td>0.082051</td>\n",
       "      <td>0.011988</td>\n",
       "      <td>0.116865</td>\n",
       "      <td>0.058619</td>\n",
       "      <td>0.057962</td>\n",
       "      <td>0.000283</td>\n",
       "      <td>84.6857</td>\n",
       "      <td>4.44277</td>\n",
       "      <td>0.0962267s mean, 3.83188s max, 0.0707859s min...</td>\n",
       "      <td>0.0452907s mean, 0.0624387s max, 0.0297546s m...</td>\n",
       "    </tr>\n",
       "    <tr>\n",
       "      <th>2</th>\n",
       "      <td>0.126294</td>\n",
       "      <td>0.060192</td>\n",
       "      <td>0.065515</td>\n",
       "      <td>0.000587</td>\n",
       "      <td>0.113703</td>\n",
       "      <td>0.056622</td>\n",
       "      <td>0.057073</td>\n",
       "      <td>0.000009</td>\n",
       "      <td>82.5098</td>\n",
       "      <td>4.51047</td>\n",
       "      <td>0.0937491s mean, 2.19639s max, 0.0743914s min...</td>\n",
       "      <td>0.0459824s mean, 0.139467s max, 0.0294821s mi...</td>\n",
       "    </tr>\n",
       "    <tr>\n",
       "      <th>3</th>\n",
       "      <td>0.127909</td>\n",
       "      <td>0.062444</td>\n",
       "      <td>0.065376</td>\n",
       "      <td>0.000089</td>\n",
       "      <td>0.123719</td>\n",
       "      <td>0.061889</td>\n",
       "      <td>0.061804</td>\n",
       "      <td>0.000026</td>\n",
       "      <td>82.0358</td>\n",
       "      <td>5.29370</td>\n",
       "      <td>0.0932131s mean, 2.24744s max, 0.0725425s min...</td>\n",
       "      <td>0.0539747s mean, 0.83061s max, 0.0306515s min...</td>\n",
       "    </tr>\n",
       "    <tr>\n",
       "      <th>4</th>\n",
       "      <td>0.128466</td>\n",
       "      <td>0.062504</td>\n",
       "      <td>0.065931</td>\n",
       "      <td>0.000031</td>\n",
       "      <td>0.111783</td>\n",
       "      <td>0.056533</td>\n",
       "      <td>0.055248</td>\n",
       "      <td>0.000002</td>\n",
       "      <td>90.4047</td>\n",
       "      <td>4.71571</td>\n",
       "      <td>0.102733s mean, 4.11479s max, 0.0748229s min,...</td>\n",
       "      <td>0.0480757s mean, 0.0874491s max, 0.0310204s m...</td>\n",
       "    </tr>\n",
       "  </tbody>\n",
       "</table>\n",
       "</div>"
      ],
      "text/plain": [
       "   train_obj  train_dreal  train_dfake  train_gen   val_obj  val_dreal  \\\n",
       "0   2.788910     0.187376     0.415729   2.185800  0.128862   0.065668   \n",
       "1   0.161344     0.067305     0.082051   0.011988  0.116865   0.058619   \n",
       "2   0.126294     0.060192     0.065515   0.000587  0.113703   0.056622   \n",
       "3   0.127909     0.062444     0.065376   0.000089  0.123719   0.061889   \n",
       "4   0.128466     0.062504     0.065931   0.000031  0.111783   0.056533   \n",
       "\n",
       "   val_dfake   val_gen  train_time  val_time  \\\n",
       "0   0.060969  0.002225     99.2205   4.80108   \n",
       "1   0.057962  0.000283     84.6857   4.44277   \n",
       "2   0.057073  0.000009     82.5098   4.51047   \n",
       "3   0.061804  0.000026     82.0358   5.29370   \n",
       "4   0.055248  0.000002     90.4047   4.71571   \n",
       "\n",
       "                                   train_batch_stats  \\\n",
       "0   0.112764s mean, 5.05943s max, 0.0775405s min,...   \n",
       "1   0.0962267s mean, 3.83188s max, 0.0707859s min...   \n",
       "2   0.0937491s mean, 2.19639s max, 0.0743914s min...   \n",
       "3   0.0932131s mean, 2.24744s max, 0.0725425s min...   \n",
       "4   0.102733s mean, 4.11479s max, 0.0748229s min,...   \n",
       "\n",
       "                                     val_batch_stats  \n",
       "0   0.0489462s mean, 0.354378s max, 0.0408807s mi...  \n",
       "1   0.0452907s mean, 0.0624387s max, 0.0297546s m...  \n",
       "2   0.0459824s mean, 0.139467s max, 0.0294821s mi...  \n",
       "3   0.0539747s mean, 0.83061s max, 0.0306515s min...  \n",
       "4   0.0480757s mean, 0.0874491s max, 0.0310204s m...  "
      ]
     },
     "execution_count": 7,
     "metadata": {},
     "output_type": "execute_result"
    }
   ],
   "source": [
    "# df.columns\n",
    "df.head()\n"
   ]
  },
  {
   "cell_type": "code",
   "execution_count": 8,
   "metadata": {},
   "outputs": [
    {
     "data": {
      "application/vnd.jupyter.widget-view+json": {
       "model_id": "86f6cdd80aee4e6abbad59cc6a4ff036",
       "version_major": 2,
       "version_minor": 0
      },
      "text/plain": [
       "Canvas(toolbar=Toolbar(toolitems=[('Home', 'Reset original view', 'home', 'home'), ('Back', 'Back to previous …"
      ]
     },
     "metadata": {},
     "output_type": "display_data"
    }
   ],
   "source": [
    "def f_plot(df,col_list=['train_obj']):\n",
    "    '''\n",
    "    Plot multiple columns of the dataframe\n",
    "    '''\n",
    "    plt.figure()\n",
    "    \n",
    "    marker_lst=('o','*','H','D','.','x')\n",
    "    marker=itertools.cycle(marker_lst)\n",
    "    for col in col_list: plt.plot(df[col],linestyle='',marker=next(marker),label=col)\n",
    "    plt.legend()\n",
    "    plt.xlabel('Epoch')\n",
    "\n",
    "f_plot(df,col_list=['train_obj','train_dfake','train_dreal','train_gen'])\n",
    "\n",
    "# plt.savefig('fig2.png')"
   ]
  },
  {
   "cell_type": "code",
   "execution_count": 9,
   "metadata": {},
   "outputs": [
    {
     "data": {
      "application/vnd.jupyter.widget-view+json": {
       "model_id": "060c736246e94844b45b1727ed7ca3eb",
       "version_major": 2,
       "version_minor": 0
      },
      "text/plain": [
       "interactive(children=(SelectMultiple(description='col_list', options=('train_obj', 'train_dreal', 'train_dfake…"
      ]
     },
     "metadata": {},
     "output_type": "display_data"
    },
    {
     "data": {
      "text/plain": [
       "<function __main__.f_plot(df, col_list=['train_obj'])>"
      ]
     },
     "execution_count": 9,
     "metadata": {},
     "output_type": "execute_result"
    }
   ],
   "source": [
    "### Compare different quantities\n",
    "col_list=['train_obj', 'train_dreal', 'train_dfake', 'train_gen', 'val_obj',\n",
    "       'val_dreal', 'val_dfake', 'val_gen', 'train_time', 'val_time']\n",
    "interact_manual(f_plot,col_list=SelectMultiple(options=col_list),df=fixed(df))\n"
   ]
  },
  {
   "cell_type": "code",
   "execution_count": null,
   "metadata": {},
   "outputs": [],
   "source": []
  },
  {
   "cell_type": "code",
   "execution_count": null,
   "metadata": {},
   "outputs": [],
   "source": []
  }
 ],
 "metadata": {
  "kernelspec": {
   "display_name": "v_py3",
   "language": "python",
   "name": "v_jpt_py3"
  },
  "language_info": {
   "codemirror_mode": {
    "name": "ipython",
    "version": 3
   },
   "file_extension": ".py",
   "mimetype": "text/x-python",
   "name": "python",
   "nbconvert_exporter": "python",
   "pygments_lexer": "ipython3",
   "version": "3.6.8"
  }
 },
 "nbformat": 4,
 "nbformat_minor": 4
}
