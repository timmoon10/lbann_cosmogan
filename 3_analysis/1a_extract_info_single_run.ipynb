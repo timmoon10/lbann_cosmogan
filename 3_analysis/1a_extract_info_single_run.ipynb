{
 "cells": [
  {
   "cell_type": "markdown",
   "metadata": {},
   "source": [
    "# Extract data from output files\n",
    "\n",
    "### Code to extract timing information from output files of Lbann code\n",
    "March 9, 2020"
   ]
  },
  {
   "cell_type": "code",
   "execution_count": 8,
   "metadata": {},
   "outputs": [],
   "source": [
    "import numpy as np\n",
    "import matplotlib.pyplot as plt\n",
    "import pandas as pd\n",
    "\n",
    "import subprocess as sp\n",
    "import os\n",
    "import glob\n",
    "import itertools\n",
    "\n",
    "from ipywidgets import interact, interact_manual,fixed, SelectMultiple, RadioButtons"
   ]
  },
  {
   "cell_type": "code",
   "execution_count": 9,
   "metadata": {},
   "outputs": [],
   "source": [
    "%matplotlib widget"
   ]
  },
  {
   "cell_type": "markdown",
   "metadata": {},
   "source": [
    "## Extract training times"
   ]
  },
  {
   "cell_type": "code",
   "execution_count": 10,
   "metadata": {},
   "outputs": [],
   "source": [
    "def f_extract_info(fname):\n",
    "    '''\n",
    "    Module to extract information from out.log files of Lbann training\n",
    "    Reads in file name\n",
    "    '''\n",
    "    strg_lst=['objective','d_real','d_fake','gen','run time','mini-batch']\n",
    "    keys=['training_'+strg for strg in strg_lst]\n",
    "    dict1={}\n",
    "    for category in ['training','validation']:\n",
    "        for strg in strg_lst:\n",
    "            key=category+'_'+strg\n",
    "            cmd='grep \"{0}\" {1} | grep \"{2}\"'.format(category,fname,strg)\n",
    "    #         print(cmd)\n",
    "            op1=sp.check_output(cmd,shell=True).decode('utf-8').split('\\n')\n",
    "            obj=np.array([strg.split(':')[-1] for strg in op1 if strg])\n",
    "            dict1[key]=obj\n",
    "    \n",
    "    df=pd.DataFrame([])\n",
    "    key_lst=['training_objective', 'training_d_real', 'training_d_fake', 'training_gen', 'validation_objective', 'validation_d_real', 'validation_d_fake', 'validation_gen']\n",
    "    col_list=['train_obj','train_dreal','train_dfake','train_gen','val_obj','val_dreal','val_dfake','val_gen']\n",
    "    for col,key in zip(col_list,key_lst):\n",
    "        df[col]=dict1[key].astype(np.float)\n",
    "\n",
    "    ### Need to remove the trailing 's' in the timings\n",
    "    for col,key in zip(['train_time','val_time'],['training_run time','validation_run time']):\n",
    "        df[col]=np.array([i[:-1] for i in dict1[key]]).astype(np.float)\n",
    "\n",
    "    for col,key in zip(['train_batch_stats','val_batch_stats'],['training_mini-batch','validation_mini-batch']):\n",
    "        df[col]=dict1[key]\n",
    "        \n",
    "    return df"
   ]
  },
  {
   "cell_type": "code",
   "execution_count": 11,
   "metadata": {},
   "outputs": [
    {
     "name": "stdout",
     "output_type": "stream",
     "text": [
      "/global/cfs/cdirs/m3363/vayyar/cosmogan_data/results_data/20200513_121910_peters_dataset/slurm-649887.out\n"
     ]
    }
   ],
   "source": [
    "### Extract information from log file\n",
    "\n",
    "# fldr='20200506_121613_exagan_200k_samples'\n",
    "fldr='20200513_121910_peters_dataset'\n",
    "# fldr='20200518_200316_new_transform_mcr'\n",
    "strg='/global/cfs/cdirs/m3363/vayyar/cosmogan_data/results_data/{0}/slurm*'.format(fldr)\n",
    "fname=glob.glob(strg)[0]\n",
    "print(fname)\n",
    "df=f_extract_info(fname)"
   ]
  },
  {
   "cell_type": "code",
   "execution_count": 12,
   "metadata": {},
   "outputs": [
    {
     "data": {
      "text/html": [
       "<div>\n",
       "<style scoped>\n",
       "    .dataframe tbody tr th:only-of-type {\n",
       "        vertical-align: middle;\n",
       "    }\n",
       "\n",
       "    .dataframe tbody tr th {\n",
       "        vertical-align: top;\n",
       "    }\n",
       "\n",
       "    .dataframe thead th {\n",
       "        text-align: right;\n",
       "    }\n",
       "</style>\n",
       "<table border=\"1\" class=\"dataframe\">\n",
       "  <thead>\n",
       "    <tr style=\"text-align: right;\">\n",
       "      <th></th>\n",
       "      <th>train_obj</th>\n",
       "      <th>train_dreal</th>\n",
       "      <th>train_dfake</th>\n",
       "      <th>train_gen</th>\n",
       "      <th>val_obj</th>\n",
       "      <th>val_dreal</th>\n",
       "      <th>val_dfake</th>\n",
       "      <th>val_gen</th>\n",
       "      <th>train_time</th>\n",
       "      <th>val_time</th>\n",
       "      <th>train_batch_stats</th>\n",
       "      <th>val_batch_stats</th>\n",
       "    </tr>\n",
       "  </thead>\n",
       "  <tbody>\n",
       "    <tr>\n",
       "      <th>0</th>\n",
       "      <td>5.74373</td>\n",
       "      <td>0.548645</td>\n",
       "      <td>0.870959</td>\n",
       "      <td>4.32413</td>\n",
       "      <td>1.86304</td>\n",
       "      <td>0.407753</td>\n",
       "      <td>0.903616</td>\n",
       "      <td>0.551673</td>\n",
       "      <td>33.3848</td>\n",
       "      <td>2.59969</td>\n",
       "      <td>0.0269089s mean, 2.25991s max, 0.0233279s min...</td>\n",
       "      <td>0.00839889s mean, 0.288749s max, 0.00618833s ...</td>\n",
       "    </tr>\n",
       "    <tr>\n",
       "      <th>1</th>\n",
       "      <td>3.35684</td>\n",
       "      <td>0.507946</td>\n",
       "      <td>0.509923</td>\n",
       "      <td>2.33897</td>\n",
       "      <td>7.57753</td>\n",
       "      <td>1.958650</td>\n",
       "      <td>0.076199</td>\n",
       "      <td>5.542680</td>\n",
       "      <td>31.2513</td>\n",
       "      <td>2.08367</td>\n",
       "      <td>0.0251765s mean, 0.0833974s max, 0.0182697s m...</td>\n",
       "      <td>0.0067227s mean, 0.0470178s max, 0.00622632s ...</td>\n",
       "    </tr>\n",
       "    <tr>\n",
       "      <th>2</th>\n",
       "      <td>3.09356</td>\n",
       "      <td>0.542803</td>\n",
       "      <td>0.540152</td>\n",
       "      <td>2.01061</td>\n",
       "      <td>1.30469</td>\n",
       "      <td>0.228476</td>\n",
       "      <td>0.513721</td>\n",
       "      <td>0.562493</td>\n",
       "      <td>30.8999</td>\n",
       "      <td>2.10566</td>\n",
       "      <td>0.0248913s mean, 0.178034s max, 0.0182741s mi...</td>\n",
       "      <td>0.00679497s mean, 0.0508984s max, 0.00621744s...</td>\n",
       "    </tr>\n",
       "    <tr>\n",
       "      <th>3</th>\n",
       "      <td>3.06394</td>\n",
       "      <td>0.514935</td>\n",
       "      <td>0.508154</td>\n",
       "      <td>2.04085</td>\n",
       "      <td>3.50360</td>\n",
       "      <td>1.000230</td>\n",
       "      <td>0.078221</td>\n",
       "      <td>2.425150</td>\n",
       "      <td>30.9352</td>\n",
       "      <td>2.12661</td>\n",
       "      <td>0.0249125s mean, 0.0794946s max, 0.0184069s m...</td>\n",
       "      <td>0.00686263s mean, 0.0655146s max, 0.00628522s...</td>\n",
       "    </tr>\n",
       "    <tr>\n",
       "      <th>4</th>\n",
       "      <td>3.07937</td>\n",
       "      <td>0.513650</td>\n",
       "      <td>0.503059</td>\n",
       "      <td>2.06266</td>\n",
       "      <td>2.70953</td>\n",
       "      <td>0.119245</td>\n",
       "      <td>2.525070</td>\n",
       "      <td>0.065219</td>\n",
       "      <td>30.7610</td>\n",
       "      <td>2.05313</td>\n",
       "      <td>0.0247788s mean, 0.095029s max, 0.0181971s mi...</td>\n",
       "      <td>0.0066244s mean, 0.0576311s max, 0.00619922s ...</td>\n",
       "    </tr>\n",
       "  </tbody>\n",
       "</table>\n",
       "</div>"
      ],
      "text/plain": [
       "   train_obj  train_dreal  train_dfake  train_gen  val_obj  val_dreal  \\\n",
       "0    5.74373     0.548645     0.870959    4.32413  1.86304   0.407753   \n",
       "1    3.35684     0.507946     0.509923    2.33897  7.57753   1.958650   \n",
       "2    3.09356     0.542803     0.540152    2.01061  1.30469   0.228476   \n",
       "3    3.06394     0.514935     0.508154    2.04085  3.50360   1.000230   \n",
       "4    3.07937     0.513650     0.503059    2.06266  2.70953   0.119245   \n",
       "\n",
       "   val_dfake   val_gen  train_time  val_time  \\\n",
       "0   0.903616  0.551673     33.3848   2.59969   \n",
       "1   0.076199  5.542680     31.2513   2.08367   \n",
       "2   0.513721  0.562493     30.8999   2.10566   \n",
       "3   0.078221  2.425150     30.9352   2.12661   \n",
       "4   2.525070  0.065219     30.7610   2.05313   \n",
       "\n",
       "                                   train_batch_stats  \\\n",
       "0   0.0269089s mean, 2.25991s max, 0.0233279s min...   \n",
       "1   0.0251765s mean, 0.0833974s max, 0.0182697s m...   \n",
       "2   0.0248913s mean, 0.178034s max, 0.0182741s mi...   \n",
       "3   0.0249125s mean, 0.0794946s max, 0.0184069s m...   \n",
       "4   0.0247788s mean, 0.095029s max, 0.0181971s mi...   \n",
       "\n",
       "                                     val_batch_stats  \n",
       "0   0.00839889s mean, 0.288749s max, 0.00618833s ...  \n",
       "1   0.0067227s mean, 0.0470178s max, 0.00622632s ...  \n",
       "2   0.00679497s mean, 0.0508984s max, 0.00621744s...  \n",
       "3   0.00686263s mean, 0.0655146s max, 0.00628522s...  \n",
       "4   0.0066244s mean, 0.0576311s max, 0.00619922s ...  "
      ]
     },
     "execution_count": 12,
     "metadata": {},
     "output_type": "execute_result"
    }
   ],
   "source": [
    "# df.columns\n",
    "df.head()\n",
    "# col_list=['train_obj', 'train_dreal', 'train_dfake', 'train_gen', 'val_obj', 'val_dreal', 'val_dfake', 'val_gen', 'train_time', 'val_time']\n",
    "# df[col_list]"
   ]
  },
  {
   "cell_type": "code",
   "execution_count": 13,
   "metadata": {},
   "outputs": [
    {
     "data": {
      "application/vnd.jupyter.widget-view+json": {
       "model_id": "8a6ee31b119f4bfbb2f8023b63c11ed3",
       "version_major": 2,
       "version_minor": 0
      },
      "text/plain": [
       "Canvas(toolbar=Toolbar(toolitems=[('Home', 'Reset original view', 'home', 'home'), ('Back', 'Back to previous …"
      ]
     },
     "metadata": {},
     "output_type": "display_data"
    }
   ],
   "source": [
    "def f_plot(df,col_list=['train_obj']):\n",
    "    '''\n",
    "    Plot multiple columns of the dataframe\n",
    "    '''\n",
    "    plt.figure()\n",
    "    \n",
    "    marker_lst=('o','*','H','D','.','x')\n",
    "    marker=itertools.cycle(marker_lst)\n",
    "    for col in col_list: plt.plot(df[col],linestyle='',marker=next(marker),label=col)\n",
    "    plt.legend()\n",
    "    plt.xlabel('Epoch')\n",
    "\n",
    "f_plot(df,col_list=['train_obj','train_dfake','train_dreal','train_gen'])\n",
    "\n",
    "# plt.savefig('fig2.png')"
   ]
  },
  {
   "cell_type": "code",
   "execution_count": 14,
   "metadata": {},
   "outputs": [
    {
     "data": {
      "application/vnd.jupyter.widget-view+json": {
       "model_id": "55140a1181e449cdabf62420682ab060",
       "version_major": 2,
       "version_minor": 0
      },
      "text/plain": [
       "interactive(children=(SelectMultiple(description='col_list', options=('train_obj', 'train_dreal', 'train_dfake…"
      ]
     },
     "metadata": {},
     "output_type": "display_data"
    },
    {
     "data": {
      "text/plain": [
       "<function __main__.f_plot(df, col_list=['train_obj'])>"
      ]
     },
     "execution_count": 14,
     "metadata": {},
     "output_type": "execute_result"
    }
   ],
   "source": [
    "### Compare different quantities\n",
    "\n",
    "col_list=['train_obj', 'train_dreal', 'train_dfake', 'train_gen', 'val_obj',\n",
    "       'val_dreal', 'val_dfake', 'val_gen', 'train_time', 'val_time']\n",
    "interact_manual(f_plot,col_list=SelectMultiple(options=col_list),df=fixed(df))\n"
   ]
  },
  {
   "cell_type": "code",
   "execution_count": null,
   "metadata": {},
   "outputs": [],
   "source": []
  },
  {
   "cell_type": "code",
   "execution_count": null,
   "metadata": {},
   "outputs": [],
   "source": []
  }
 ],
 "metadata": {
  "kernelspec": {
   "display_name": "v_py3",
   "language": "python",
   "name": "v_jpt_py3"
  },
  "language_info": {
   "codemirror_mode": {
    "name": "ipython",
    "version": 3
   },
   "file_extension": ".py",
   "mimetype": "text/x-python",
   "name": "python",
   "nbconvert_exporter": "python",
   "pygments_lexer": "ipython3",
   "version": "3.6.8"
  }
 },
 "nbformat": 4,
 "nbformat_minor": 4
}
