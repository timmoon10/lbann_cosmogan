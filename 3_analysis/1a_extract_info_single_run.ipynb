{
 "cells": [
  {
   "cell_type": "markdown",
   "metadata": {},
   "source": [
    "# Extract data from output files\n",
    "\n",
    "### Code to extract timing information from output files of Lbann code\n",
    "March 9, 2020"
   ]
  },
  {
   "cell_type": "code",
   "execution_count": 12,
   "metadata": {},
   "outputs": [],
   "source": [
    "import numpy as np\n",
    "import matplotlib.pyplot as plt\n",
    "import pandas as pd\n",
    "\n",
    "import subprocess as sp\n",
    "import os\n",
    "import glob\n",
    "import itertools\n",
    "\n",
    "from ipywidgets import interact, interact_manual,fixed, SelectMultiple, RadioButtons"
   ]
  },
  {
   "cell_type": "code",
   "execution_count": 13,
   "metadata": {},
   "outputs": [],
   "source": [
    "%matplotlib widget"
   ]
  },
  {
   "cell_type": "markdown",
   "metadata": {},
   "source": [
    "## Extract training times"
   ]
  },
  {
   "cell_type": "code",
   "execution_count": 14,
   "metadata": {},
   "outputs": [],
   "source": [
    "def f_extract_info(fname):\n",
    "    '''\n",
    "    Module to extract information from out.log files of Lbann training\n",
    "    Reads in file name\n",
    "    '''\n",
    "    strg_lst=['objective','d_real','d_fake','gen','run time','mini-batch']\n",
    "    keys=['training_'+strg for strg in strg_lst]\n",
    "    dict1={}\n",
    "    for category in ['training','validation']:\n",
    "        for strg in strg_lst:\n",
    "            key=category+'_'+strg\n",
    "            cmd='grep \"{0}\" {1} | grep \"{2}\"'.format(category,fname,strg)\n",
    "    #         print(cmd)\n",
    "            op1=sp.check_output(cmd,shell=True).decode('utf-8').split('\\n')\n",
    "            obj=np.array([strg.split(':')[-1] for strg in op1 if strg])\n",
    "            dict1[key]=obj\n",
    "    \n",
    "    df=pd.DataFrame([])\n",
    "    key_lst=['training_objective', 'training_d_real', 'training_d_fake', 'training_gen', 'validation_objective', 'validation_d_real', 'validation_d_fake', 'validation_gen']\n",
    "    col_list=['train_obj','train_dreal','train_dfake','train_gen','val_obj','val_dreal','val_dfake','val_gen']\n",
    "    for col,key in zip(col_list,key_lst):\n",
    "        df[col]=dict1[key].astype(np.float)\n",
    "\n",
    "    ### Need to remove the trailing 's' in the timings\n",
    "    for col,key in zip(['train_time','val_time'],['training_run time','validation_run time']):\n",
    "        df[col]=np.array([i[:-1] for i in dict1[key]]).astype(np.float)\n",
    "\n",
    "    for col,key in zip(['train_batch_stats','val_batch_stats'],['training_mini-batch','validation_mini-batch']):\n",
    "        df[col]=dict1[key]\n",
    "        \n",
    "    return df"
   ]
  },
  {
   "cell_type": "code",
   "execution_count": 17,
   "metadata": {},
   "outputs": [],
   "source": [
    "# fname='/global/cfs/cdirs/m3363/vayyar/cosmogan_data/results_data/20200331_131011_exagan/slurm-513349.out'\n",
    "\n",
    "# fname='/global/cfs/cdirs/m3363/vayyar/cosmogan_data/results_data/20200406_080207_exagan_with_mcr/out.log'\n",
    "\n",
    "fname='/global/cfs/cdirs/m3363/vayyar/cosmogan_data/results_data/20200407_093719_exagan_no_mcr/out.log'\n",
    "### Extract information from log file\n",
    "df=f_extract_info(fname)"
   ]
  },
  {
   "cell_type": "code",
   "execution_count": 18,
   "metadata": {},
   "outputs": [
    {
     "data": {
      "text/html": [
       "<div>\n",
       "<style scoped>\n",
       "    .dataframe tbody tr th:only-of-type {\n",
       "        vertical-align: middle;\n",
       "    }\n",
       "\n",
       "    .dataframe tbody tr th {\n",
       "        vertical-align: top;\n",
       "    }\n",
       "\n",
       "    .dataframe thead th {\n",
       "        text-align: right;\n",
       "    }\n",
       "</style>\n",
       "<table border=\"1\" class=\"dataframe\">\n",
       "  <thead>\n",
       "    <tr style=\"text-align: right;\">\n",
       "      <th></th>\n",
       "      <th>train_obj</th>\n",
       "      <th>train_dreal</th>\n",
       "      <th>train_dfake</th>\n",
       "      <th>train_gen</th>\n",
       "      <th>val_obj</th>\n",
       "      <th>val_dreal</th>\n",
       "      <th>val_dfake</th>\n",
       "      <th>val_gen</th>\n",
       "      <th>train_time</th>\n",
       "      <th>val_time</th>\n",
       "      <th>train_batch_stats</th>\n",
       "      <th>val_batch_stats</th>\n",
       "    </tr>\n",
       "  </thead>\n",
       "  <tbody>\n",
       "    <tr>\n",
       "      <th>0</th>\n",
       "      <td>7.46832</td>\n",
       "      <td>0.849779</td>\n",
       "      <td>2.282010</td>\n",
       "      <td>4.33653</td>\n",
       "      <td>10.985300</td>\n",
       "      <td>1.611410</td>\n",
       "      <td>0.071444</td>\n",
       "      <td>9.302410</td>\n",
       "      <td>58.1469</td>\n",
       "      <td>6.46629</td>\n",
       "      <td>0.242068s mean, 3.08499s max, 0.0291886s min,...</td>\n",
       "      <td>0.239425s mean, 0.533345s max, 0.21086s min, ...</td>\n",
       "    </tr>\n",
       "    <tr>\n",
       "      <th>1</th>\n",
       "      <td>4.01244</td>\n",
       "      <td>0.659323</td>\n",
       "      <td>0.851929</td>\n",
       "      <td>2.50119</td>\n",
       "      <td>0.841458</td>\n",
       "      <td>0.365116</td>\n",
       "      <td>0.227073</td>\n",
       "      <td>0.249268</td>\n",
       "      <td>56.9083</td>\n",
       "      <td>6.44995</td>\n",
       "      <td>0.236916s mean, 0.31946s max, 0.0512279s min,...</td>\n",
       "      <td>0.238851s mean, 0.267614s max, 0.107777s min,...</td>\n",
       "    </tr>\n",
       "    <tr>\n",
       "      <th>2</th>\n",
       "      <td>3.88301</td>\n",
       "      <td>0.598949</td>\n",
       "      <td>0.822430</td>\n",
       "      <td>2.46163</td>\n",
       "      <td>6.240420</td>\n",
       "      <td>2.215160</td>\n",
       "      <td>0.080249</td>\n",
       "      <td>3.945020</td>\n",
       "      <td>56.8609</td>\n",
       "      <td>6.19941</td>\n",
       "      <td>0.236691s mean, 0.328631s max, 0.0524485s min...</td>\n",
       "      <td>0.229572s mean, 0.271209s max, 0.116734s min,...</td>\n",
       "    </tr>\n",
       "    <tr>\n",
       "      <th>3</th>\n",
       "      <td>4.11170</td>\n",
       "      <td>0.516936</td>\n",
       "      <td>0.720451</td>\n",
       "      <td>2.87432</td>\n",
       "      <td>0.589632</td>\n",
       "      <td>0.429318</td>\n",
       "      <td>0.093351</td>\n",
       "      <td>0.066963</td>\n",
       "      <td>55.8750</td>\n",
       "      <td>6.14506</td>\n",
       "      <td>0.232604s mean, 0.299107s max, 0.0515669s min...</td>\n",
       "      <td>0.22756s mean, 0.263859s max, 0.120102s min, ...</td>\n",
       "    </tr>\n",
       "    <tr>\n",
       "      <th>4</th>\n",
       "      <td>4.05250</td>\n",
       "      <td>0.469154</td>\n",
       "      <td>0.614447</td>\n",
       "      <td>2.96890</td>\n",
       "      <td>1.647600</td>\n",
       "      <td>0.299654</td>\n",
       "      <td>1.232630</td>\n",
       "      <td>0.115319</td>\n",
       "      <td>55.7336</td>\n",
       "      <td>6.10921</td>\n",
       "      <td>0.232031s mean, 0.359077s max, 0.0519128s min...</td>\n",
       "      <td>0.226233s mean, 0.25216s max, 0.127253s min, ...</td>\n",
       "    </tr>\n",
       "  </tbody>\n",
       "</table>\n",
       "</div>"
      ],
      "text/plain": [
       "   train_obj  train_dreal  train_dfake  train_gen    val_obj  val_dreal  \\\n",
       "0    7.46832     0.849779     2.282010    4.33653  10.985300   1.611410   \n",
       "1    4.01244     0.659323     0.851929    2.50119   0.841458   0.365116   \n",
       "2    3.88301     0.598949     0.822430    2.46163   6.240420   2.215160   \n",
       "3    4.11170     0.516936     0.720451    2.87432   0.589632   0.429318   \n",
       "4    4.05250     0.469154     0.614447    2.96890   1.647600   0.299654   \n",
       "\n",
       "   val_dfake   val_gen  train_time  val_time  \\\n",
       "0   0.071444  9.302410     58.1469   6.46629   \n",
       "1   0.227073  0.249268     56.9083   6.44995   \n",
       "2   0.080249  3.945020     56.8609   6.19941   \n",
       "3   0.093351  0.066963     55.8750   6.14506   \n",
       "4   1.232630  0.115319     55.7336   6.10921   \n",
       "\n",
       "                                   train_batch_stats  \\\n",
       "0   0.242068s mean, 3.08499s max, 0.0291886s min,...   \n",
       "1   0.236916s mean, 0.31946s max, 0.0512279s min,...   \n",
       "2   0.236691s mean, 0.328631s max, 0.0524485s min...   \n",
       "3   0.232604s mean, 0.299107s max, 0.0515669s min...   \n",
       "4   0.232031s mean, 0.359077s max, 0.0519128s min...   \n",
       "\n",
       "                                     val_batch_stats  \n",
       "0   0.239425s mean, 0.533345s max, 0.21086s min, ...  \n",
       "1   0.238851s mean, 0.267614s max, 0.107777s min,...  \n",
       "2   0.229572s mean, 0.271209s max, 0.116734s min,...  \n",
       "3   0.22756s mean, 0.263859s max, 0.120102s min, ...  \n",
       "4   0.226233s mean, 0.25216s max, 0.127253s min, ...  "
      ]
     },
     "execution_count": 18,
     "metadata": {},
     "output_type": "execute_result"
    }
   ],
   "source": [
    "# df.columns\n",
    "df.head()\n",
    "# col_list=['train_obj', 'train_dreal', 'train_dfake', 'train_gen', 'val_obj', 'val_dreal', 'val_dfake', 'val_gen', 'train_time', 'val_time']\n",
    "# df[col_list]"
   ]
  },
  {
   "cell_type": "code",
   "execution_count": 19,
   "metadata": {},
   "outputs": [
    {
     "data": {
      "application/vnd.jupyter.widget-view+json": {
       "model_id": "257d42f5b89f4b61abd5fa46fcdad545",
       "version_major": 2,
       "version_minor": 0
      },
      "text/plain": [
       "Canvas(toolbar=Toolbar(toolitems=[('Home', 'Reset original view', 'home', 'home'), ('Back', 'Back to previous …"
      ]
     },
     "metadata": {},
     "output_type": "display_data"
    }
   ],
   "source": [
    "def f_plot(df,col_list=['train_obj']):\n",
    "    '''\n",
    "    Plot multiple columns of the dataframe\n",
    "    '''\n",
    "    plt.figure()\n",
    "    \n",
    "    marker_lst=('o','*','H','D','.','x')\n",
    "    marker=itertools.cycle(marker_lst)\n",
    "    for col in col_list: plt.plot(df[col],linestyle='',marker=next(marker),label=col)\n",
    "    plt.legend()\n",
    "    plt.xlabel('Epoch')\n",
    "\n",
    "f_plot(df,col_list=['train_obj','train_dfake','train_dreal','train_gen'])\n",
    "\n",
    "# plt.savefig('fig2.png')"
   ]
  },
  {
   "cell_type": "code",
   "execution_count": 20,
   "metadata": {},
   "outputs": [
    {
     "data": {
      "application/vnd.jupyter.widget-view+json": {
       "model_id": "39a5b32d64734c4582d0a98d846ba251",
       "version_major": 2,
       "version_minor": 0
      },
      "text/plain": [
       "interactive(children=(SelectMultiple(description='col_list', options=('train_obj', 'train_dreal', 'train_dfake…"
      ]
     },
     "metadata": {},
     "output_type": "display_data"
    },
    {
     "data": {
      "text/plain": [
       "<function __main__.f_plot(df, col_list=['train_obj'])>"
      ]
     },
     "execution_count": 20,
     "metadata": {},
     "output_type": "execute_result"
    }
   ],
   "source": [
    "### Compare different quantities\n",
    "\n",
    "col_list=['train_obj', 'train_dreal', 'train_dfake', 'train_gen', 'val_obj',\n",
    "       'val_dreal', 'val_dfake', 'val_gen', 'train_time', 'val_time']\n",
    "interact_manual(f_plot,col_list=SelectMultiple(options=col_list),df=fixed(df))\n"
   ]
  },
  {
   "cell_type": "code",
   "execution_count": null,
   "metadata": {},
   "outputs": [],
   "source": []
  }
 ],
 "metadata": {
  "kernelspec": {
   "display_name": "v_py3",
   "language": "python",
   "name": "v_jpt_py3"
  },
  "language_info": {
   "codemirror_mode": {
    "name": "ipython",
    "version": 3
   },
   "file_extension": ".py",
   "mimetype": "text/x-python",
   "name": "python",
   "nbconvert_exporter": "python",
   "pygments_lexer": "ipython3",
   "version": "3.6.8"
  }
 },
 "nbformat": 4,
 "nbformat_minor": 4
}
