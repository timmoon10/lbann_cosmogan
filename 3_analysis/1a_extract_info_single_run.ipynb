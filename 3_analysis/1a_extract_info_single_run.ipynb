{
 "cells": [
  {
   "cell_type": "markdown",
   "metadata": {},
   "source": [
    "# Extract data from output files\n",
    "\n",
    "### Code to extract timing information from output files of Lbann code\n",
    "March 9, 2020"
   ]
  },
  {
   "cell_type": "code",
   "execution_count": 4,
   "metadata": {},
   "outputs": [],
   "source": [
    "import numpy as np\n",
    "import matplotlib.pyplot as plt\n",
    "import pandas as pd\n",
    "\n",
    "import subprocess as sp\n",
    "import os\n",
    "import glob\n",
    "import itertools\n",
    "\n",
    "from ipywidgets import interact, interact_manual,fixed, SelectMultiple, RadioButtons"
   ]
  },
  {
   "cell_type": "code",
   "execution_count": 5,
   "metadata": {},
   "outputs": [],
   "source": [
    "%matplotlib widget"
   ]
  },
  {
   "cell_type": "markdown",
   "metadata": {},
   "source": [
    "## Extract training times"
   ]
  },
  {
   "cell_type": "code",
   "execution_count": 6,
   "metadata": {},
   "outputs": [],
   "source": [
    "def f_extract_info(fname):\n",
    "    '''\n",
    "    Module to extract information from out.log files of Lbann training\n",
    "    Reads in file name\n",
    "    '''\n",
    "    strg_lst=['objective','d_real','d_fake','gen','run time','mini-batch']\n",
    "    keys=['training_'+strg for strg in strg_lst]\n",
    "    dict1={}\n",
    "    for category in ['training','validation']:\n",
    "        for strg in strg_lst:\n",
    "            key=category+'_'+strg\n",
    "            cmd='grep \"{0}\" {1} | grep \"{2}\"'.format(category,fname,strg)\n",
    "    #         print(cmd)\n",
    "            op1=sp.check_output(cmd,shell=True).decode('utf-8').split('\\n')\n",
    "            obj=np.array([strg.split(':')[-1] for strg in op1 if strg])\n",
    "            dict1[key]=obj\n",
    "    \n",
    "    df=pd.DataFrame([])\n",
    "    key_lst=['training_objective', 'training_d_real', 'training_d_fake', 'training_gen', 'validation_objective', 'validation_d_real', 'validation_d_fake', 'validation_gen']\n",
    "    col_list=['train_obj','train_dreal','train_dfake','train_gen','val_obj','val_dreal','val_dfake','val_gen']\n",
    "    for col,key in zip(col_list,key_lst):\n",
    "        df[col]=dict1[key].astype(np.float)\n",
    "\n",
    "    ### Need to remove the trailing 's' in the timings\n",
    "    for col,key in zip(['train_time','val_time'],['training_run time','validation_run time']):\n",
    "        df[col]=np.array([i[:-1] for i in dict1[key]]).astype(np.float)\n",
    "\n",
    "    for col,key in zip(['train_batch_stats','val_batch_stats'],['training_mini-batch','validation_mini-batch']):\n",
    "        df[col]=dict1[key]\n",
    "        \n",
    "    return df"
   ]
  },
  {
   "cell_type": "code",
   "execution_count": 7,
   "metadata": {},
   "outputs": [],
   "source": [
    "# fname='/global/cfs/cdirs/m3363/vayyar/cosmogan_data/results_data/20200331_131011_exagan/slurm-513349.out'\n",
    "\n",
    "# fname='/global/cfs/cdirs/m3363/vayyar/cosmogan_data/results_data/20200406_080207_exagan_with_mcr/out.log'\n",
    "\n",
    "\n",
    "fname='/global/cfs/cdirs/m3363/vayyar/cosmogan_data/results_data/20200409_083646_exagan_with_mcr/slurm-533243.out'\n",
    "fname='/global/cfs/cdirs/m3363/vayyar/cosmogan_data/results_data/20200409_084926_exagan_no_mcr/slurm-533571.out'\n",
    "\n",
    "### Extract information from log file\n",
    "df=f_extract_info(fname)"
   ]
  },
  {
   "cell_type": "code",
   "execution_count": 8,
   "metadata": {},
   "outputs": [
    {
     "data": {
      "text/html": [
       "<div>\n",
       "<style scoped>\n",
       "    .dataframe tbody tr th:only-of-type {\n",
       "        vertical-align: middle;\n",
       "    }\n",
       "\n",
       "    .dataframe tbody tr th {\n",
       "        vertical-align: top;\n",
       "    }\n",
       "\n",
       "    .dataframe thead th {\n",
       "        text-align: right;\n",
       "    }\n",
       "</style>\n",
       "<table border=\"1\" class=\"dataframe\">\n",
       "  <thead>\n",
       "    <tr style=\"text-align: right;\">\n",
       "      <th></th>\n",
       "      <th>train_obj</th>\n",
       "      <th>train_dreal</th>\n",
       "      <th>train_dfake</th>\n",
       "      <th>train_gen</th>\n",
       "      <th>val_obj</th>\n",
       "      <th>val_dreal</th>\n",
       "      <th>val_dfake</th>\n",
       "      <th>val_gen</th>\n",
       "      <th>train_time</th>\n",
       "      <th>val_time</th>\n",
       "      <th>train_batch_stats</th>\n",
       "      <th>val_batch_stats</th>\n",
       "    </tr>\n",
       "  </thead>\n",
       "  <tbody>\n",
       "    <tr>\n",
       "      <th>0</th>\n",
       "      <td>5.12535</td>\n",
       "      <td>0.556332</td>\n",
       "      <td>1.002530</td>\n",
       "      <td>3.56649</td>\n",
       "      <td>7.09542</td>\n",
       "      <td>0.169806</td>\n",
       "      <td>6.839750</td>\n",
       "      <td>0.085863</td>\n",
       "      <td>60.7266</td>\n",
       "      <td>6.24941</td>\n",
       "      <td>0.0408028s mean, 2.21193s max, 0.00929616s mi...</td>\n",
       "      <td>0.0378445s mean, 0.138023s max, 0.0262676s mi...</td>\n",
       "    </tr>\n",
       "    <tr>\n",
       "      <th>1</th>\n",
       "      <td>4.33604</td>\n",
       "      <td>0.423326</td>\n",
       "      <td>0.532036</td>\n",
       "      <td>3.38068</td>\n",
       "      <td>7.98899</td>\n",
       "      <td>1.471260</td>\n",
       "      <td>0.086133</td>\n",
       "      <td>6.431600</td>\n",
       "      <td>58.1091</td>\n",
       "      <td>5.61386</td>\n",
       "      <td>0.0390275s mean, 0.0708043s max, 0.0215448s m...</td>\n",
       "      <td>0.0339907s mean, 0.0494954s max, 0.00281941s ...</td>\n",
       "    </tr>\n",
       "    <tr>\n",
       "      <th>2</th>\n",
       "      <td>5.10068</td>\n",
       "      <td>0.362750</td>\n",
       "      <td>0.426021</td>\n",
       "      <td>4.31190</td>\n",
       "      <td>4.67040</td>\n",
       "      <td>0.353497</td>\n",
       "      <td>0.094371</td>\n",
       "      <td>4.222540</td>\n",
       "      <td>58.1298</td>\n",
       "      <td>5.84680</td>\n",
       "      <td>0.0390748s mean, 0.142523s max, 0.0169916s mi...</td>\n",
       "      <td>0.0354038s mean, 0.0501632s max, 0.00889575s ...</td>\n",
       "    </tr>\n",
       "    <tr>\n",
       "      <th>3</th>\n",
       "      <td>5.49655</td>\n",
       "      <td>0.349429</td>\n",
       "      <td>0.409576</td>\n",
       "      <td>4.73755</td>\n",
       "      <td>2.44828</td>\n",
       "      <td>0.065840</td>\n",
       "      <td>0.321069</td>\n",
       "      <td>2.061370</td>\n",
       "      <td>58.1427</td>\n",
       "      <td>5.95744</td>\n",
       "      <td>0.0390611s mean, 0.0724607s max, 0.0194566s m...</td>\n",
       "      <td>0.0360739s mean, 0.0614507s max, 0.0049039s m...</td>\n",
       "    </tr>\n",
       "    <tr>\n",
       "      <th>4</th>\n",
       "      <td>5.93784</td>\n",
       "      <td>0.328057</td>\n",
       "      <td>0.376206</td>\n",
       "      <td>5.23358</td>\n",
       "      <td>3.40172</td>\n",
       "      <td>0.101533</td>\n",
       "      <td>3.219400</td>\n",
       "      <td>0.080783</td>\n",
       "      <td>58.2104</td>\n",
       "      <td>5.69982</td>\n",
       "      <td>0.0391176s mean, 0.144861s max, 0.0156823s mi...</td>\n",
       "      <td>0.0345126s mean, 0.0506677s max, 0.00278231s ...</td>\n",
       "    </tr>\n",
       "  </tbody>\n",
       "</table>\n",
       "</div>"
      ],
      "text/plain": [
       "   train_obj  train_dreal  train_dfake  train_gen  val_obj  val_dreal  \\\n",
       "0    5.12535     0.556332     1.002530    3.56649  7.09542   0.169806   \n",
       "1    4.33604     0.423326     0.532036    3.38068  7.98899   1.471260   \n",
       "2    5.10068     0.362750     0.426021    4.31190  4.67040   0.353497   \n",
       "3    5.49655     0.349429     0.409576    4.73755  2.44828   0.065840   \n",
       "4    5.93784     0.328057     0.376206    5.23358  3.40172   0.101533   \n",
       "\n",
       "   val_dfake   val_gen  train_time  val_time  \\\n",
       "0   6.839750  0.085863     60.7266   6.24941   \n",
       "1   0.086133  6.431600     58.1091   5.61386   \n",
       "2   0.094371  4.222540     58.1298   5.84680   \n",
       "3   0.321069  2.061370     58.1427   5.95744   \n",
       "4   3.219400  0.080783     58.2104   5.69982   \n",
       "\n",
       "                                   train_batch_stats  \\\n",
       "0   0.0408028s mean, 2.21193s max, 0.00929616s mi...   \n",
       "1   0.0390275s mean, 0.0708043s max, 0.0215448s m...   \n",
       "2   0.0390748s mean, 0.142523s max, 0.0169916s mi...   \n",
       "3   0.0390611s mean, 0.0724607s max, 0.0194566s m...   \n",
       "4   0.0391176s mean, 0.144861s max, 0.0156823s mi...   \n",
       "\n",
       "                                     val_batch_stats  \n",
       "0   0.0378445s mean, 0.138023s max, 0.0262676s mi...  \n",
       "1   0.0339907s mean, 0.0494954s max, 0.00281941s ...  \n",
       "2   0.0354038s mean, 0.0501632s max, 0.00889575s ...  \n",
       "3   0.0360739s mean, 0.0614507s max, 0.0049039s m...  \n",
       "4   0.0345126s mean, 0.0506677s max, 0.00278231s ...  "
      ]
     },
     "execution_count": 8,
     "metadata": {},
     "output_type": "execute_result"
    }
   ],
   "source": [
    "# df.columns\n",
    "df.head()\n",
    "# col_list=['train_obj', 'train_dreal', 'train_dfake', 'train_gen', 'val_obj', 'val_dreal', 'val_dfake', 'val_gen', 'train_time', 'val_time']\n",
    "# df[col_list]"
   ]
  },
  {
   "cell_type": "code",
   "execution_count": 9,
   "metadata": {},
   "outputs": [
    {
     "data": {
      "application/vnd.jupyter.widget-view+json": {
       "model_id": "3bbc768bca8246a58c4e3ed3146c7d87",
       "version_major": 2,
       "version_minor": 0
      },
      "text/plain": [
       "Canvas(toolbar=Toolbar(toolitems=[('Home', 'Reset original view', 'home', 'home'), ('Back', 'Back to previous …"
      ]
     },
     "metadata": {},
     "output_type": "display_data"
    }
   ],
   "source": [
    "def f_plot(df,col_list=['train_obj']):\n",
    "    '''\n",
    "    Plot multiple columns of the dataframe\n",
    "    '''\n",
    "    plt.figure()\n",
    "    \n",
    "    marker_lst=('o','*','H','D','.','x')\n",
    "    marker=itertools.cycle(marker_lst)\n",
    "    for col in col_list: plt.plot(df[col],linestyle='',marker=next(marker),label=col)\n",
    "    plt.legend()\n",
    "    plt.xlabel('Epoch')\n",
    "\n",
    "f_plot(df,col_list=['train_obj','train_dfake','train_dreal','train_gen'])\n",
    "\n",
    "# plt.savefig('fig2.png')"
   ]
  },
  {
   "cell_type": "code",
   "execution_count": 10,
   "metadata": {},
   "outputs": [
    {
     "data": {
      "application/vnd.jupyter.widget-view+json": {
       "model_id": "7f0386d0c851424c8811088e3990f40f",
       "version_major": 2,
       "version_minor": 0
      },
      "text/plain": [
       "interactive(children=(SelectMultiple(description='col_list', options=('train_obj', 'train_dreal', 'train_dfake…"
      ]
     },
     "metadata": {},
     "output_type": "display_data"
    },
    {
     "data": {
      "text/plain": [
       "<function __main__.f_plot(df, col_list=['train_obj'])>"
      ]
     },
     "execution_count": 10,
     "metadata": {},
     "output_type": "execute_result"
    }
   ],
   "source": [
    "### Compare different quantities\n",
    "\n",
    "col_list=['train_obj', 'train_dreal', 'train_dfake', 'train_gen', 'val_obj',\n",
    "       'val_dreal', 'val_dfake', 'val_gen', 'train_time', 'val_time']\n",
    "interact_manual(f_plot,col_list=SelectMultiple(options=col_list),df=fixed(df))\n"
   ]
  },
  {
   "cell_type": "code",
   "execution_count": null,
   "metadata": {},
   "outputs": [],
   "source": []
  }
 ],
 "metadata": {
  "kernelspec": {
   "display_name": "v_py3",
   "language": "python",
   "name": "v_jpt_py3"
  },
  "language_info": {
   "codemirror_mode": {
    "name": "ipython",
    "version": 3
   },
   "file_extension": ".py",
   "mimetype": "text/x-python",
   "name": "python",
   "nbconvert_exporter": "python",
   "pygments_lexer": "ipython3",
   "version": "3.6.8"
  }
 },
 "nbformat": 4,
 "nbformat_minor": 4
}
