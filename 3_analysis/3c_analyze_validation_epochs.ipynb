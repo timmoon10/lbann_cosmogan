{
 "cells": [
  {
   "cell_type": "markdown",
   "metadata": {},
   "source": [
    "# Extract data from output files\n",
    "### Analyze the output from a single LBANN run\n",
    "March 9, 2020 \\\n",
    "April 6, 2020 : to store files in order of epochs \\\n",
    "April 21, 2020: added jupyter widgets to compare pixel intensity plots \\\n",
    "May 8, 2020: using all images for a given batch \\\n",
    "May 29, 2020: Modified for new update of LBANN. File names of images changed, so new extraction code. Also added code for computing chi-squared. \\\n",
    "June 17, 2020: Removed train_inp, train_gen and val_inp to reduce memory overhead. From now on, the code only analyzes val_gen \n",
    "June 26, 2020: Added gathering of steps and new chi-square quantities."
   ]
  },
  {
   "cell_type": "code",
   "execution_count": 1,
   "metadata": {},
   "outputs": [],
   "source": [
    "import numpy as np\n",
    "import matplotlib.pyplot as plt\n",
    "import pandas as pd\n",
    "\n",
    "import subprocess as sp\n",
    "import os\n",
    "import glob\n",
    "import sys\n",
    "\n",
    "import itertools\n",
    "import time\n",
    "from scipy import fftpack\n",
    "# from ipywidgets import interact, interact_manual,fixed, SelectMultiple, IntText, IntSlider, FloatSlider,SelectionSlider,BoundedIntText\n",
    "from ipywidgets import *"
   ]
  },
  {
   "cell_type": "code",
   "execution_count": 2,
   "metadata": {},
   "outputs": [],
   "source": [
    "%matplotlib widget"
   ]
  },
  {
   "cell_type": "code",
   "execution_count": 3,
   "metadata": {},
   "outputs": [
    {
     "name": "stdout",
     "output_type": "stream",
     "text": [
      "[NbConvertApp] Converting notebook modules_image_analysis.ipynb to script\n",
      "[NbConvertApp] Writing 17167 bytes to modules_image_analysis.py\n"
     ]
    }
   ],
   "source": [
    "sys.path.append('/global/u1/v/vpa/project/jpt_notebooks/Cosmology/Cosmo_GAN/repositories/lbann_cosmogan/3_analysis')\n",
    "from modules_image_analysis import *"
   ]
  },
  {
   "cell_type": "code",
   "execution_count": 4,
   "metadata": {},
   "outputs": [],
   "source": [
    "### Transformation functions for image pixel values\n",
    "def f_transform(x):\n",
    "    return 2.*x/(x + 4. + 1e-8) - 1.\n",
    "\n",
    "def f_invtransform(s):\n",
    "    return 4.*(1. + s)/(1. - s + 1e-8)"
   ]
  },
  {
   "cell_type": "code",
   "execution_count": 5,
   "metadata": {
    "jupyter": {
     "source_hidden": true
    }
   },
   "outputs": [],
   "source": [
    "# ### Other transformatino functinos\n",
    "# ### Transformation functions for image pixel values\n",
    "\n",
    "# def f_transform_new(x):\n",
    "#     if x<=50:\n",
    "#         a=0.03; b=-1.0\n",
    "#         return a*x+b\n",
    "#     elif x>50: \n",
    "#         a=0.5/np.log(300)\n",
    "#         b=0.5-a*np.log(50)\n",
    "#         return a*np.log(x)+b\n",
    "\n",
    "# def f_invtransform_new(y):\n",
    "#     if y<=0.5:\n",
    "#         a=0.03;b=-1.0\n",
    "#         return (y-b)/a\n",
    "#     elif y>0.5: \n",
    "#         a=0.5/np.log(300)\n",
    "#         b=0.5-a*np.log(50)\n",
    "#         return np.exp((y-b)/a)\n",
    "    \n",
    "\n",
    "# def f_transform(x):\n",
    "#     return np.vectorize(f_transform_new)(x)\n",
    "\n",
    "# def f_invtransform(s):\n",
    "#     return np.vectorize(f_invtransform_new)(s)\n",
    "\n",
    "# f_transform_new(2000)"
   ]
  },
  {
   "cell_type": "markdown",
   "metadata": {},
   "source": [
    "### Modules for Extraction"
   ]
  },
  {
   "cell_type": "code",
   "execution_count": 6,
   "metadata": {},
   "outputs": [],
   "source": [
    "def f_get_files_df_sorted():\n",
    "    '''\n",
    "    Module to create Dataframe with filenames for each epoch and step\n",
    "    Sorts by step and epoch\n",
    "    '''\n",
    "    \n",
    "    ## Get images files and .npy arrays for each image in dump_outs folder\n",
    "    t1=time.time()\n",
    "    files_dict={}\n",
    "#     keys=['train_gen','train_input','val_gen','val_input']\n",
    "#     file_strg_lst=['model0-training*-gen_img*-output0.npy','model0-training*-inp_img*-output0.npy','model0-validation*-gen_img*-output0.npy','model0-validation*-inp_img*-output0.npy']\n",
    "#     file_strg_lst=['sgd.training*_gen_img*_output0.npy','sgd.training*_inp_img*_output0.npy','sgd.validation*_gen_img*_output0.npy','sgd.validation*_inp_img*_output0.npy']\n",
    "\n",
    "    keys=['val_gen']\n",
    "    file_strg_lst=['sgd.validation*_gen_img*_output0.npy']\n",
    "    \n",
    "    for key,file_strg in zip(keys,file_strg_lst):\n",
    "        files_dict[key]=np.array(glob.glob(main_dir+file_strg))\n",
    "        if files_dict[key].shape[0]>1000 : \n",
    "            print('Warning the number of files is very large. Possibility of memory overload')\n",
    "    \n",
    "    df_files=pd.DataFrame([])\n",
    "    dict1={}\n",
    "    t1=time.time()\n",
    "    ### First get sorted Dataframe with file names\n",
    "    for key in keys:\n",
    "        files_arr=files_dict[key]  # Get array of files\n",
    "        print(key,len(files_arr))\n",
    "        for fname in files_arr:\n",
    "            ### Extract the Epoch number and step number from the file name\n",
    "            dict1['img_type']=key\n",
    "            dict1['epoch']=np.int32(fname.split('epoch')[-1].split('.')[1])\n",
    "            dict1['step']=np.int64(fname.split('step')[-1].split('.')[1].split('_')[0])\n",
    "            dict1['fname']=fname\n",
    "            \n",
    "            df_files=df_files.append(dict1,ignore_index=True)\n",
    "    ## Sort values\n",
    "    df_files=df_files.sort_values(by=['img_type','epoch','step']).reset_index(drop=True)\n",
    "    # df_files\n",
    "    t2=time.time()\n",
    "    print(\"Time for Sorting\",t2-t1)\n",
    "    \n",
    "    return df_files\n",
    "\n",
    "\n",
    "def f_filter_epoch(df_input,num_sliced=1):\n",
    "    '''\n",
    "    Get just equally spaced steps for each epoch\n",
    "    '''\n",
    "    print('Extracting %s steps of each epoch'%(num_sliced))\n",
    "    df_output=pd.DataFrame([])\n",
    "#     for key in ['train_gen','train_input','val_gen','val_input']: \n",
    "    for key in ['val_gen']: \n",
    "        ### For each type of images, get list of epochs\n",
    "        df1=df_input[df_input.img_type==key]\n",
    "        epochs=np.unique(df1.epoch.values).astype(int)\n",
    "\n",
    "        for epoch in epochs:### Extract the last few steps in each epoch\n",
    "            arr_step=df1[df1.epoch==epoch].step.values   ## Get all steps\n",
    "            idxs=np.round(np.linspace(0,len(arr_step)-1,num_sliced).astype(int)) ## Get indices with equal spacing \n",
    "            df2=df1[df1.step.isin(arr_step[idxs])]        ## Get dataframe with these steps\n",
    "            df_output=df_output.append(df2)  \n",
    "    \n",
    "    return df_output.reset_index(drop=True)\n",
    "\n",
    "def f_get_images_df(df_files):\n",
    "    '''\n",
    "    Read dataframe with file names, read files and create new dataframe with images as numpy arrays\n",
    "    Also computes number of images with intensity beyond a cutoff\n",
    "    '''\n",
    "    \n",
    "    def f_row(df_row):\n",
    "        '''\n",
    "        Extract image\n",
    "        '''\n",
    "        fname,key=df_row.fname,df_row.img_type\n",
    "        a1=np.load(fname)\n",
    "        if key.endswith('input'): \n",
    "            size=np.int(np.sqrt(a1.shape[-1])) ### Extract size of images (=128)\n",
    "            batch_size=a1.shape[0] ### Number of batches\n",
    "            samples=a1.reshape(batch_size,size,size)\n",
    "        elif key.endswith('gen') : samples=a1[:,0,:,:]\n",
    "        else : raise SystemError\n",
    "\n",
    "        return samples\n",
    "    \n",
    "    def f_high_pixel(df_row,cutoff=0.9966):\n",
    "        '''\n",
    "        Get number of images with a pixel about max cut-off value\n",
    "        '''\n",
    "        max_arr=np.amax(df_row.images,axis=(1,2))\n",
    "        num_large=max_arr[max_arr>cutoff].shape[0]\n",
    "\n",
    "        return num_large\n",
    "    \n",
    "    t1=time.time()\n",
    "    ##### Create new Dataframe with sorted images\n",
    "    df=df_files.copy()\n",
    "    df['images']=df.apply(lambda row: f_row(row), axis=1)\n",
    "    t2=time.time()\n",
    "    print(\"Time for Reading images\",t2-t1)\n",
    "    \n",
    "    ### Store the number of images with large pixel value\n",
    "    cutoff=0.9966\n",
    "    df['num_large']=df.apply(lambda row: f_high_pixel(row,cutoff), axis=1)\n",
    "    \n",
    "    return df\n",
    "    \n"
   ]
  },
  {
   "cell_type": "code",
   "execution_count": 7,
   "metadata": {},
   "outputs": [],
   "source": [
    "def f_get_sample_epochs(df,img_type,start_epoch=None,end_epoch=None):\n",
    "    '''\n",
    "    Module to extract images for a range of epochs given a dataframe\n",
    "    '''\n",
    "    if start_epoch==None and end_epoch==None:\n",
    "        max_epoch=np.int(np.max(df.epoch.values))\n",
    "#         print(max_epoch)\n",
    "        start_epoch=0; end_epoch=max_epoch\n",
    "#     if end_epoch==None: end_epoch=start_epoch+1\n",
    "    \n",
    "    arr=df[(df.epoch>=start_epoch) & (df.epoch<=end_epoch) & (df.img_type==img_type)].images.values\n",
    "    arr=np.vstack(arr)\n",
    "    \n",
    "    return arr\n",
    "\n",
    "\n",
    "def f_get_step(df,img_type,epoch,step):\n",
    "    '''\n",
    "    Module to extract images for a specific step and epoch\n",
    "    '''\n",
    "    \n",
    "    arr=df[(df.epoch==epoch) & (df.step==step) & (df.img_type==img_type)].images.values\n",
    "    arr=np.vstack(arr)\n",
    "    \n",
    "    return arr\n",
    "\n",
    "def f_get_step_group(df,img_type,step_list):\n",
    "    '''\n",
    "    Module to extract images for a range of epochs given a dataframe\n",
    "    '''\n",
    "    arr=df[(df.step.isin(step_list)) & (df.img_type==img_type)].images.values\n",
    "    arr=np.vstack(arr)\n",
    "    \n",
    "    return arr"
   ]
  },
  {
   "cell_type": "markdown",
   "metadata": {},
   "source": [
    "## Extract image data "
   ]
  },
  {
   "cell_type": "code",
   "execution_count": 8,
   "metadata": {},
   "outputs": [
    {
     "name": "stdout",
     "output_type": "stream",
     "text": [
      "/global/cfs/cdirs/m3363/vayyar/cosmogan_data/results_data/20200629_090438_batchsize_512//dump_outs/trainer0/model0/\n"
     ]
    }
   ],
   "source": [
    "# fldr_name='20200529_111342_seed3273_80epochs'\n",
    "# fldr_name='20200626_075510_batchsize_256/'\n",
    "# fldr_name='20200626_174615_batchsize_512/'\n",
    "fldr_name='20200629_090438_batchsize_512/'\n",
    "main_dir='/global/cfs/cdirs/m3363/vayyar/cosmogan_data/results_data/{0}/dump_outs/trainer0/model0/'.format(fldr_name)\n",
    "print(main_dir)"
   ]
  },
  {
   "cell_type": "code",
   "execution_count": 9,
   "metadata": {},
   "outputs": [
    {
     "name": "stdout",
     "output_type": "stream",
     "text": [
      "(8000, 128, 128)\n"
     ]
    }
   ],
   "source": [
    "### Extract validation data\n",
    "fname='/global/cfs/cdirs/m3363/vayyar/cosmogan_data/raw_data/dataset_2_smoothing_200k/norm_1_train_val.npy'\n",
    "s_val=np.load(fname,mmap_mode='r')[:8000][:,0,:,:]\n",
    "print(s_val.shape)"
   ]
  },
  {
   "cell_type": "code",
   "execution_count": 10,
   "metadata": {},
   "outputs": [
    {
     "name": "stdout",
     "output_type": "stream",
     "text": [
      "val_gen 715\n",
      "Time for Sorting 2.7421348094940186\n",
      "Extracting 6 steps of each epoch\n",
      "Time for Reading images 22.979392528533936\n",
      "(300, 6)\n"
     ]
    }
   ],
   "source": [
    "### Get dataframe with file names, sorted by epoch and step\n",
    "df_files=f_get_files_df_sorted()\n",
    "### Slice out rows to keep only the last few steps for each epoch.\n",
    "df_files=f_filter_epoch(df_files,num_sliced=6)\n",
    "\n",
    "#############################################################\n",
    "### Read images one by one into a numpy array and create a new DataFrame\n",
    "df_full=f_get_images_df(df_files)\n",
    "print(df_full.shape)\n",
    "# ### Filter to keep just one step per epoch\n",
    "# df_full=f_filter_epoch(df_full,1)"
   ]
  },
  {
   "cell_type": "code",
   "execution_count": 27,
   "metadata": {},
   "outputs": [],
   "source": [
    "# df_files.head(20)"
   ]
  },
  {
   "cell_type": "markdown",
   "metadata": {},
   "source": [
    "## Chi-square"
   ]
  },
  {
   "cell_type": "code",
   "execution_count": 12,
   "metadata": {},
   "outputs": [],
   "source": [
    "def f_compute_chisqr(df,s_input):\n",
    "    ''' Compute chi-sqr values of pixel intensity histogram and spectrum for each row\n",
    "    Uses the module f_pixel_intensity to compute histograms and f_compute_spectrum for spectrum\n",
    "    '''\n",
    "    \n",
    "    def f_chisqr(df_row,val_hist,val_err,val_spec,val_spec_err,bins,transform):\n",
    "        ''' Compute chi-sqr of rows wrt to input data'''\n",
    "        \n",
    "        val_dr=val_hist.copy()\n",
    "        val_dr[val_dr<=0.]=1.0    ### Avoiding division by zero for zero bins\n",
    "        \n",
    "        ### Get all images in a batch\n",
    "        sample=df_row.images if not transform else f_invtransform(df_row.images)\n",
    "\n",
    "        ### Compute pixel histogram for row   ### !!Both pixel histograms MUST have same bins and normalization!\n",
    "        gen_hist,gen_err=f_pixel_intensity(sample,plot=False,normalize=True,bins=bins,mode='avg')\n",
    "        spec,spec_err=f_compute_spectrum(sample,plot=False)\n",
    "\n",
    "        ### Compute chi-sqr\n",
    "        ### Used in keras code : np.sum(np.divide(np.power(valhist - samphist, 2.0), valhist))\n",
    "        ###  chi_sqr :: sum((Obs-Val)^2/(Val))\n",
    "        sq_diff=(gen_hist-val_hist)**2        \n",
    "        chi_sqr_list=[]\n",
    "        \n",
    "        for count,(start,end) in enumerate(zip([0,22,38,0],[22,38,None,None])):  # 4 lists : small, medium, large pixel values and full \n",
    "            chi_sqr_list.append(np.sum(np.divide(sq_diff[start:end],val_dr[start:end])))\n",
    "        \n",
    "        idx=None  # Choosing the number of histograms to use. Eg : -5 to skip last 5 bins\n",
    "        \n",
    "        chi_sqr_list.append(np.sum(np.divide(sq_diff[:idx],1.0))) ## chi-sqr without denominator division\n",
    "        chi_sqr_list.append(np.sum(gen_err[:idx])/np.sum(val_err[:idx])) ## measures total spread in histograms wrt to input data\n",
    "        \n",
    "        ### computing the spectral loss chi-square\n",
    "        chi_sqr_list.append(np.sum((val_spec[:50]-spec[:50])**2/(spec[:50]**2)))\n",
    "        \n",
    "#         chi_sqr1=np.sum(np.divide(np.power(gen_hist[:idx] - val_hist[:idx], 2.0), val_dr[:idx]))\n",
    "#         chi_sqr2=np.sum(np.divide(np.power(gen_hist[:idx] - val_hist[:idx], 2.0), 1.0))\n",
    "#         chi_sqr3=np.sum(gen_err[:idx])/np.sum(val_err[:idx])  ## measures total spread in histograms wrt to input data\n",
    "        \n",
    "        return chi_sqr_list\n",
    "    \n",
    "    ########################\n",
    "    ###### Code starts ########\n",
    "    transform=False  # If true, it computes histogram in the orignal scale of pixels ie. 0-2000 \n",
    "    \n",
    "    ## Get bins for histograms\n",
    "    bins=np.concatenate([np.array([-0.5]),np.arange(0.5,20.5,1),np.arange(20.5,100.5,5),np.arange(100.5,1000.5,50),np.array([2000])]) #bin edges to use\n",
    "    if not transform: bins=f_transform(bins)   ### scale to (-1,1)\n",
    "#     bins=100\n",
    "#     print(bins)\n",
    "    \n",
    "    ### Get pixel histogram of all input data\n",
    "    val_hist,val_err=f_pixel_intensity(s_input,plot=False,normalize=True,bins=bins,mode='avg')    \n",
    "    ### Computing spectrum ###\n",
    "    val_spec,val_spec_err=f_compute_spectrum(s_input,plot=False)\n",
    "    del s_input\n",
    "\n",
    "\n",
    "    ### Get chi-sqr for each row (step-epoch) for generated data\n",
    "    chi_sqrs=df.apply(lambda row: f_chisqr(row,val_hist=val_hist,val_err=val_err,val_spec=val_spec,val_spec_err=val_spec_err,bins=bins,transform=transform), axis=1).values\n",
    "    chi_vals=np.array(list(zip(*chi_sqrs)))  ## transposing list of list\n",
    "        \n",
    "    chi_sqr_keys=['chi_sqr1a','chi_sqr1b','chi_sqr1c','chi_sqr1d','chi_sqr2','chi_img_var','chi_spec']\n",
    "    for key,chi_val in zip(chi_sqr_keys,chi_vals):\n",
    "        df[key]=chi_val\n",
    "    \n",
    "    return df\n",
    "\n",
    "def f_get_best_chisqr_models(df):\n",
    "    \n",
    "    chi_sqr_keys=['chi_sqr1a','chi_sqr1b','chi_sqr1c','chi_sqr1d','chi_sqr2','chi_img_var','chi_spec']\n",
    "    q_dict=dict(df.quantile(q=0.15,axis=0)[chi_sqr_keys])\n",
    "    print(q_dict)\n",
    "    \n",
    "    df_sliced=df.query('chi_sqr1d < {0} & chi_spec < {1}'.format(q_dict['chi_sqr1d'],q_dict['chi_spec']))[['epoch','step','img_type','num_large']+chi_sqr_keys]\n",
    "    \n",
    "    return df_sliced\n"
   ]
  },
  {
   "cell_type": "code",
   "execution_count": 13,
   "metadata": {},
   "outputs": [
    {
     "name": "stdout",
     "output_type": "stream",
     "text": [
      "Time to compute chi-sqr 375.5384786128998\n"
     ]
    }
   ],
   "source": [
    "t1=time.time()\n",
    "# df1=f_compute_chisqr(df_full.loc[[0,1,2,3]],s_val) # Test on small df\n",
    "df_full=f_compute_chisqr(df_full,s_val)\n",
    "t2=time.time()\n",
    "print(\"Time to compute chi-sqr\",t2-t1)"
   ]
  },
  {
   "cell_type": "code",
   "execution_count": 14,
   "metadata": {},
   "outputs": [],
   "source": [
    "df=df_full.copy()"
   ]
  },
  {
   "cell_type": "code",
   "execution_count": 21,
   "metadata": {},
   "outputs": [
    {
     "name": "stdout",
     "output_type": "stream",
     "text": [
      "{'chi_sqr1a': 0.03588829026648885, 'chi_sqr1b': 0.006592220897737583, 'chi_sqr1c': 0.006187053051378571, 'chi_sqr1d': 0.07143567507842313, 'chi_sqr2': 0.008153712444081182, 'chi_img_var': 3.331211063385375, 'chi_spec': 0.7088753409848016}\n",
      "(21, 11)\n"
     ]
    }
   ],
   "source": [
    "df_sliced=f_get_best_chisqr_models(df_full)\n",
    "print(df_sliced.shape)"
   ]
  },
  {
   "cell_type": "code",
   "execution_count": 16,
   "metadata": {},
   "outputs": [],
   "source": [
    "# df_full.sort_values(by=['chi_sqr1d'])[['epoch','chi_sqr1a']].head(20)\n",
    "# Get row with min chi-sqr\n",
    "# df.loc[df.chi_sqr1.idxmin(axis=1)][['epoch','step','chi_sqr1','chi_sqr2','chi_sqr3','img_type']]\n",
    "# chi_sqr_keys=['chi_sqr1a','chi_sqr1b','chi_sqr1c','chi_sqr1d','chi_sqr2','chi_img_var','chi_spec']\n",
    "# df_full[chi_sqr_keys].describe()\n",
    "# df_full[chi_sqr_keys]"
   ]
  },
  {
   "cell_type": "code",
   "execution_count": 22,
   "metadata": {},
   "outputs": [
    {
     "data": {
      "text/html": [
       "<div>\n",
       "<style scoped>\n",
       "    .dataframe tbody tr th:only-of-type {\n",
       "        vertical-align: middle;\n",
       "    }\n",
       "\n",
       "    .dataframe tbody tr th {\n",
       "        vertical-align: top;\n",
       "    }\n",
       "\n",
       "    .dataframe thead th {\n",
       "        text-align: right;\n",
       "    }\n",
       "</style>\n",
       "<table border=\"1\" class=\"dataframe\">\n",
       "  <thead>\n",
       "    <tr style=\"text-align: right;\">\n",
       "      <th></th>\n",
       "      <th>epoch</th>\n",
       "      <th>step</th>\n",
       "      <th>img_type</th>\n",
       "      <th>num_large</th>\n",
       "      <th>chi_sqr1a</th>\n",
       "      <th>chi_sqr1b</th>\n",
       "      <th>chi_sqr1c</th>\n",
       "      <th>chi_sqr1d</th>\n",
       "      <th>chi_sqr2</th>\n",
       "      <th>chi_img_var</th>\n",
       "      <th>chi_spec</th>\n",
       "    </tr>\n",
       "  </thead>\n",
       "  <tbody>\n",
       "    <tr>\n",
       "      <th>112</th>\n",
       "      <td>18.0</td>\n",
       "      <td>1876.0</td>\n",
       "      <td>val_gen</td>\n",
       "      <td>0</td>\n",
       "      <td>0.007126</td>\n",
       "      <td>0.026790</td>\n",
       "      <td>0.011093</td>\n",
       "      <td>0.045009</td>\n",
       "      <td>0.001716</td>\n",
       "      <td>4.745215</td>\n",
       "      <td>0.703618</td>\n",
       "    </tr>\n",
       "    <tr>\n",
       "      <th>113</th>\n",
       "      <td>18.0</td>\n",
       "      <td>1897.0</td>\n",
       "      <td>val_gen</td>\n",
       "      <td>0</td>\n",
       "      <td>0.007375</td>\n",
       "      <td>0.020837</td>\n",
       "      <td>0.006688</td>\n",
       "      <td>0.034900</td>\n",
       "      <td>0.001844</td>\n",
       "      <td>4.719203</td>\n",
       "      <td>0.672125</td>\n",
       "    </tr>\n",
       "    <tr>\n",
       "      <th>175</th>\n",
       "      <td>29.0</td>\n",
       "      <td>2919.0</td>\n",
       "      <td>val_gen</td>\n",
       "      <td>0</td>\n",
       "      <td>0.058320</td>\n",
       "      <td>0.006911</td>\n",
       "      <td>0.005336</td>\n",
       "      <td>0.070567</td>\n",
       "      <td>0.049767</td>\n",
       "      <td>4.175418</td>\n",
       "      <td>0.654354</td>\n",
       "    </tr>\n",
       "    <tr>\n",
       "      <th>198</th>\n",
       "      <td>33.0</td>\n",
       "      <td>3304.0</td>\n",
       "      <td>val_gen</td>\n",
       "      <td>0</td>\n",
       "      <td>0.012148</td>\n",
       "      <td>0.004810</td>\n",
       "      <td>0.008936</td>\n",
       "      <td>0.025895</td>\n",
       "      <td>0.006274</td>\n",
       "      <td>4.655401</td>\n",
       "      <td>0.351116</td>\n",
       "    </tr>\n",
       "    <tr>\n",
       "      <th>199</th>\n",
       "      <td>33.0</td>\n",
       "      <td>3318.0</td>\n",
       "      <td>val_gen</td>\n",
       "      <td>0</td>\n",
       "      <td>0.013496</td>\n",
       "      <td>0.005326</td>\n",
       "      <td>0.001932</td>\n",
       "      <td>0.020754</td>\n",
       "      <td>0.005357</td>\n",
       "      <td>4.640286</td>\n",
       "      <td>0.370312</td>\n",
       "    </tr>\n",
       "    <tr>\n",
       "      <th>200</th>\n",
       "      <td>33.0</td>\n",
       "      <td>3339.0</td>\n",
       "      <td>val_gen</td>\n",
       "      <td>0</td>\n",
       "      <td>0.011663</td>\n",
       "      <td>0.005176</td>\n",
       "      <td>0.006868</td>\n",
       "      <td>0.023708</td>\n",
       "      <td>0.006300</td>\n",
       "      <td>4.672358</td>\n",
       "      <td>0.347492</td>\n",
       "    </tr>\n",
       "    <tr>\n",
       "      <th>201</th>\n",
       "      <td>33.0</td>\n",
       "      <td>3353.0</td>\n",
       "      <td>val_gen</td>\n",
       "      <td>0</td>\n",
       "      <td>0.010248</td>\n",
       "      <td>0.006909</td>\n",
       "      <td>0.003488</td>\n",
       "      <td>0.020645</td>\n",
       "      <td>0.007225</td>\n",
       "      <td>4.580767</td>\n",
       "      <td>0.347383</td>\n",
       "    </tr>\n",
       "    <tr>\n",
       "      <th>202</th>\n",
       "      <td>33.0</td>\n",
       "      <td>3374.0</td>\n",
       "      <td>val_gen</td>\n",
       "      <td>0</td>\n",
       "      <td>0.014486</td>\n",
       "      <td>0.003980</td>\n",
       "      <td>0.005090</td>\n",
       "      <td>0.023556</td>\n",
       "      <td>0.005711</td>\n",
       "      <td>4.649281</td>\n",
       "      <td>0.378036</td>\n",
       "    </tr>\n",
       "    <tr>\n",
       "      <th>203</th>\n",
       "      <td>33.0</td>\n",
       "      <td>3395.0</td>\n",
       "      <td>val_gen</td>\n",
       "      <td>0</td>\n",
       "      <td>0.011991</td>\n",
       "      <td>0.004649</td>\n",
       "      <td>0.003003</td>\n",
       "      <td>0.019643</td>\n",
       "      <td>0.006346</td>\n",
       "      <td>4.700131</td>\n",
       "      <td>0.367839</td>\n",
       "    </tr>\n",
       "    <tr>\n",
       "      <th>258</th>\n",
       "      <td>43.0</td>\n",
       "      <td>4305.0</td>\n",
       "      <td>val_gen</td>\n",
       "      <td>0</td>\n",
       "      <td>0.041710</td>\n",
       "      <td>0.004173</td>\n",
       "      <td>0.002920</td>\n",
       "      <td>0.048803</td>\n",
       "      <td>0.029968</td>\n",
       "      <td>4.800277</td>\n",
       "      <td>0.110878</td>\n",
       "    </tr>\n",
       "    <tr>\n",
       "      <th>259</th>\n",
       "      <td>43.0</td>\n",
       "      <td>4319.0</td>\n",
       "      <td>val_gen</td>\n",
       "      <td>0</td>\n",
       "      <td>0.037487</td>\n",
       "      <td>0.005362</td>\n",
       "      <td>0.002570</td>\n",
       "      <td>0.045419</td>\n",
       "      <td>0.027132</td>\n",
       "      <td>4.889422</td>\n",
       "      <td>0.110867</td>\n",
       "    </tr>\n",
       "    <tr>\n",
       "      <th>260</th>\n",
       "      <td>43.0</td>\n",
       "      <td>4340.0</td>\n",
       "      <td>val_gen</td>\n",
       "      <td>0</td>\n",
       "      <td>0.036982</td>\n",
       "      <td>0.006090</td>\n",
       "      <td>0.005339</td>\n",
       "      <td>0.048410</td>\n",
       "      <td>0.028142</td>\n",
       "      <td>4.833819</td>\n",
       "      <td>0.122768</td>\n",
       "    </tr>\n",
       "    <tr>\n",
       "      <th>261</th>\n",
       "      <td>43.0</td>\n",
       "      <td>4354.0</td>\n",
       "      <td>val_gen</td>\n",
       "      <td>0</td>\n",
       "      <td>0.040237</td>\n",
       "      <td>0.003557</td>\n",
       "      <td>0.012198</td>\n",
       "      <td>0.055992</td>\n",
       "      <td>0.029188</td>\n",
       "      <td>4.994561</td>\n",
       "      <td>0.103045</td>\n",
       "    </tr>\n",
       "    <tr>\n",
       "      <th>262</th>\n",
       "      <td>43.0</td>\n",
       "      <td>4375.0</td>\n",
       "      <td>val_gen</td>\n",
       "      <td>0</td>\n",
       "      <td>0.047507</td>\n",
       "      <td>0.001332</td>\n",
       "      <td>0.004802</td>\n",
       "      <td>0.053641</td>\n",
       "      <td>0.032497</td>\n",
       "      <td>5.015172</td>\n",
       "      <td>0.099470</td>\n",
       "    </tr>\n",
       "    <tr>\n",
       "      <th>263</th>\n",
       "      <td>43.0</td>\n",
       "      <td>4396.0</td>\n",
       "      <td>val_gen</td>\n",
       "      <td>0</td>\n",
       "      <td>0.042072</td>\n",
       "      <td>0.004154</td>\n",
       "      <td>0.002705</td>\n",
       "      <td>0.048930</td>\n",
       "      <td>0.029584</td>\n",
       "      <td>4.963773</td>\n",
       "      <td>0.104440</td>\n",
       "    </tr>\n",
       "    <tr>\n",
       "      <th>276</th>\n",
       "      <td>46.0</td>\n",
       "      <td>4606.0</td>\n",
       "      <td>val_gen</td>\n",
       "      <td>0</td>\n",
       "      <td>0.001921</td>\n",
       "      <td>0.001175</td>\n",
       "      <td>0.005286</td>\n",
       "      <td>0.008383</td>\n",
       "      <td>0.000386</td>\n",
       "      <td>4.672566</td>\n",
       "      <td>0.170957</td>\n",
       "    </tr>\n",
       "    <tr>\n",
       "      <th>277</th>\n",
       "      <td>46.0</td>\n",
       "      <td>4620.0</td>\n",
       "      <td>val_gen</td>\n",
       "      <td>0</td>\n",
       "      <td>0.003091</td>\n",
       "      <td>0.000450</td>\n",
       "      <td>0.004465</td>\n",
       "      <td>0.008006</td>\n",
       "      <td>0.000518</td>\n",
       "      <td>4.646646</td>\n",
       "      <td>0.168362</td>\n",
       "    </tr>\n",
       "    <tr>\n",
       "      <th>278</th>\n",
       "      <td>46.0</td>\n",
       "      <td>4641.0</td>\n",
       "      <td>val_gen</td>\n",
       "      <td>0</td>\n",
       "      <td>0.003594</td>\n",
       "      <td>0.000444</td>\n",
       "      <td>0.005216</td>\n",
       "      <td>0.009255</td>\n",
       "      <td>0.000735</td>\n",
       "      <td>4.777196</td>\n",
       "      <td>0.172393</td>\n",
       "    </tr>\n",
       "    <tr>\n",
       "      <th>279</th>\n",
       "      <td>46.0</td>\n",
       "      <td>4655.0</td>\n",
       "      <td>val_gen</td>\n",
       "      <td>0</td>\n",
       "      <td>0.002456</td>\n",
       "      <td>0.000702</td>\n",
       "      <td>0.003768</td>\n",
       "      <td>0.006927</td>\n",
       "      <td>0.000404</td>\n",
       "      <td>4.716143</td>\n",
       "      <td>0.169856</td>\n",
       "    </tr>\n",
       "    <tr>\n",
       "      <th>280</th>\n",
       "      <td>46.0</td>\n",
       "      <td>4676.0</td>\n",
       "      <td>val_gen</td>\n",
       "      <td>0</td>\n",
       "      <td>0.001330</td>\n",
       "      <td>0.000857</td>\n",
       "      <td>0.004002</td>\n",
       "      <td>0.006188</td>\n",
       "      <td>0.000231</td>\n",
       "      <td>4.620464</td>\n",
       "      <td>0.189748</td>\n",
       "    </tr>\n",
       "    <tr>\n",
       "      <th>281</th>\n",
       "      <td>46.0</td>\n",
       "      <td>4697.0</td>\n",
       "      <td>val_gen</td>\n",
       "      <td>0</td>\n",
       "      <td>0.001525</td>\n",
       "      <td>0.001484</td>\n",
       "      <td>0.007151</td>\n",
       "      <td>0.010160</td>\n",
       "      <td>0.000218</td>\n",
       "      <td>4.581695</td>\n",
       "      <td>0.171439</td>\n",
       "    </tr>\n",
       "  </tbody>\n",
       "</table>\n",
       "</div>"
      ],
      "text/plain": [
       "     epoch    step img_type  num_large  chi_sqr1a  chi_sqr1b  chi_sqr1c  \\\n",
       "112   18.0  1876.0  val_gen          0   0.007126   0.026790   0.011093   \n",
       "113   18.0  1897.0  val_gen          0   0.007375   0.020837   0.006688   \n",
       "175   29.0  2919.0  val_gen          0   0.058320   0.006911   0.005336   \n",
       "198   33.0  3304.0  val_gen          0   0.012148   0.004810   0.008936   \n",
       "199   33.0  3318.0  val_gen          0   0.013496   0.005326   0.001932   \n",
       "200   33.0  3339.0  val_gen          0   0.011663   0.005176   0.006868   \n",
       "201   33.0  3353.0  val_gen          0   0.010248   0.006909   0.003488   \n",
       "202   33.0  3374.0  val_gen          0   0.014486   0.003980   0.005090   \n",
       "203   33.0  3395.0  val_gen          0   0.011991   0.004649   0.003003   \n",
       "258   43.0  4305.0  val_gen          0   0.041710   0.004173   0.002920   \n",
       "259   43.0  4319.0  val_gen          0   0.037487   0.005362   0.002570   \n",
       "260   43.0  4340.0  val_gen          0   0.036982   0.006090   0.005339   \n",
       "261   43.0  4354.0  val_gen          0   0.040237   0.003557   0.012198   \n",
       "262   43.0  4375.0  val_gen          0   0.047507   0.001332   0.004802   \n",
       "263   43.0  4396.0  val_gen          0   0.042072   0.004154   0.002705   \n",
       "276   46.0  4606.0  val_gen          0   0.001921   0.001175   0.005286   \n",
       "277   46.0  4620.0  val_gen          0   0.003091   0.000450   0.004465   \n",
       "278   46.0  4641.0  val_gen          0   0.003594   0.000444   0.005216   \n",
       "279   46.0  4655.0  val_gen          0   0.002456   0.000702   0.003768   \n",
       "280   46.0  4676.0  val_gen          0   0.001330   0.000857   0.004002   \n",
       "281   46.0  4697.0  val_gen          0   0.001525   0.001484   0.007151   \n",
       "\n",
       "     chi_sqr1d  chi_sqr2  chi_img_var  chi_spec  \n",
       "112   0.045009  0.001716     4.745215  0.703618  \n",
       "113   0.034900  0.001844     4.719203  0.672125  \n",
       "175   0.070567  0.049767     4.175418  0.654354  \n",
       "198   0.025895  0.006274     4.655401  0.351116  \n",
       "199   0.020754  0.005357     4.640286  0.370312  \n",
       "200   0.023708  0.006300     4.672358  0.347492  \n",
       "201   0.020645  0.007225     4.580767  0.347383  \n",
       "202   0.023556  0.005711     4.649281  0.378036  \n",
       "203   0.019643  0.006346     4.700131  0.367839  \n",
       "258   0.048803  0.029968     4.800277  0.110878  \n",
       "259   0.045419  0.027132     4.889422  0.110867  \n",
       "260   0.048410  0.028142     4.833819  0.122768  \n",
       "261   0.055992  0.029188     4.994561  0.103045  \n",
       "262   0.053641  0.032497     5.015172  0.099470  \n",
       "263   0.048930  0.029584     4.963773  0.104440  \n",
       "276   0.008383  0.000386     4.672566  0.170957  \n",
       "277   0.008006  0.000518     4.646646  0.168362  \n",
       "278   0.009255  0.000735     4.777196  0.172393  \n",
       "279   0.006927  0.000404     4.716143  0.169856  \n",
       "280   0.006188  0.000231     4.620464  0.189748  \n",
       "281   0.010160  0.000218     4.581695  0.171439  "
      ]
     },
     "execution_count": 22,
     "metadata": {},
     "output_type": "execute_result"
    }
   ],
   "source": [
    "df_sliced"
   ]
  },
  {
   "cell_type": "code",
   "execution_count": 20,
   "metadata": {},
   "outputs": [
    {
     "data": {
      "application/vnd.jupyter.widget-view+json": {
       "model_id": "bef67d271dee4e79bd59ef09673449a8",
       "version_major": 2,
       "version_minor": 0
      },
      "text/plain": [
       "Canvas(toolbar=Toolbar(toolitems=[('Home', 'Reset original view', 'home', 'home'), ('Back', 'Back to previous …"
      ]
     },
     "metadata": {},
     "output_type": "display_data"
    },
    {
     "data": {
      "text/plain": [
       "<matplotlib.axes._subplots.AxesSubplot at 0x2aaadcc58630>"
      ]
     },
     "execution_count": 20,
     "metadata": {},
     "output_type": "execute_result"
    }
   ],
   "source": [
    "### Plot chi-sqr values\n",
    "df_sliced.plot(x=\"step\", y=[\"chi_sqr1d\", \"chi_img_var\", \"chi_spec\"],style='.',marker='*')"
   ]
  },
  {
   "cell_type": "markdown",
   "metadata": {},
   "source": [
    "### High Pixel images"
   ]
  },
  {
   "cell_type": "code",
   "execution_count": null,
   "metadata": {},
   "outputs": [],
   "source": [
    "### Plot number of high pixel images\n",
    "plt.figure()\n",
    "plt.plot(df[df.img_type=='val_gen'].epoch,df[df.img_type=='val_gen'].num_large,linestyle='',marker='*')\n",
    "plt.xlabel('Steps in Epochs')\n",
    "plt.ylabel('Number of large pixel images from a batch set of 128 images')"
   ]
  },
  {
   "cell_type": "code",
   "execution_count": null,
   "metadata": {},
   "outputs": [],
   "source": [
    "df[(df.num_large>0) &(df.img_type=='val_gen')][['epoch','step','num_large']]"
   ]
  },
  {
   "cell_type": "markdown",
   "metadata": {},
   "source": [
    "## Compare samples"
   ]
  },
  {
   "cell_type": "code",
   "execution_count": 23,
   "metadata": {},
   "outputs": [],
   "source": [
    "def f_widget_compare(sample_names,sample_dict,Fig_type='pixel',rescale=True,log_scale=True,bins=25,mode='avg',normalize=True,bkgnd=[]):\n",
    "    '''\n",
    "    Module to make widget plots for pixel intensity or spectrum comparison for multiple sample sets\n",
    "    '''\n",
    "#     ### Crop out large pixel values\n",
    "#     for key in sample_names:\n",
    "#         print(sample_dict[key].shape)\n",
    "#         sample_dict[key]=np.array([arr for arr in sample_dict[key] if np.max(arr)<=0.994])\n",
    "#         print(sample_dict[key].shape)\n",
    "    \n",
    "    img_list=[sample_dict[key] for key in sample_names]\n",
    "    label_list=list(sample_names)\n",
    "    \n",
    "    \n",
    "    bins=np.concatenate([np.array([-0.5]),np.arange(0.5,20.5,1),np.arange(20.5,100.5,5),np.arange(100.5,1000.5,50),np.array([2000])]) #bin edges to use\n",
    "    \n",
    "    if rescale: \n",
    "        for count,img in enumerate(img_list):\n",
    "            img_list[count]=f_invtransform(img)\n",
    "        if len(bkgnd): bkgnd=f_invtransform(bkgnd)\n",
    "#         hist_range=(0,2000)\n",
    "    else:\n",
    "        bins=f_transform(bins)\n",
    "#         hist_range=(-1,0.996)\n",
    "    assert Fig_type in ['pixel','spectrum'],\"Invalid mode %s\"%(mode)\n",
    "    \n",
    "    if Fig_type=='pixel':\n",
    "#         f_compare_pixel_intensity(img_lst=img_list,label_lst=label_list,normalize=normalize,log_scale=log_scale, mode=mode,bins=bins,hist_range=hist_range)\n",
    "        f_compare_pixel_intensity(img_lst=img_list,label_lst=label_list,normalize=normalize,log_scale=log_scale, mode=mode,bins=bins,hist_range=None,bkgnd_arr=bkgnd)\n",
    "\n",
    "    elif Fig_type=='spectrum':\n",
    "        f_compare_spectrum(img_lst=img_list,label_lst=label_list,log_scale=log_scale,bkgnd_arr=bkgnd)\n"
   ]
  },
  {
   "cell_type": "markdown",
   "metadata": {},
   "source": [
    "### Compare different steps"
   ]
  },
  {
   "cell_type": "code",
   "execution_count": 24,
   "metadata": {},
   "outputs": [
    {
     "data": {
      "application/vnd.jupyter.widget-view+json": {
       "model_id": "a63e01a1a2d54f1fb8add61dadc0ff43",
       "version_major": 2,
       "version_minor": 0
      },
      "text/plain": [
       "interactive(children=(SelectMultiple(description='sample_names', options=('18:1876', '18:1897', '29:2919', '33…"
      ]
     },
     "metadata": {},
     "output_type": "display_data"
    },
    {
     "data": {
      "text/plain": [
       "<function __main__.f_widget_compare(sample_names, sample_dict, Fig_type='pixel', rescale=True, log_scale=True, bins=25, mode='avg', normalize=True, bkgnd=[])>"
      ]
     },
     "execution_count": 24,
     "metadata": {},
     "output_type": "execute_result"
    }
   ],
   "source": [
    "# img_list,labels_list=f_get_sample_epochs(df,'val_gen',10)\n",
    "\n",
    "img_list,labels_list=[],[]\n",
    "for a,b in df_sliced.iterrows():\n",
    "    epoch,step=int(b.epoch),int(b.step)\n",
    "    img_list.append(f_get_step(df,'val_gen',epoch,step))\n",
    "    labels_list.append('%s:%s'%(str(epoch),str(step)))\n",
    "\n",
    "dict_samples=dict.fromkeys(labels_list)\n",
    "for key,val in zip(labels_list,img_list): dict_samples[key]=val\n",
    "\n",
    "dict_samples.keys()\n",
    "# ### Compare with input\n",
    "# # dict_samples['keras']=s_keras\n",
    "# dict_samples['input']=s_val\n",
    "bkgnd=[]\n",
    "bkgnd=s_val\n",
    "interact_manual(f_widget_compare,sample_dict=fixed(dict_samples),\n",
    "                sample_names=SelectMultiple(options=dict_samples.keys()),\n",
    "                Fig_type=ToggleButtons(options=['pixel','spectrum']),bins=IntText(value=50),mode=['avg','simple'],bkgnd=fixed(bkgnd))\n",
    "\n"
   ]
  },
  {
   "cell_type": "markdown",
   "metadata": {},
   "source": [
    "### Plot step groups in best epochs"
   ]
  },
  {
   "cell_type": "code",
   "execution_count": 25,
   "metadata": {},
   "outputs": [
    {
     "name": "stdout",
     "output_type": "stream",
     "text": [
      "[18. 29. 33. 43. 46.]\n",
      "[]\n"
     ]
    }
   ],
   "source": [
    "print(np.unique(df_sliced.epoch.values))\n",
    "step_list=df_sliced[df_sliced.epoch==26].step.values\n",
    "print(step_list)"
   ]
  },
  {
   "cell_type": "code",
   "execution_count": 26,
   "metadata": {},
   "outputs": [
    {
     "name": "stdout",
     "output_type": "stream",
     "text": [
      "18 [1876. 1897.]\n",
      "29 [2919.]\n",
      "33 [3304. 3318. 3339. 3353. 3374. 3395.]\n",
      "43 [4305. 4319. 4340. 4354. 4375. 4396.]\n",
      "46 [4606. 4620. 4641. 4655. 4676. 4697.]\n"
     ]
    },
    {
     "data": {
      "application/vnd.jupyter.widget-view+json": {
       "model_id": "4255b53ca43b4030bf5778dace1475ab",
       "version_major": 2,
       "version_minor": 0
      },
      "text/plain": [
       "interactive(children=(SelectMultiple(description='sample_names', options=('18', '29', '33', '43', '46'), value…"
      ]
     },
     "metadata": {},
     "output_type": "display_data"
    },
    {
     "data": {
      "text/plain": [
       "<function __main__.f_widget_compare(sample_names, sample_dict, Fig_type='pixel', rescale=True, log_scale=True, bins=25, mode='avg', normalize=True, bkgnd=[])>"
      ]
     },
     "execution_count": 26,
     "metadata": {},
     "output_type": "execute_result"
    }
   ],
   "source": [
    "# img_list,labels_list=f_get_sample_epochs(df,'val_gen',10)\n",
    "\n",
    "img_list,labels_list=[],[]\n",
    "for epoch in np.unique(df_sliced.epoch.values).astype(int):\n",
    "    step_list=df_sliced[df_sliced.epoch==epoch].step.values\n",
    "    print(epoch,step_list)\n",
    "    img_list.append(f_get_step_group(df,'val_gen',step_list))\n",
    "    labels_list.append('%s'%(str(epoch)))\n",
    "\n",
    "dict_samples=dict.fromkeys(labels_list)\n",
    "for key,val in zip(labels_list,img_list): dict_samples[key]=val\n",
    "\n",
    "dict_samples.keys()\n",
    "# # ### Compare with input\n",
    "# # # dict_samples['keras']=s_keras\n",
    "# # dict_samples['input']=s_val\n",
    "# bkgnd=[]\n",
    "bkgnd=s_val\n",
    "interact_manual(f_widget_compare,sample_dict=fixed(dict_samples),\n",
    "                sample_names=SelectMultiple(options=dict_samples.keys()),\n",
    "                Fig_type=ToggleButtons(options=['pixel','spectrum']),bins=IntText(value=50),mode=['avg','simple'],bkgnd=fixed(bkgnd))\n",
    "\n"
   ]
  },
  {
   "cell_type": "code",
   "execution_count": null,
   "metadata": {},
   "outputs": [],
   "source": [
    "# img_lst=[f_invtransform(i) for i in img_list]\n",
    "# bins=np.concatenate([np.array([-0.5]),np.arange(0.5,20.5,1),np.arange(20.5,100.5,5),np.arange(100.5,1000.5,50),np.array([2000])]) #bin edges to use\n",
    "# # bins=200\n",
    "# f_compare_pixel_intensity(img_list,labels_list,normalize=True,log_scale=True, mode='avg',bins=bins,hist_range=None)\n",
    "# f_compare_spectrum(img_list,labels_list,log_scale=True)\n"
   ]
  },
  {
   "cell_type": "markdown",
   "metadata": {},
   "source": [
    "## View image block"
   ]
  },
  {
   "cell_type": "code",
   "execution_count": null,
   "metadata": {},
   "outputs": [],
   "source": [
    "def f_plot_grid(arr,cols=16,fig_size=(15,5)):\n",
    "    ''' Plot a grid of images\n",
    "    '''\n",
    "    size=arr.shape[0]    \n",
    "    rows=int(np.ceil(size/cols))\n",
    "    print(rows,cols)\n",
    "    \n",
    "    fig,axarr=plt.subplots(rows,cols,figsize=fig_size, gridspec_kw = {'wspace':0, 'hspace':0})\n",
    "    if rows==1: axarr=np.reshape(axarr,(rows,cols))\n",
    "    if cols==1: axarr=np.reshape(axarr,(rows,cols))\n",
    "    \n",
    "    for i in range(min(rows*cols,size)):\n",
    "        row,col=int(i/cols),i%cols\n",
    "        try: \n",
    "            axarr[row,col].imshow(arr[i],origin='lower',interpolation='nearest',cmap='cool', extent = [0, 128, 0, 128])\n",
    "        # Drop axis label\n",
    "        except Exception as e:\n",
    "            print('Exception:',e)\n",
    "            pass\n",
    "        temp=plt.setp([a.get_xticklabels() for a in axarr[:-1,:].flatten()], visible=False)\n",
    "        temp=plt.setp([a.get_yticklabels() for a in axarr[:,1:].flatten()], visible=False)\n",
    "    \n",
    "#     fig.subplots_adjust(wspace=0.00,hspace=0.000)\n",
    "#     fig.tight_layout()\n",
    "\n",
    "# img_arr=f_get_sample_epochs(df,'val_gen',46,48)[20:50,:,:]\n",
    "f_plot_grid(img_arr,cols=6,fig_size=(10,5))\n"
   ]
  },
  {
   "cell_type": "code",
   "execution_count": 46,
   "metadata": {},
   "outputs": [
    {
     "name": "stdout",
     "output_type": "stream",
     "text": [
      "(512, 128, 128)\n"
     ]
    }
   ],
   "source": [
    "fname='/global/cfs/cdirs/m3363/vayyar/cosmogan_data/results_data/20200629_090438_batchsize_512/dump_outs/trainer0/model0/sgd.validation.epoch.43.step.4319_gen_img_instance1_activation_output0.npy'\n",
    "fname='/global/cfs/cdirs/m3363/vayyar/cosmogan_data/results_data/generate_images/20200629_145233_gen_img_exagan/dump_outs/trainer0/model0/sgd.testing.epoch.0.step.0_gen_img_instance1_activation_output0.npy'\n",
    "s_new=np.load(fname)[:,0,:,:]\n",
    "print(s_new.shape)"
   ]
  },
  {
   "cell_type": "code",
   "execution_count": 47,
   "metadata": {},
   "outputs": [
    {
     "name": "stdout",
     "output_type": "stream",
     "text": [
      "3 6\n"
     ]
    },
    {
     "data": {
      "application/vnd.jupyter.widget-view+json": {
       "model_id": "0b682e7141974d97b5b1503d8b263189",
       "version_major": 2,
       "version_minor": 0
      },
      "text/plain": [
       "Canvas(toolbar=Toolbar(toolitems=[('Home', 'Reset original view', 'home', 'home'), ('Back', 'Back to previous …"
      ]
     },
     "metadata": {},
     "output_type": "display_data"
    }
   ],
   "source": [
    "f_plot_grid(s_new[100:118],cols=6,fig_size=(10,5))"
   ]
  },
  {
   "cell_type": "code",
   "execution_count": 45,
   "metadata": {},
   "outputs": [
    {
     "name": "stdout",
     "output_type": "stream",
     "text": [
      "3 6\n"
     ]
    },
    {
     "data": {
      "application/vnd.jupyter.widget-view+json": {
       "model_id": "9506268686a24d88a8b852031aea98f0",
       "version_major": 2,
       "version_minor": 0
      },
      "text/plain": [
       "Canvas(toolbar=Toolbar(toolitems=[('Home', 'Reset original view', 'home', 'home'), ('Back', 'Back to previous …"
      ]
     },
     "metadata": {},
     "output_type": "display_data"
    }
   ],
   "source": [
    "f_plot_grid(s_new[100:118],cols=6,fig_size=(10,5))"
   ]
  },
  {
   "cell_type": "code",
   "execution_count": null,
   "metadata": {},
   "outputs": [],
   "source": []
  }
 ],
 "metadata": {
  "kernelspec": {
   "display_name": "v_py3",
   "language": "python",
   "name": "v_jpt_py3"
  },
  "language_info": {
   "codemirror_mode": {
    "name": "ipython",
    "version": 3
   },
   "file_extension": ".py",
   "mimetype": "text/x-python",
   "name": "python",
   "nbconvert_exporter": "python",
   "pygments_lexer": "ipython3",
   "version": "3.6.8"
  }
 },
 "nbformat": 4,
 "nbformat_minor": 4
}
