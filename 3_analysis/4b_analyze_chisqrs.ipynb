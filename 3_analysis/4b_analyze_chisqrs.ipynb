{
 "cells": [
  {
   "cell_type": "markdown",
   "metadata": {},
   "source": [
    "# Extract data from output files\n",
    "### Analyze the output from a single LBANN run\n",
    "March 9, 2020 \\\n",
    "April 6, 2020 : to store files in order of epochs \\\n",
    "April 21, 2020: added jupyter widgets to compare pixel intensity plots \\\n",
    "July 30, 2020: Perform analysis with stored histograms."
   ]
  },
  {
   "cell_type": "code",
   "execution_count": 1,
   "metadata": {},
   "outputs": [],
   "source": [
    "import numpy as np\n",
    "import matplotlib.pyplot as plt\n",
    "import seaborn as sns\n",
    "import pandas as pd\n",
    "\n",
    "import subprocess as sp\n",
    "import os\n",
    "import glob\n",
    "import sys\n",
    "\n",
    "import itertools\n",
    "import time\n",
    "\n",
    "from ipywidgets import *"
   ]
  },
  {
   "cell_type": "code",
   "execution_count": 4,
   "metadata": {},
   "outputs": [],
   "source": [
    "%matplotlib widget"
   ]
  },
  {
   "cell_type": "code",
   "execution_count": 5,
   "metadata": {},
   "outputs": [],
   "source": [
    "sys.path.append('/global/u1/v/vpa/project/jpt_notebooks/Cosmology/Cosmo_GAN/repositories/lbann_cosmogan/3_analysis')\n",
    "from modules_image_analysis import *"
   ]
  },
  {
   "cell_type": "code",
   "execution_count": 6,
   "metadata": {},
   "outputs": [],
   "source": [
    "### Transformation functions for image pixel values\n",
    "def f_transform(x):\n",
    "    return 2.*x/(x + 4. + 1e-8) - 1.\n",
    "\n",
    "def f_invtransform(s):\n",
    "    return 4.*(1. + s)/(1. - s + 1e-8)"
   ]
  },
  {
   "cell_type": "markdown",
   "metadata": {},
   "source": [
    "## Extract image data "
   ]
  },
  {
   "cell_type": "code",
   "execution_count": 7,
   "metadata": {},
   "outputs": [
    {
     "name": "stdout",
     "output_type": "stream",
     "text": [
      "(8000, 128, 128)\n"
     ]
    }
   ],
   "source": [
    "### Extract validation data\n",
    "fname='/global/cfs/cdirs/m3363/vayyar/cosmogan_data/raw_data/128_square/dataset_2_smoothing_200k/norm_1_train_val.npy'\n",
    "s_val=np.load(fname,mmap_mode='r')[:8000][:,0,:,:]\n",
    "print(s_val.shape)"
   ]
  },
  {
   "cell_type": "markdown",
   "metadata": {},
   "source": [
    "## Read dataframe"
   ]
  },
  {
   "cell_type": "code",
   "execution_count": 8,
   "metadata": {},
   "outputs": [],
   "source": [
    "fldr_name='20200725_204329_batchsize_256/'\n",
    "# fldr_name='20200725_172458_batchsize_64/'\n",
    "# fldr_name='20200803_055550_batchsize_256/'\n",
    "fldr_name='20200804_152954_batchsize_256/'\n",
    "fldr_name='20200805_124242_batchsize_64/'\n",
    "\n",
    "main_dir='/global/cfs/cdirs/m3363/vayyar/cosmogan_data/results_data/{0}'.format(fldr_name)\n",
    "### Load data\n",
    "df=pd.read_pickle(main_dir+'df_processed.pkle')\n",
    "df[['epoch','step']]=df[['epoch','step']].astype(int)"
   ]
  },
  {
   "cell_type": "code",
   "execution_count": 9,
   "metadata": {},
   "outputs": [
    {
     "data": {
      "text/plain": [
       "(2379, 18)"
      ]
     },
     "execution_count": 9,
     "metadata": {},
     "output_type": "execute_result"
    }
   ],
   "source": [
    "df.head()\n",
    "df.shape"
   ]
  },
  {
   "cell_type": "markdown",
   "metadata": {},
   "source": [
    "### View best epochs"
   ]
  },
  {
   "cell_type": "markdown",
   "metadata": {},
   "source": [
    "#### Locations with best chi_sqr"
   ]
  },
  {
   "cell_type": "code",
   "execution_count": 10,
   "metadata": {},
   "outputs": [
    {
     "data": {
      "text/html": [
       "<div>\n",
       "<style scoped>\n",
       "    .dataframe tbody tr th:only-of-type {\n",
       "        vertical-align: middle;\n",
       "    }\n",
       "\n",
       "    .dataframe tbody tr th {\n",
       "        vertical-align: top;\n",
       "    }\n",
       "\n",
       "    .dataframe thead th {\n",
       "        text-align: right;\n",
       "    }\n",
       "</style>\n",
       "<table border=\"1\" class=\"dataframe\">\n",
       "  <thead>\n",
       "    <tr style=\"text-align: right;\">\n",
       "      <th></th>\n",
       "      <th>epoch</th>\n",
       "      <th>step</th>\n",
       "      <th>chi_1a</th>\n",
       "      <th>chi_1b</th>\n",
       "      <th>chi_1c</th>\n",
       "      <th>chi_1</th>\n",
       "      <th>chi_2</th>\n",
       "      <th>chi_imgvar</th>\n",
       "      <th>chi_spec1</th>\n",
       "      <th>chi_spec2</th>\n",
       "    </tr>\n",
       "  </thead>\n",
       "  <tbody>\n",
       "    <tr>\n",
       "      <th>1573</th>\n",
       "      <td>19</td>\n",
       "      <td>62920</td>\n",
       "      <td>0.000404</td>\n",
       "      <td>0.004823</td>\n",
       "      <td>0.039651</td>\n",
       "      <td>0.044878</td>\n",
       "      <td>0.000117</td>\n",
       "      <td>10.908815</td>\n",
       "      <td>0.580928</td>\n",
       "      <td>3.469822e+03</td>\n",
       "    </tr>\n",
       "    <tr>\n",
       "      <th>1257</th>\n",
       "      <td>15</td>\n",
       "      <td>50280</td>\n",
       "      <td>0.037258</td>\n",
       "      <td>0.000940</td>\n",
       "      <td>0.015134</td>\n",
       "      <td>0.053332</td>\n",
       "      <td>0.032309</td>\n",
       "      <td>11.449739</td>\n",
       "      <td>0.423692</td>\n",
       "      <td>2.430602e+03</td>\n",
       "    </tr>\n",
       "    <tr>\n",
       "      <th>1565</th>\n",
       "      <td>19</td>\n",
       "      <td>62600</td>\n",
       "      <td>0.031476</td>\n",
       "      <td>0.005177</td>\n",
       "      <td>0.001047</td>\n",
       "      <td>0.037700</td>\n",
       "      <td>0.027021</td>\n",
       "      <td>11.064089</td>\n",
       "      <td>0.591548</td>\n",
       "      <td>4.150938e+03</td>\n",
       "    </tr>\n",
       "    <tr>\n",
       "      <th>2202</th>\n",
       "      <td>27</td>\n",
       "      <td>88080</td>\n",
       "      <td>0.001670</td>\n",
       "      <td>0.001417</td>\n",
       "      <td>0.001283</td>\n",
       "      <td>0.004369</td>\n",
       "      <td>0.000545</td>\n",
       "      <td>10.118731</td>\n",
       "      <td>0.846730</td>\n",
       "      <td>6.571624e+03</td>\n",
       "    </tr>\n",
       "    <tr>\n",
       "      <th>557</th>\n",
       "      <td>7</td>\n",
       "      <td>22280</td>\n",
       "      <td>0.000457</td>\n",
       "      <td>0.003804</td>\n",
       "      <td>0.007119</td>\n",
       "      <td>0.011380</td>\n",
       "      <td>0.000086</td>\n",
       "      <td>14.406475</td>\n",
       "      <td>0.591960</td>\n",
       "      <td>2.233916e+03</td>\n",
       "    </tr>\n",
       "    <tr>\n",
       "      <th>2236</th>\n",
       "      <td>28</td>\n",
       "      <td>89440</td>\n",
       "      <td>1.321232</td>\n",
       "      <td>0.294280</td>\n",
       "      <td>0.013186</td>\n",
       "      <td>1.628698</td>\n",
       "      <td>0.901496</td>\n",
       "      <td>1.143094</td>\n",
       "      <td>2047.775792</td>\n",
       "      <td>5.950064e+07</td>\n",
       "    </tr>\n",
       "    <tr>\n",
       "      <th>496</th>\n",
       "      <td>6</td>\n",
       "      <td>19840</td>\n",
       "      <td>0.007926</td>\n",
       "      <td>0.010697</td>\n",
       "      <td>0.097006</td>\n",
       "      <td>0.115628</td>\n",
       "      <td>0.006816</td>\n",
       "      <td>12.910574</td>\n",
       "      <td>0.108318</td>\n",
       "      <td>6.201232e+02</td>\n",
       "    </tr>\n",
       "    <tr>\n",
       "      <th>653</th>\n",
       "      <td>8</td>\n",
       "      <td>26120</td>\n",
       "      <td>0.032204</td>\n",
       "      <td>0.003503</td>\n",
       "      <td>0.063605</td>\n",
       "      <td>0.099312</td>\n",
       "      <td>0.017716</td>\n",
       "      <td>15.363506</td>\n",
       "      <td>0.170640</td>\n",
       "      <td>5.372725e+02</td>\n",
       "    </tr>\n",
       "  </tbody>\n",
       "</table>\n",
       "</div>"
      ],
      "text/plain": [
       "      epoch   step    chi_1a    chi_1b    chi_1c     chi_1     chi_2  \\\n",
       "1573     19  62920  0.000404  0.004823  0.039651  0.044878  0.000117   \n",
       "1257     15  50280  0.037258  0.000940  0.015134  0.053332  0.032309   \n",
       "1565     19  62600  0.031476  0.005177  0.001047  0.037700  0.027021   \n",
       "2202     27  88080  0.001670  0.001417  0.001283  0.004369  0.000545   \n",
       "557       7  22280  0.000457  0.003804  0.007119  0.011380  0.000086   \n",
       "2236     28  89440  1.321232  0.294280  0.013186  1.628698  0.901496   \n",
       "496       6  19840  0.007926  0.010697  0.097006  0.115628  0.006816   \n",
       "653       8  26120  0.032204  0.003503  0.063605  0.099312  0.017716   \n",
       "\n",
       "      chi_imgvar    chi_spec1     chi_spec2  \n",
       "1573   10.908815     0.580928  3.469822e+03  \n",
       "1257   11.449739     0.423692  2.430602e+03  \n",
       "1565   11.064089     0.591548  4.150938e+03  \n",
       "2202   10.118731     0.846730  6.571624e+03  \n",
       "557    14.406475     0.591960  2.233916e+03  \n",
       "2236    1.143094  2047.775792  5.950064e+07  \n",
       "496    12.910574     0.108318  6.201232e+02  \n",
       "653    15.363506     0.170640  5.372725e+02  "
      ]
     },
     "execution_count": 10,
     "metadata": {},
     "output_type": "execute_result"
    }
   ],
   "source": [
    "chi_sqr_keys=['epoch','step','chi_1a','chi_1b','chi_1c','chi_1','chi_2','chi_imgvar','chi_spec1','chi_spec2']\n",
    "# index location of min/max values of chi squares\n",
    "inds=[]\n",
    "for key in ['chi_1a','chi_1b','chi_1c','chi_1','chi_2','chi_imgvar','chi_spec1','chi_spec2']:\n",
    "    inds.append(df[key].idxmin(axis=1))\n",
    "inds=np.array(inds)\n",
    "df.loc[inds][chi_sqr_keys]"
   ]
  },
  {
   "cell_type": "code",
   "execution_count": 11,
   "metadata": {},
   "outputs": [],
   "source": [
    "def f_get_best_chisqr_models(df,cutoff=0.2):\n",
    "    '''\n",
    "    Pick models with lowest 20% chi-square for multiple categories\n",
    "    '''\n",
    "    chi_sqr_keys=[ 'chi_1a', 'chi_1b', 'chi_1c','chi_1', 'chi_2', 'chi_imgvar', 'chi_spec1', 'chi_spec2']\n",
    "    q_dict=dict(df.quantile(q=cutoff,axis=0)[chi_sqr_keys])\n",
    "#     print(q_dict)\n",
    "    \n",
    "    df_sliced=df.query('chi_1 < {0} & chi_spec1 < {1}'.format(q_dict['chi_1'],q_dict['chi_spec1']))\n",
    "    \n",
    "    return df_sliced"
   ]
  },
  {
   "cell_type": "code",
   "execution_count": 12,
   "metadata": {},
   "outputs": [
    {
     "name": "stdout",
     "output_type": "stream",
     "text": [
      "(21, 18)\n"
     ]
    }
   ],
   "source": [
    "df_sliced=f_get_best_chisqr_models(df,cutoff=0.1)\n",
    "print(df_sliced.shape)"
   ]
  },
  {
   "cell_type": "code",
   "execution_count": 13,
   "metadata": {},
   "outputs": [
    {
     "data": {
      "text/html": [
       "<div>\n",
       "<style scoped>\n",
       "    .dataframe tbody tr th:only-of-type {\n",
       "        vertical-align: middle;\n",
       "    }\n",
       "\n",
       "    .dataframe tbody tr th {\n",
       "        vertical-align: top;\n",
       "    }\n",
       "\n",
       "    .dataframe thead th {\n",
       "        text-align: right;\n",
       "    }\n",
       "</style>\n",
       "<table border=\"1\" class=\"dataframe\">\n",
       "  <thead>\n",
       "    <tr style=\"text-align: right;\">\n",
       "      <th></th>\n",
       "      <th>epoch</th>\n",
       "      <th>step</th>\n",
       "      <th>chi_1</th>\n",
       "      <th>chi_spec1</th>\n",
       "    </tr>\n",
       "  </thead>\n",
       "  <tbody>\n",
       "    <tr>\n",
       "      <th>423</th>\n",
       "      <td>5</td>\n",
       "      <td>16920</td>\n",
       "      <td>0.009885</td>\n",
       "      <td>0.303728</td>\n",
       "    </tr>\n",
       "    <tr>\n",
       "      <th>505</th>\n",
       "      <td>6</td>\n",
       "      <td>20200</td>\n",
       "      <td>0.011645</td>\n",
       "      <td>0.292486</td>\n",
       "    </tr>\n",
       "    <tr>\n",
       "      <th>368</th>\n",
       "      <td>4</td>\n",
       "      <td>14720</td>\n",
       "      <td>0.012351</td>\n",
       "      <td>0.204010</td>\n",
       "    </tr>\n",
       "    <tr>\n",
       "      <th>378</th>\n",
       "      <td>4</td>\n",
       "      <td>15120</td>\n",
       "      <td>0.012522</td>\n",
       "      <td>0.218324</td>\n",
       "    </tr>\n",
       "    <tr>\n",
       "      <th>562</th>\n",
       "      <td>7</td>\n",
       "      <td>22480</td>\n",
       "      <td>0.012686</td>\n",
       "      <td>0.212147</td>\n",
       "    </tr>\n",
       "  </tbody>\n",
       "</table>\n",
       "</div>"
      ],
      "text/plain": [
       "     epoch   step     chi_1  chi_spec1\n",
       "423      5  16920  0.009885   0.303728\n",
       "505      6  20200  0.011645   0.292486\n",
       "368      4  14720  0.012351   0.204010\n",
       "378      4  15120  0.012522   0.218324\n",
       "562      7  22480  0.012686   0.212147"
      ]
     },
     "execution_count": 13,
     "metadata": {},
     "output_type": "execute_result"
    }
   ],
   "source": [
    "df_sliced.sort_values(by=['chi_1','chi_spec1'])[['epoch','step','chi_1','chi_spec1']].head(5)"
   ]
  },
  {
   "cell_type": "code",
   "execution_count": 14,
   "metadata": {},
   "outputs": [
    {
     "data": {
      "text/html": [
       "<div>\n",
       "<style scoped>\n",
       "    .dataframe tbody tr th:only-of-type {\n",
       "        vertical-align: middle;\n",
       "    }\n",
       "\n",
       "    .dataframe tbody tr th {\n",
       "        vertical-align: top;\n",
       "    }\n",
       "\n",
       "    .dataframe thead th {\n",
       "        text-align: right;\n",
       "    }\n",
       "</style>\n",
       "<table border=\"1\" class=\"dataframe\">\n",
       "  <thead>\n",
       "    <tr style=\"text-align: right;\">\n",
       "      <th></th>\n",
       "      <th>epoch</th>\n",
       "      <th>step</th>\n",
       "      <th>chi_1</th>\n",
       "      <th>chi_spec1</th>\n",
       "    </tr>\n",
       "  </thead>\n",
       "  <tbody>\n",
       "    <tr>\n",
       "      <th>592</th>\n",
       "      <td>7</td>\n",
       "      <td>23680</td>\n",
       "      <td>0.014951</td>\n",
       "      <td>0.145187</td>\n",
       "    </tr>\n",
       "    <tr>\n",
       "      <th>368</th>\n",
       "      <td>4</td>\n",
       "      <td>14720</td>\n",
       "      <td>0.012351</td>\n",
       "      <td>0.204010</td>\n",
       "    </tr>\n",
       "    <tr>\n",
       "      <th>489</th>\n",
       "      <td>6</td>\n",
       "      <td>19560</td>\n",
       "      <td>0.015864</td>\n",
       "      <td>0.210282</td>\n",
       "    </tr>\n",
       "    <tr>\n",
       "      <th>562</th>\n",
       "      <td>7</td>\n",
       "      <td>22480</td>\n",
       "      <td>0.012686</td>\n",
       "      <td>0.212147</td>\n",
       "    </tr>\n",
       "    <tr>\n",
       "      <th>378</th>\n",
       "      <td>4</td>\n",
       "      <td>15120</td>\n",
       "      <td>0.012522</td>\n",
       "      <td>0.218324</td>\n",
       "    </tr>\n",
       "  </tbody>\n",
       "</table>\n",
       "</div>"
      ],
      "text/plain": [
       "     epoch   step     chi_1  chi_spec1\n",
       "592      7  23680  0.014951   0.145187\n",
       "368      4  14720  0.012351   0.204010\n",
       "489      6  19560  0.015864   0.210282\n",
       "562      7  22480  0.012686   0.212147\n",
       "378      4  15120  0.012522   0.218324"
      ]
     },
     "execution_count": 14,
     "metadata": {},
     "output_type": "execute_result"
    }
   ],
   "source": [
    "df_sliced.sort_values(by=['chi_spec1','chi_1'])[['epoch','step','chi_1','chi_spec1']].head(5)"
   ]
  },
  {
   "cell_type": "code",
   "execution_count": 13,
   "metadata": {},
   "outputs": [
    {
     "data": {
      "application/vnd.jupyter.widget-view+json": {
       "model_id": "644bba2ee2cc42dab6ce86d0d9d124dc",
       "version_major": 2,
       "version_minor": 0
      },
      "text/plain": [
       "Canvas(toolbar=Toolbar(toolitems=[('Home', 'Reset original view', 'home', 'home'), ('Back', 'Back to previous …"
      ]
     },
     "metadata": {},
     "output_type": "display_data"
    },
    {
     "data": {
      "text/plain": [
       "<matplotlib.axes._subplots.AxesSubplot at 0x2aaade3941d0>"
      ]
     },
     "execution_count": 13,
     "metadata": {},
     "output_type": "execute_result"
    }
   ],
   "source": [
    "### Plot chi-sqr values\n",
    "df_sliced.plot(x=\"epoch\", y=[\"chi_1\", \"chi_imgvar\", \"chi_spec1\"],style='.',marker='*')"
   ]
  },
  {
   "cell_type": "markdown",
   "metadata": {},
   "source": [
    "### High Pixel images"
   ]
  },
  {
   "cell_type": "code",
   "execution_count": null,
   "metadata": {},
   "outputs": [],
   "source": [
    "### Plot number of high pixel images\n",
    "plt.figure()\n",
    "plt.plot(df[df.img_type=='train_gen'].step,df[df.img_type=='train_gen'].num_large,linestyle='',marker='*')\n",
    "plt.xlabel('Steps in Epochs')\n",
    "plt.ylabel('Number of large pixel images from a batch of images')"
   ]
  },
  {
   "cell_type": "code",
   "execution_count": null,
   "metadata": {},
   "outputs": [],
   "source": [
    "# df[df.num_large>10]"
   ]
  },
  {
   "cell_type": "markdown",
   "metadata": {},
   "source": [
    "## Compare samples"
   ]
  },
  {
   "cell_type": "code",
   "execution_count": 31,
   "metadata": {},
   "outputs": [],
   "source": []
  },
  {
   "cell_type": "code",
   "execution_count": 30,
   "metadata": {},
   "outputs": [
    {
     "data": {
      "text/html": [
       "<div>\n",
       "<style scoped>\n",
       "    .dataframe tbody tr th:only-of-type {\n",
       "        vertical-align: middle;\n",
       "    }\n",
       "\n",
       "    .dataframe tbody tr th {\n",
       "        vertical-align: top;\n",
       "    }\n",
       "\n",
       "    .dataframe thead th {\n",
       "        text-align: right;\n",
       "    }\n",
       "</style>\n",
       "<table border=\"1\" class=\"dataframe\">\n",
       "  <thead>\n",
       "    <tr style=\"text-align: right;\">\n",
       "      <th></th>\n",
       "      <th>epoch</th>\n",
       "      <th>step</th>\n",
       "      <th>img_type</th>\n",
       "      <th>num_large</th>\n",
       "      <th>chi_1a</th>\n",
       "      <th>chi_1b</th>\n",
       "      <th>chi_1c</th>\n",
       "      <th>chi_1</th>\n",
       "      <th>chi_2</th>\n",
       "      <th>chi_imgvar</th>\n",
       "      <th>chi_spec1</th>\n",
       "      <th>chi_spec2</th>\n",
       "    </tr>\n",
       "  </thead>\n",
       "  <tbody>\n",
       "    <tr>\n",
       "      <th>592</th>\n",
       "      <td>7</td>\n",
       "      <td>23680</td>\n",
       "      <td>train_gen</td>\n",
       "      <td>0</td>\n",
       "      <td>0.007310</td>\n",
       "      <td>0.004488</td>\n",
       "      <td>0.003154</td>\n",
       "      <td>0.014951</td>\n",
       "      <td>0.002972</td>\n",
       "      <td>13.006232</td>\n",
       "      <td>0.145187</td>\n",
       "      <td>631.703864</td>\n",
       "    </tr>\n",
       "    <tr>\n",
       "      <th>368</th>\n",
       "      <td>4</td>\n",
       "      <td>14720</td>\n",
       "      <td>train_gen</td>\n",
       "      <td>1</td>\n",
       "      <td>0.006209</td>\n",
       "      <td>0.001852</td>\n",
       "      <td>0.004291</td>\n",
       "      <td>0.012351</td>\n",
       "      <td>0.001063</td>\n",
       "      <td>11.166003</td>\n",
       "      <td>0.204010</td>\n",
       "      <td>1180.028713</td>\n",
       "    </tr>\n",
       "    <tr>\n",
       "      <th>489</th>\n",
       "      <td>6</td>\n",
       "      <td>19560</td>\n",
       "      <td>train_gen</td>\n",
       "      <td>0</td>\n",
       "      <td>0.004690</td>\n",
       "      <td>0.007349</td>\n",
       "      <td>0.003826</td>\n",
       "      <td>0.015864</td>\n",
       "      <td>0.003007</td>\n",
       "      <td>9.902317</td>\n",
       "      <td>0.210282</td>\n",
       "      <td>1043.306889</td>\n",
       "    </tr>\n",
       "    <tr>\n",
       "      <th>562</th>\n",
       "      <td>7</td>\n",
       "      <td>22480</td>\n",
       "      <td>train_gen</td>\n",
       "      <td>0</td>\n",
       "      <td>0.006897</td>\n",
       "      <td>0.003311</td>\n",
       "      <td>0.002477</td>\n",
       "      <td>0.012686</td>\n",
       "      <td>0.004576</td>\n",
       "      <td>10.616311</td>\n",
       "      <td>0.212147</td>\n",
       "      <td>1229.070121</td>\n",
       "    </tr>\n",
       "    <tr>\n",
       "      <th>378</th>\n",
       "      <td>4</td>\n",
       "      <td>15120</td>\n",
       "      <td>train_gen</td>\n",
       "      <td>1</td>\n",
       "      <td>0.001914</td>\n",
       "      <td>0.004525</td>\n",
       "      <td>0.006083</td>\n",
       "      <td>0.012522</td>\n",
       "      <td>0.000439</td>\n",
       "      <td>9.611897</td>\n",
       "      <td>0.218324</td>\n",
       "      <td>1597.291966</td>\n",
       "    </tr>\n",
       "  </tbody>\n",
       "</table>\n",
       "</div>"
      ],
      "text/plain": [
       "     epoch   step   img_type  num_large    chi_1a    chi_1b    chi_1c  \\\n",
       "592      7  23680  train_gen          0  0.007310  0.004488  0.003154   \n",
       "368      4  14720  train_gen          1  0.006209  0.001852  0.004291   \n",
       "489      6  19560  train_gen          0  0.004690  0.007349  0.003826   \n",
       "562      7  22480  train_gen          0  0.006897  0.003311  0.002477   \n",
       "378      4  15120  train_gen          1  0.001914  0.004525  0.006083   \n",
       "\n",
       "        chi_1     chi_2  chi_imgvar  chi_spec1    chi_spec2  \n",
       "592  0.014951  0.002972   13.006232   0.145187   631.703864  \n",
       "368  0.012351  0.001063   11.166003   0.204010  1180.028713  \n",
       "489  0.015864  0.003007    9.902317   0.210282  1043.306889  \n",
       "562  0.012686  0.004576   10.616311   0.212147  1229.070121  \n",
       "378  0.012522  0.000439    9.611897   0.218324  1597.291966  "
      ]
     },
     "execution_count": 30,
     "metadata": {},
     "output_type": "execute_result"
    }
   ],
   "source": [
    "df_sliced.sort_values(by=['chi_spec1','chi_1']).head(5)\n",
    "# df_sliced.sort_values(by=['chi_1','chi_spec1']).head(5)"
   ]
  },
  {
   "cell_type": "markdown",
   "metadata": {},
   "source": [
    "## Plot pixel intensity and spectrum"
   ]
  },
  {
   "cell_type": "code",
   "execution_count": 38,
   "metadata": {},
   "outputs": [],
   "source": [
    "def f_plot_hist_spec_best(df,dict_bkg):\n",
    "\n",
    "    fig=plt.figure(figsize=(6,6))\n",
    "    ax1=fig.add_subplot(121)\n",
    "    ax2=fig.add_subplot(122)\n",
    "    for (i,row),marker in zip(df.iterrows(),itertools.cycle('>^*sDHPdpx_')):\n",
    "\n",
    "        x1=row.hist_bin_centers\n",
    "        y1=row.hist_val\n",
    "        yerr1=row.hist_err\n",
    "        x1=f_invtransform(x1)\n",
    "\n",
    "        y2=row.spec_val\n",
    "        yerr2=row.spec_err\n",
    "        x2=np.arange(len(y2))\n",
    "\n",
    "        label='{0}_{1}_{2}'.format(i,row.epoch,row.step)\n",
    "        ax1.errorbar(x1,y1,yerr1,marker=marker,markersize=5,linestyle='',label=label)\n",
    "    #     ax2.errorbar(x2,y2,yerr2,marker=marker,markersize=5,linestyle='',label='{0}-{1}'.format(epoch,step))\n",
    "\n",
    "        ax2.fill_between(x2, y2 - yerr2, y2 + yerr2, alpha=0.4)\n",
    "        ax2.plot(x2, y2, marker=marker, linestyle=':',label=label)\n",
    "\n",
    "    ### Plot input data\n",
    "    x,y,yerr=dict_bkg['hist_bin_centers'],dict_bkg['hist_val'],dict_bkg['hist_err']\n",
    "    x=f_invtransform(x)\n",
    "    ax1.errorbar(x, y,yerr,color='k',linestyle='-',label='bkgnd')   \n",
    "\n",
    "    y,yerr=dict_bkg['spec_val'],dict_bkg['spec_err']\n",
    "    x=np.arange(len(y))\n",
    "    ax2.fill_between(x, y - yerr, y + yerr, color='k',alpha=0.8)\n",
    "\n",
    "    plt.legend()\n",
    "    # plt.yscale('log')\n",
    "    ax1.set_xscale('symlog',linthreshx=50)\n",
    "    ax1.set_yscale('log')\n",
    "    ax2.set_yscale('log')"
   ]
  },
  {
   "cell_type": "code",
   "execution_count": null,
   "metadata": {},
   "outputs": [],
   "source": [
    "def f_compute_hist_spect(sample,bins):\n",
    "    ''' Compute pixel intensity histograms and radial spectrum for 2D arrays\n",
    "    Input : Image arrays and bins\n",
    "    Output: dictionary with 5 arrays : Histogram values, errors and bin centers, Spectrum values and errors.\n",
    "    '''\n",
    "    ### Compute pixel histogram for row\n",
    "    gen_hist,gen_err,hist_bins=f_batch_histogram(sample,bins=bins,norm=True,hist_range=None)\n",
    "    ### Compute spectrum for row\n",
    "    spec,spec_err=f_compute_spectrum(sample,plot=False)\n",
    "\n",
    "    dict1={'hist_val':gen_hist,'hist_err':gen_err,'hist_bin_centers':hist_bins,'spec_val':spec,'spec_err':spec_err }\n",
    "    return dict1\n",
    "\n",
    "bins=np.concatenate([np.array([-0.5]),np.arange(0.5,20.5,1),np.arange(20.5,100.5,5),np.arange(100.5,1000.5,50),np.array([2000])]) #bin edges to use\n",
    "bins=f_transform(bins)   ### scale to (-1,1) \n",
    "### Compute histogram and spectrum of raw data \n",
    "dict_val=f_compute_hist_spect(s_val,bins)\n",
    "\n"
   ]
  },
  {
   "cell_type": "code",
   "execution_count": 26,
   "metadata": {},
   "outputs": [
    {
     "data": {
      "text/plain": [
       "[423, 505, 592, 368]"
      ]
     },
     "execution_count": 26,
     "metadata": {},
     "output_type": "execute_result"
    }
   ],
   "source": [
    "best_idx=[]\n",
    "best_idx.append(df_sliced.sort_values(by=['chi_1','chi_spec1']).head(2).index)\n",
    "best_idx.append(df_sliced.sort_values(by=['chi_spec1','chi_1']).head(2).index)\n",
    "\n",
    "best_idx=[i for j in best_idx for i in j]\n",
    "best_idx"
   ]
  },
  {
   "cell_type": "code",
   "execution_count": 39,
   "metadata": {},
   "outputs": [
    {
     "data": {
      "application/vnd.jupyter.widget-view+json": {
       "model_id": "fbad750c1a1c4ac29c487658f5dba068",
       "version_major": 2,
       "version_minor": 0
      },
      "text/plain": [
       "Canvas(toolbar=Toolbar(toolitems=[('Home', 'Reset original view', 'home', 'home'), ('Back', 'Back to previous …"
      ]
     },
     "metadata": {},
     "output_type": "display_data"
    }
   ],
   "source": [
    "f_plot_hist_spec_best(df_best,dict_val)\n"
   ]
  },
  {
   "cell_type": "markdown",
   "metadata": {},
   "source": [
    "## View image block"
   ]
  },
  {
   "cell_type": "code",
   "execution_count": null,
   "metadata": {},
   "outputs": [],
   "source": [
    "def f_get_img(df,epoch,step):\n",
    "    df_temp=df[(df.epoch==epoch)&(df.step==step)]\n",
    "    images=np.load(df_temp.fname.values[0])[:,0,:,:]\n",
    "    return images\n",
    "\n",
    "img_arr=f_get_img(df,7,22680)"
   ]
  },
  {
   "cell_type": "code",
   "execution_count": null,
   "metadata": {},
   "outputs": [],
   "source": [
    "img_arr.shape"
   ]
  },
  {
   "cell_type": "code",
   "execution_count": null,
   "metadata": {},
   "outputs": [],
   "source": [
    "f_plot_grid(img_arr[:18],cols=6,fig_size=(10,6))"
   ]
  },
  {
   "cell_type": "code",
   "execution_count": null,
   "metadata": {},
   "outputs": [],
   "source": [
    "f_plot_grid(s_val[100:118],cols=6,fig_size=(10,6))"
   ]
  },
  {
   "cell_type": "code",
   "execution_count": null,
   "metadata": {},
   "outputs": [],
   "source": []
  }
 ],
 "metadata": {
  "kernelspec": {
   "display_name": "v_py3",
   "language": "python",
   "name": "v_jpt_py3"
  },
  "language_info": {
   "codemirror_mode": {
    "name": "ipython",
    "version": 3
   },
   "file_extension": ".py",
   "mimetype": "text/x-python",
   "name": "python",
   "nbconvert_exporter": "python",
   "pygments_lexer": "ipython3",
   "version": "3.6.8"
  },
  "toc-autonumbering": false,
  "toc-showcode": false,
  "toc-showmarkdowntxt": true,
  "toc-showtags": false
 },
 "nbformat": 4,
 "nbformat_minor": 4
}
