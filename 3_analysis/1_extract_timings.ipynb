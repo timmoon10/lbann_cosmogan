{
 "cells": [
  {
   "cell_type": "markdown",
   "metadata": {},
   "source": [
    "# Extract data from output files\n",
    "\n",
    "March 9, 2020"
   ]
  },
  {
   "cell_type": "code",
   "execution_count": 1,
   "metadata": {},
   "outputs": [],
   "source": [
    "import numpy as np\n",
    "import matplotlib.pyplot as plt\n",
    "import pandas as pd\n",
    "\n",
    "import subprocess as sp\n",
    "import os\n",
    "import glob"
   ]
  },
  {
   "cell_type": "markdown",
   "metadata": {},
   "source": [
    "## Extract training times"
   ]
  },
  {
   "cell_type": "code",
   "execution_count": null,
   "metadata": {},
   "outputs": [],
   "source": []
  },
  {
   "cell_type": "code",
   "execution_count": 2,
   "metadata": {},
   "outputs": [],
   "source": [
    "def f_get_output(fname):\n",
    "    ''' Use grep to get run times from output files\n",
    "    '''\n",
    "    cmd='grep \"run time\" {0}| grep \"training\"'.format(fname)\n",
    "    op1=sp.check_output(cmd,shell=True).decode('utf-8').split('\\n')[:-1]\n",
    "    # print(op1)\n",
    "\n",
    "    cmd='grep \"run time\" {0}| grep \"validation\"'.format(fname)\n",
    "    op2=sp.check_output(cmd,shell=True).decode('utf-8').split('\\n')[:-1]\n",
    "    \n",
    "    return op1,op2\n",
    "\n",
    "def f_get_run_times(op_arr):\n",
    "    '''\n",
    "    Get run times from output file out.log\n",
    "    '''\n",
    "    run_times=np.array([np.float(i.split(':')[-1][:-1]) for i in op_arr])\n",
    "    return run_times\n",
    "\n",
    "def f_print_run_times(fname):\n",
    "    \n",
    "    ### Get output \n",
    "    op1,op2=f_get_output(fname)\n",
    "    ### Get arrays from outputs for training and validation\n",
    "    arr1=f_get_run_times(op1)\n",
    "    arr2=f_get_run_times(op2)\n",
    "    ### Print times\n",
    "    print(\"Training times: {0}\\nValidation times: {1}\".format(arr1,arr2))\n",
    "    print(\"Number of epochs\",len(arr1))\n",
    "    print(\"Mean times:\",np.mean(arr1),np.mean(arr2),'\\n')\n",
    "    \n"
   ]
  },
  {
   "cell_type": "code",
   "execution_count": 4,
   "metadata": {},
   "outputs": [],
   "source": [
    "# fname=main_dir+'20200309_161923_exagan/out.log'\n",
    "# f_print_run_times(fname)"
   ]
  },
  {
   "cell_type": "code",
   "execution_count": 5,
   "metadata": {},
   "outputs": [
    {
     "name": "stdout",
     "output_type": "stream",
     "text": [
      "20200309_180215_exagan\n",
      "Training times: [59.6435 55.851  56.1679 55.6592 55.6095 54.7766 54.8159 54.8017 57.6508\n",
      " 56.338 ]\n",
      "Validation time: [6.44095 6.16183 6.02789 6.03686 6.06885 6.01301 6.03396 5.97031 6.02318\n",
      " 6.05132]\n",
      "Number of epochs 10\n",
      "Mean times: 56.131409999999995 6.082815999999999 \n",
      "\n",
      "20200309_180242_exagan\n",
      "Training times: [59.9732 56.3722 55.3252 54.7731 56.9163 56.7775 54.9029 54.7982 54.9859\n",
      " 54.9386]\n",
      "Validation time: [6.47491 6.2029  5.94702 5.89516 6.02787 6.01333 5.92115 6.03749 6.09455\n",
      " 5.98712]\n",
      "Number of epochs 10\n",
      "Mean times: 55.97631 6.060149999999999 \n",
      "\n",
      "20200309_175151_exagan\n",
      "Training times: [58.3801 55.5377 55.5144 55.3938 55.2725 55.1279 55.2474 55.2464 55.6418\n",
      " 55.1003]\n",
      "Validation time: [6.5214  6.12105 6.08316 6.13204 6.16332 6.13975 6.14123 6.1164  6.56007\n",
      " 6.20463]\n",
      "Number of epochs 10\n",
      "Mean times: 55.64622999999999 6.218305 \n",
      "\n",
      "20200309_174119_exagan\n",
      "Training times: [61.3282 55.8154 55.9458 55.6815 55.6083 55.8392 55.6395 55.8828 55.9039\n",
      " 55.7911]\n",
      "Validation time: [6.58691 6.19901 6.19984 6.20506 6.12523 6.16574 6.17988 6.48567 6.14593\n",
      " 6.21432]\n",
      "Number of epochs 10\n",
      "Mean times: 56.34357 6.250759 \n",
      "\n",
      "20200309_175208_exagan\n",
      "Training times: [60.0074 60.4056 55.7765 54.916  54.8386 54.8604 56.34   56.3319 54.9442\n",
      " 57.5431]\n",
      "Validation time: [6.4378  5.9234  5.96118 5.98082 6.06144 6.01968 6.00279 6.3651  6.34669\n",
      " 6.03353]\n",
      "Number of epochs 10\n",
      "Mean times: 56.59637 6.113243000000001 \n",
      "\n",
      "20200309_174117_exagan\n",
      "Training times: [62.9171 60.7502 56.674  56.5159 56.5224 56.436  56.4663 56.4473 58.7332\n",
      " 56.3541]\n",
      "Validation time: [6.7723  6.41873 6.33122 6.37029 6.3575  6.32258 6.36896 6.74802 6.36345\n",
      " 6.33336]\n",
      "Number of epochs 10\n",
      "Mean times: 57.78165 6.438641 \n",
      "\n"
     ]
    }
   ],
   "source": [
    "main_dir='/global/u1/v/vpa/project/jpt_notebooks/Cosmology/Cosmo_GAN/LBANN/lbann_cosmogan/1_train/'\n",
    "for fldr in glob.glob(main_dir+'20200309_*'):\n",
    "    print(fldr.split('/')[-1])\n",
    "    fname=fldr+'/out.log'\n",
    "    f_print_run_times(fname)\n",
    "    \n",
    "    \n"
   ]
  },
  {
   "cell_type": "code",
   "execution_count": null,
   "metadata": {},
   "outputs": [],
   "source": []
  }
 ],
 "metadata": {
  "kernelspec": {
   "display_name": "v_py3",
   "language": "python",
   "name": "v_jpt_py3"
  },
  "language_info": {
   "codemirror_mode": {
    "name": "ipython",
    "version": 3
   },
   "file_extension": ".py",
   "mimetype": "text/x-python",
   "name": "python",
   "nbconvert_exporter": "python",
   "pygments_lexer": "ipython3",
   "version": "3.6.8"
  }
 },
 "nbformat": 4,
 "nbformat_minor": 4
}
