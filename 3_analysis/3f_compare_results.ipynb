{
 "cells": [
  {
   "cell_type": "markdown",
   "metadata": {},
   "source": [
    "# Extract data from output files\n",
    "### Analyze the output from a single LBANN run\n",
    "March 9, 2020 \\\n",
    "April 6, 2020 : Major edit to store files in order of epochs \\\n",
    "April 21, 2020: Major edit, added jupyter widgets to compare pixel intensity plots \\\n",
    "May 8, 2020: Major edit, using all images for a given batch"
   ]
  },
  {
   "cell_type": "code",
   "execution_count": 17,
   "metadata": {},
   "outputs": [],
   "source": [
    "import numpy as np\n",
    "import matplotlib.pyplot as plt\n",
    "import pandas as pd\n",
    "\n",
    "import subprocess as sp\n",
    "import os\n",
    "import glob\n",
    "import sys\n",
    "\n",
    "import time\n",
    "from scipy import fftpack\n",
    "# from ipywidgets import interact, interact_manual,fixed, SelectMultiple, IntText, IntSlider, FloatSlider,SelectionSlider,BoundedIntText\n",
    "from ipywidgets import *"
   ]
  },
  {
   "cell_type": "code",
   "execution_count": 18,
   "metadata": {},
   "outputs": [],
   "source": [
    "%matplotlib widget"
   ]
  },
  {
   "cell_type": "code",
   "execution_count": 19,
   "metadata": {},
   "outputs": [],
   "source": [
    "sys.path.append('/global/u1/v/vpa/project/jpt_notebooks/Cosmology/Cosmo_GAN/LBANN/lbann_cosmogan/3_analysis/')\n",
    "from modules_image_analysis import *"
   ]
  },
  {
   "cell_type": "code",
   "execution_count": 20,
   "metadata": {},
   "outputs": [],
   "source": [
    "### Transformation functions for image pixel values\n",
    "def f_transform(x):\n",
    "    return 2.*x/(x + 4. + 1e-8) - 1.\n",
    "\n",
    "\n",
    "def f_invtransform(s):\n",
    "    return 4.*(1. + s)/(1. - s + 1e-8)"
   ]
  },
  {
   "cell_type": "markdown",
   "metadata": {},
   "source": [
    "## Explore image samples"
   ]
  },
  {
   "cell_type": "code",
   "execution_count": 21,
   "metadata": {},
   "outputs": [],
   "source": [
    "def f_widget_compare(sample_names,sample_dict,Fig_type='pixel',rescale=True,log_scale=True,bins=25,mode='avg',normalize=True,bkgnd=[]):\n",
    "    '''\n",
    "    Module to make widget plots for pixel intensity or spectrum comparison for multiple sample sets\n",
    "    '''\n",
    "    \n",
    "    ### Crop out large pixel values\n",
    "    for key in sample_names:\n",
    "        print(sample_dict[key].shape)\n",
    "        sample_dict[key]=np.array([arr for arr in sample_dict[key] if np.max(arr)<=0.994])\n",
    "        print(sample_dict[key].shape)\n",
    "    \n",
    "    img_list=[sample_dict[key] for key in sample_names]\n",
    "    label_list=list(sample_names)\n",
    "    \n",
    "    \n",
    "    bins=np.concatenate([np.array([-0.5]),np.arange(0.5,20.5,1),np.arange(20.5,100.5,5),np.arange(100.5,1000.5,50),np.array([2000])]) #bin edges to use\n",
    "    \n",
    "    if rescale: \n",
    "        for count,img in enumerate(img_list):\n",
    "            img_list[count]=f_invtransform(img)\n",
    "        if len(bkgnd): bkgnd=f_invtransform(bkgnd)\n",
    "#         hist_range=(0,2000)\n",
    "    else:\n",
    "        bins=f_transform(bins)\n",
    "#         hist_range=(-1,0.996)\n",
    "    assert Fig_type in ['pixel','spectrum'],\"Invalid mode %s\"%(mode)\n",
    "    \n",
    "    if Fig_type=='pixel':\n",
    "#         f_compare_pixel_intensity(img_lst=img_list,label_lst=label_list,normalize=normalize,log_scale=log_scale, mode=mode,bins=bins,hist_range=hist_range)\n",
    "        f_compare_pixel_intensity(img_lst=img_list,label_lst=label_list,normalize=normalize,log_scale=log_scale, mode=mode,bins=bins,hist_range=None,bkgnd_arr=bkgnd)\n",
    "\n",
    "    elif Fig_type=='spectrum':\n",
    "        f_compare_spectrum(img_lst=img_list,label_lst=label_list,log_scale=log_scale,bkgnd_arr=bkgnd)\n",
    "\n"
   ]
  },
  {
   "cell_type": "markdown",
   "metadata": {},
   "source": [
    "## Compare lbann images with input and keras code images"
   ]
  },
  {
   "cell_type": "code",
   "execution_count": 31,
   "metadata": {},
   "outputs": [
    {
     "name": "stdout",
     "output_type": "stream",
     "text": [
      "(10000, 128, 128)\n"
     ]
    }
   ],
   "source": [
    "### Load validation input samples\n",
    "img_raw='/global/cfs/cdirs/m3363/vayyar/cosmogan_data/raw_data/dataset_2_smoothing_200k/train.npy'\n",
    "a1=np.load(img_raw)[:10000]\n",
    "s_raw=f_transform(a1[:,:,:,0])[:10000]\n",
    "\n",
    "print(s_raw.shape)\n",
    "# print(s_raw.shape,[a.shape for a in s_keras])"
   ]
  },
  {
   "cell_type": "code",
   "execution_count": 7,
   "metadata": {},
   "outputs": [],
   "source": [
    "# ### Load images from keras code\n",
    "# img_keras='/global/cfs/cdirs/m3363/vayyar/cosmogan_data/results_from_other_code/exagan1/run_200k_samples_peter_dataset_20_epochs/models/gen_imgs.npy'\n",
    "# img_keras='/global/cfs/cdirs/m3363/vayyar/cosmogan_data/results_from_other_code/exagan1/run_3_fixed_cosmology/models/gen_imgs.npy'\n",
    "\n",
    "# s_keras=[[] for i in range(3)]\n",
    "# for count,i in enumerate([1,2,3]):\n",
    "#     img_keras='/global/cfs/cdirs/m3363/vayyar/cosmogan_data/results_from_other_code/exagan1/run_{0}_fixed_cosmology/models/gen_imgs.npy'.format(str(i))\n",
    "#     a1=np.load(img_keras)\n",
    "#     s_keras[count]=a1[:,:,:]"
   ]
  },
  {
   "cell_type": "code",
   "execution_count": null,
   "metadata": {},
   "outputs": [],
   "source": []
  },
  {
   "cell_type": "code",
   "execution_count": 33,
   "metadata": {},
   "outputs": [
    {
     "name": "stdout",
     "output_type": "stream",
     "text": [
      "['/global/cfs/cdirs/m3363/vayyar/cosmogan_data/results_data/generate_images/20200702_074157_gen_img_exagan/dump_outs/trainer0/model0/sgd.testing.epoch.3.step.3_gen_img_instance1_activation_output0.npy', '/global/cfs/cdirs/m3363/vayyar/cosmogan_data/results_data/generate_images/20200702_074157_gen_img_exagan/dump_outs/trainer0/model0/sgd.testing.epoch.0.step.0_gen_img_instance1_activation_output0.npy', '/global/cfs/cdirs/m3363/vayyar/cosmogan_data/results_data/generate_images/20200702_074157_gen_img_exagan/dump_outs/trainer0/model0/sgd.testing.epoch.1.step.1_gen_img_instance1_activation_output0.npy', '/global/cfs/cdirs/m3363/vayyar/cosmogan_data/results_data/generate_images/20200702_074157_gen_img_exagan/dump_outs/trainer0/model0/sgd.testing.epoch.2.step.2_gen_img_instance1_activation_output0.npy']\n",
      "(10023, 128, 128) 0.9929066\n"
     ]
    }
   ],
   "source": [
    "### Extract a few images generated by Lban \n",
    "parent_dir='/global/cfs/cdirs/m3363/vayyar/cosmogan_data/results_data/generate_images/20200702_071108_gen_img_exagan/'\n",
    "parent_dir='/global/cfs/cdirs/m3363/vayyar/cosmogan_data/results_data/generate_images/20200702_074157_gen_img_exagan/'\n",
    "\n",
    "f_strg=parent_dir+'dump_outs/trainer0/model0/sgd.testing.epoch.*.step.*_gen_img_instance1_activation_output0.npy'\n",
    "f_list=glob.glob(f_strg)\n",
    "print(f_list)\n",
    "\n",
    "arr=[np.load(fname)[:,0,:,:] for fname in f_list]\n",
    "s_lbann=np.vstack(arr)\n",
    "print(s_lbann.shape,np.max(s_lbann))\n"
   ]
  },
  {
   "cell_type": "code",
   "execution_count": null,
   "metadata": {},
   "outputs": [],
   "source": [
    "# max_val=np.amax(s_lbann,axis=(1,2))\n",
    "# # print(np.where(max_val>0.994))\n",
    "# max_val.shape\n",
    "\n",
    "# plt.figure()\n",
    "# plt.plot(max_val)"
   ]
  },
  {
   "cell_type": "code",
   "execution_count": null,
   "metadata": {},
   "outputs": [],
   "source": [
    "# f_pixel_intensity(s_lbann[330],label='',normalize=False,log_scale=True,mode='simple')\n",
    "# f_pixel_intensity(f_invtransform(s_lbann[330]),label='',normalize=False,log_scale=True,mode='simple')"
   ]
  },
  {
   "cell_type": "code",
   "execution_count": 12,
   "metadata": {},
   "outputs": [],
   "source": [
    "### Another dataset\n",
    "fname='/global/cfs/cdirs/m3363/vayyar/cosmogan_data/results_data/generate_images/20200702_071108_gen_img_exagan/dump_outs/trainer0/model0/sgd.testing.epoch.0.step.0_gen_img_instance1_activation_output0.npy'\n",
    "s_new1=np.load(fname)[:,0,:,:]\n",
    "\n",
    "fname='/global/cfs/cdirs/m3363/vayyar/cosmogan_data/results_data/20200629_090438_batchsize_512/dump_outs/trainer0/model0/sgd.validation.epoch.46.step.4606_gen_img_instance1_activation_output0.npy'\n",
    "s_new2=np.load(fname)[:,0,:,:]\n",
    "\n",
    "fname='/global/cfs/cdirs/m3363/vayyar/cosmogan_data/results_data/20200629_090438_batchsize_512/dump_outs/trainer0/model0/sgd.validation.epoch.46.step.4676_gen_img_instance1_activation_output0.npy'\n",
    "s_new3=np.load(fname)[:,0,:,:]"
   ]
  },
  {
   "cell_type": "code",
   "execution_count": 34,
   "metadata": {},
   "outputs": [
    {
     "data": {
      "application/vnd.jupyter.widget-view+json": {
       "model_id": "1b729909e75642a79d5bfd24e87e0dee",
       "version_major": 2,
       "version_minor": 0
      },
      "text/plain": [
       "interactive(children=(SelectMultiple(description='sample_names', options=('lbann', 'raw'), value=()), ToggleBu…"
      ]
     },
     "metadata": {},
     "output_type": "display_data"
    },
    {
     "data": {
      "text/plain": [
       "<function __main__.f_widget_compare(sample_names, sample_dict, Fig_type='pixel', rescale=True, log_scale=True, bins=25, mode='avg', normalize=True, bkgnd=[])>"
      ]
     },
     "execution_count": 34,
     "metadata": {},
     "output_type": "execute_result"
    }
   ],
   "source": [
    "dict_samples={'lbann':s_lbann,'raw': s_raw}\n",
    "# dict_samples={'lbann1':s_lbann[:3500],'lbann2':s_lbann[3500:7000],'lbann3':s_lbann[7000:],'raw': s_raw,'new1':s_new1,'new2':s_new2,'new3':s_new3}\n",
    "\n",
    "# dict_samples={'new':s_new, 'keras1':s_keras[0],'keras2':s_keras[1],'keras3':s_keras[2],'raw': s_raw}\n",
    "bkgnd=s_raw\n",
    "bkgnd=[]\n",
    "interact_manual(f_widget_compare,sample_dict=fixed(dict_samples),\n",
    "                sample_names=SelectMultiple(options=dict_samples.keys()),\n",
    "                Fig_type=ToggleButtons(options=['pixel','spectrum']),\n",
    "                bins=SelectionSlider(options=np.arange(10,200,10),value=50),\n",
    "                mode=['avg','simple'],bkgnd=fixed(bkgnd))"
   ]
  },
  {
   "cell_type": "markdown",
   "metadata": {},
   "source": [
    "## Comparison for older dataset with multiple cosmologies"
   ]
  },
  {
   "cell_type": "code",
   "execution_count": null,
   "metadata": {},
   "outputs": [],
   "source": [
    "### Load images from keras code\n",
    "img_keras='/global/cfs/cdirs/m3363/vayyar/cosmogan_data/results_from_other_code/exagan1/run_200k_samples_peter_dataset_20_epochs/models/gen_imgs.npy'\n",
    "a1=np.load(img_keras)\n",
    "s_keras=a1[:,:,:]\n",
    "\n",
    "### Load validation samples\n",
    "img_raw='/global/cfs/cdirs/m3363/vayyar/cosmogan_data/raw_data/peter_dataset/raw_train.npy'\n",
    "\n",
    "a1=np.load(img_raw)\n",
    "s_raw=f_transform(a1[:,:,:,0])[:3000]\n",
    "\n",
    "print(s_raw.shape,s_keras.shape)"
   ]
  },
  {
   "cell_type": "code",
   "execution_count": null,
   "metadata": {},
   "outputs": [],
   "source": [
    "### Extract a few images generated by Lban directly for a set of epochs\n",
    "parent_dir='/global/cfs/cdirs/m3363/vayyar/cosmogan_data/results_data/20200529_111342_seed3273_80epochs/'\n",
    "\n",
    "ff=[]\n",
    "\n",
    "for epoch in [60,70]:\n",
    "    f_strg=parent_dir+'dump_outs/trainer0/model0/sgd.validation.epoch.{}*gen_img*.npy'.format(epoch)\n",
    "    lst=glob.glob(f_strg)\n",
    "    ff.append(lst)\n",
    "f_list=[fle for a in ff for fle in a] ## Flattening out a list of lists\n",
    "print(len(f_list))\n",
    "\n",
    "arr=[np.load(fname)[:,0,:,:] for fname in f_list]\n",
    "s_lbann=np.vstack(arr)\n",
    "print(s_lbann.shape,np.max(s_lbann))"
   ]
  },
  {
   "cell_type": "code",
   "execution_count": null,
   "metadata": {},
   "outputs": [],
   "source": [
    "dict_samples={'lbann':s_lbann, 'keras':s_keras,'raw': s_raw}\n",
    "bkgnd=[]\n",
    "\n",
    "interact_manual(f_widget_compare,sample_dict=fixed(dict_samples),\n",
    "                sample_names=SelectMultiple(options=dict_samples.keys()),\n",
    "                Fig_type=ToggleButtons(options=['pixel','spectrum']),\n",
    "                bins=SelectionSlider(options=np.arange(10,200,10),value=50),\n",
    "                mode=['avg','simple'],bkgnd=fixed(bkgnd))"
   ]
  },
  {
   "cell_type": "code",
   "execution_count": null,
   "metadata": {},
   "outputs": [],
   "source": []
  }
 ],
 "metadata": {
  "kernelspec": {
   "display_name": "v_py3",
   "language": "python",
   "name": "v_jpt_py3"
  },
  "language_info": {
   "codemirror_mode": {
    "name": "ipython",
    "version": 3
   },
   "file_extension": ".py",
   "mimetype": "text/x-python",
   "name": "python",
   "nbconvert_exporter": "python",
   "pygments_lexer": "ipython3",
   "version": "3.6.8"
  }
 },
 "nbformat": 4,
 "nbformat_minor": 4
}
