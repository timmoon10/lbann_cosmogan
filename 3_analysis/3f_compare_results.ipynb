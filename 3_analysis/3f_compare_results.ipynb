{
 "cells": [
  {
   "cell_type": "markdown",
   "metadata": {},
   "source": [
    "# Extract data from output files\n",
    "### Analyze the output from a single LBANN run\n",
    "March 9, 2020 \\\n",
    "April 6, 2020 : Major edit to store files in order of epochs \\\n",
    "April 21, 2020: Major edit, added jupyter widgets to compare pixel intensity plots \\\n",
    "May 8, 2020: Major edit, using all images for a given batch"
   ]
  },
  {
   "cell_type": "code",
   "execution_count": 4,
   "metadata": {},
   "outputs": [],
   "source": [
    "import numpy as np\n",
    "import matplotlib.pyplot as plt\n",
    "import pandas as pd\n",
    "\n",
    "import subprocess as sp\n",
    "import os\n",
    "import glob\n",
    "import sys\n",
    "\n",
    "import time\n",
    "from scipy import fftpack\n",
    "from ipywidgets import *"
   ]
  },
  {
   "cell_type": "code",
   "execution_count": 5,
   "metadata": {},
   "outputs": [],
   "source": [
    "%matplotlib widget"
   ]
  },
  {
   "cell_type": "code",
   "execution_count": 6,
   "metadata": {},
   "outputs": [
    {
     "name": "stdout",
     "output_type": "stream",
     "text": [
      "[NbConvertApp] Converting notebook modules_image_analysis.ipynb to script\n",
      "[NbConvertApp] Writing 17167 bytes to modules_image_analysis.py\n"
     ]
    }
   ],
   "source": [
    "sys.path.append('/global/u1/v/vpa/project/jpt_notebooks/Cosmology/Cosmo_GAN/LBANN/lbann_cosmogan/3_analysis/')\n",
    "from modules_image_analysis import *"
   ]
  },
  {
   "cell_type": "code",
   "execution_count": 7,
   "metadata": {},
   "outputs": [],
   "source": [
    "### Transformation functions for image pixel values\n",
    "def f_transform(x):\n",
    "    return 2.*x/(x + 4. + 1e-8) - 1.\n",
    "\n",
    "\n",
    "def f_invtransform(s):\n",
    "    return 4.*(1. + s)/(1. - s + 1e-8)"
   ]
  },
  {
   "cell_type": "markdown",
   "metadata": {},
   "source": [
    "## Explore image samples"
   ]
  },
  {
   "cell_type": "code",
   "execution_count": 8,
   "metadata": {},
   "outputs": [],
   "source": [
    "def f_widget_compare(sample_names,sample_dict,Fig_type='pixel',rescale=True,log_scale=True,bins=25,mode='avg',normalize=True,bkgnd=[]):\n",
    "    '''\n",
    "    Module to make widget plots for pixel intensity or spectrum comparison for multiple sample sets\n",
    "    '''\n",
    "    \n",
    "    ### Crop out large pixel values\n",
    "    for key in sample_names:\n",
    "        print(sample_dict[key].shape)\n",
    "        sample_dict[key]=np.array([arr for arr in sample_dict[key] if np.max(arr)<=0.994])\n",
    "        print(sample_dict[key].shape)\n",
    "    \n",
    "    img_list=[sample_dict[key] for key in sample_names]\n",
    "    label_list=list(sample_names)\n",
    "    \n",
    "    \n",
    "    bins=np.concatenate([np.array([-0.5]),np.arange(0.5,20.5,1),np.arange(20.5,100.5,5),np.arange(100.5,1000.5,50),np.array([2000])]) #bin edges to use\n",
    "    \n",
    "    if rescale: \n",
    "        for count,img in enumerate(img_list):\n",
    "            img_list[count]=f_invtransform(img)\n",
    "        if len(bkgnd): bkgnd=f_invtransform(bkgnd)\n",
    "#         hist_range=(0,2000)\n",
    "    else:\n",
    "        bins=f_transform(bins)\n",
    "#         hist_range=(-1,0.996)\n",
    "    assert Fig_type in ['pixel','spectrum'],\"Invalid mode %s\"%(mode)\n",
    "    \n",
    "    if Fig_type=='pixel':\n",
    "#         f_compare_pixel_intensity(img_lst=img_list,label_lst=label_list,normalize=normalize,log_scale=log_scale, mode=mode,bins=bins,hist_range=hist_range)\n",
    "        f_compare_pixel_intensity(img_lst=img_list,label_lst=label_list,normalize=normalize,log_scale=log_scale, mode=mode,bins=bins,hist_range=None,bkgnd_arr=bkgnd)\n",
    "\n",
    "    elif Fig_type=='spectrum':\n",
    "        f_compare_spectrum(img_lst=img_list,label_lst=label_list,log_scale=log_scale,bkgnd_arr=bkgnd)\n",
    "\n"
   ]
  },
  {
   "cell_type": "markdown",
   "metadata": {},
   "source": [
    "## Compare lbann images with input and keras code images"
   ]
  },
  {
   "cell_type": "code",
   "execution_count": 9,
   "metadata": {},
   "outputs": [
    {
     "name": "stdout",
     "output_type": "stream",
     "text": [
      "(10000, 128, 128)\n"
     ]
    }
   ],
   "source": [
    "### Load validation input samples\n",
    "img_raw='/global/cfs/cdirs/m3363/vayyar/cosmogan_data/raw_data/dataset_2_smoothing_200k/train.npy'\n",
    "a1=np.load(img_raw)[:10000]\n",
    "s_raw=f_transform(a1[:,:,:,0])[:10000]\n",
    "\n",
    "print(s_raw.shape)\n",
    "# print(s_raw.shape,[a.shape for a in s_keras])"
   ]
  },
  {
   "cell_type": "code",
   "execution_count": 10,
   "metadata": {},
   "outputs": [],
   "source": [
    "### Load images from keras code\n",
    "img_keras='/global/cfs/cdirs/m3363/vayyar/cosmogan_data/results_from_other_code/exagan1/run5/models/gen_imgs.npy'\n",
    "img_keras='/global/cfs/cdirs/m3363/vayyar/cosmogan_data/results_from_other_code/exagan1/run6/models/gen_imgs.npy'\n",
    "\n",
    "s_keras=[[] for i in range(2)]\n",
    "for count,i in enumerate([5,6]):\n",
    "    img_keras='/global/cfs/cdirs/m3363/vayyar/cosmogan_data/results_from_other_code/exagan1/run{0}_fixed_cosmology/models/gen_imgs.npy'.format(str(i))\n",
    "    a1=np.load(img_keras)\n",
    "    s_keras[count]=a1[:,:,:]"
   ]
  },
  {
   "cell_type": "code",
   "execution_count": 11,
   "metadata": {},
   "outputs": [
    {
     "name": "stdout",
     "output_type": "stream",
     "text": [
      "['/global/cfs/cdirs/m3363/vayyar/cosmogan_data/results_data/generate_images/20200702_071108_gen_img_065330_batchsize_512/dump_outs/trainer0/model0/sgd.testing.epoch.3.step.3_gen_img_instance1_activation_output0.npy', '/global/cfs/cdirs/m3363/vayyar/cosmogan_data/results_data/generate_images/20200702_071108_gen_img_065330_batchsize_512/dump_outs/trainer0/model0/sgd.testing.epoch.0.step.0_gen_img_instance1_activation_output0.npy', '/global/cfs/cdirs/m3363/vayyar/cosmogan_data/results_data/generate_images/20200702_071108_gen_img_065330_batchsize_512/dump_outs/trainer0/model0/sgd.testing.epoch.1.step.1_gen_img_instance1_activation_output0.npy', '/global/cfs/cdirs/m3363/vayyar/cosmogan_data/results_data/generate_images/20200702_071108_gen_img_065330_batchsize_512/dump_outs/trainer0/model0/sgd.testing.epoch.2.step.2_gen_img_instance1_activation_output0.npy']\n",
      "(10023, 128, 128) 0.9956047\n"
     ]
    }
   ],
   "source": [
    "# ### Extract a few images generated by Lban \n",
    "parent_dir='/global/cfs/cdirs/m3363/vayyar/cosmogan_data/results_data/generate_images/20200702_071108_gen_img_065330_batchsize_512/'\n",
    "# parent_dir='/global/cfs/cdirs/m3363/vayyar/cosmogan_data/results_data/generate_images/20200702_074157_gen_img_070005_batchsize_256/'\n",
    "\n",
    "f_strg=parent_dir+'dump_outs/trainer0/model0/sgd.testing.epoch.*.step.*_gen_img_instance1_activation_output0.npy'\n",
    "f_list=glob.glob(f_strg)\n",
    "print(f_list)\n",
    "\n",
    "arr=[np.load(fname)[:,0,:,:] for fname in f_list]\n",
    "s_lbann=np.vstack(arr)\n",
    "print(s_lbann.shape,np.max(s_lbann))\n"
   ]
  },
  {
   "cell_type": "code",
   "execution_count": 12,
   "metadata": {},
   "outputs": [
    {
     "name": "stdout",
     "output_type": "stream",
     "text": [
      "51 20320\n",
      "55 22080\n",
      "47 18880\n"
     ]
    }
   ],
   "source": [
    "# ### Another dataset\n",
    "lst=[(51,20320),(55,22080),(47,18880)]\n",
    "s_new=[[] for i in range(len(lst))]\n",
    "for count,run in enumerate(lst):\n",
    "    epoch,step=run[0],run[1]\n",
    "    print(epoch,step)\n",
    "    prefix='/global/cfs/cdirs/m3363/vayyar/cosmogan_data/results_data/20200701_065330_batchsize_512/dump_outs/trainer0/model0/'\n",
    "    fname=prefix+'sgd.training.epoch.{0}.step.{1}_gen_img_instance1_activation_output0.npy'.format(epoch,step)\n",
    "    s_new[count]=np.load(fname)[:,0,:,:]\n"
   ]
  },
  {
   "cell_type": "code",
   "execution_count": 13,
   "metadata": {},
   "outputs": [],
   "source": [
    "def f_chisqr(images,val_hist,val_err,val_spec,val_spec_err,bins,transform):\n",
    "    ''' Compute chi-sqr of rows wrt to input data'''\n",
    "\n",
    "    val_dr=val_hist.copy()\n",
    "    val_dr[val_dr<=0.]=1.0    ### Avoiding division by zero for zero bins\n",
    "\n",
    "    ### Get all images in a batch\n",
    "    sample=images if not transform else f_invtransform(images)\n",
    "\n",
    "    ### Compute pixel histogram for row   ### !!Both pixel histograms MUST have same bins and normalization!\n",
    "    gen_hist,gen_err=f_pixel_intensity(sample,plot=False,normalize=True,bins=bins,mode='avg')\n",
    "    spec,spec_err=f_compute_spectrum(sample,plot=False)\n",
    "\n",
    "    ### Compute chi-sqr\n",
    "    ### Used in keras code : np.sum(np.divide(np.power(valhist - samphist, 2.0), valhist))\n",
    "    ###  chi_sqr :: sum((Obs-Val)^2/(Val))\n",
    "    sq_diff=(gen_hist-val_hist)**2        \n",
    "    chi_sqr_list=[]\n",
    "\n",
    "    for count,(start,end) in enumerate(zip([0,22,38,0],[22,38,None,None])):  # 4 lists : small, medium, large pixel values and full \n",
    "        chi_sqr_list.append(np.sum(np.divide(sq_diff[start:end],val_dr[start:end])))\n",
    "\n",
    "    idx=None  # Choosing the number of histograms to use. Eg : -5 to skip last 5 bins\n",
    "\n",
    "    chi_sqr_list.append(np.sum(np.divide(sq_diff[:idx],1.0))) ## chi-sqr without denominator division\n",
    "    chi_sqr_list.append(np.sum(gen_err[:idx])/np.sum(val_err[:idx])) ## measures total spread in histograms wrt to input data\n",
    "\n",
    "    ### computing the spectral loss chi-square\n",
    "    chi_sqr_list.append(np.sum((val_spec[:50]-spec[:50])**2/(spec[:50]**2)))\n",
    "\n",
    "    return chi_sqr_list\n"
   ]
  },
  {
   "cell_type": "code",
   "execution_count": 14,
   "metadata": {},
   "outputs": [],
   "source": [
    "dict_samples={'raw': s_raw[:2000],'lbann1':s_lbann[:5000],'keras1':s_keras[0],'keras2':s_keras[1],'snew1':s_new[0],'snew2':s_new[1],'snew3':s_new[2]}\n"
   ]
  },
  {
   "cell_type": "code",
   "execution_count": 15,
   "metadata": {},
   "outputs": [
    {
     "name": "stdout",
     "output_type": "stream",
     "text": [
      "raw (2000, 128, 128)\n",
      "lbann1 (5000, 128, 128)\n",
      "keras1 (5000, 128, 128)\n",
      "keras2 (5000, 128, 128)\n",
      "snew1 (512, 128, 128)\n",
      "snew2 (512, 128, 128)\n",
      "snew3 (512, 128, 128)\n"
     ]
    }
   ],
   "source": [
    "df1=pd.DataFrame([])\n",
    "\n",
    "s_input=s_raw[:]\n",
    "transform=False  # If true, it computes histogram in the orignal scale of pixels ie. 0-2000 \n",
    "bins=np.concatenate([np.array([-0.5]),np.arange(0.5,20.5,1),np.arange(20.5,100.5,5),np.arange(100.5,1000.5,50),np.array([2000])]) #bin edges to use\n",
    "if not transform: bins=f_transform(bins)   ### scale to (-1,1)\n",
    "#     bins=100\n",
    "#     print(bins)\n",
    "\n",
    "### Get pixel histogram of all input data\n",
    "val_hist,val_err=f_pixel_intensity(s_input,plot=False,normalize=True,bins=bins,mode='avg')    \n",
    "### Computing spectrum ###\n",
    "val_spec,val_spec_err=f_compute_spectrum(s_input,plot=False)\n",
    "del s_input\n",
    "\n",
    "for name,images in dict_samples.items():\n",
    "    print(name,images.shape)\n",
    "    chi_sqrs=f_chisqr(images,val_hist,val_err,val_spec,val_spec_err,bins,transform)\n",
    "    keys=['name','chi_sqr1a','chi_sqr1b','chi_sqr1c','chi_sqr1d','chi_sqr2','chi_img_var','chi_spec']\n",
    "    dict1=dict(zip(keys,[name]+chi_sqrs))\n",
    "#     print(dict1)\n",
    "    df1=df1.append(dict1,ignore_index=True)\n",
    "    "
   ]
  },
  {
   "cell_type": "code",
   "execution_count": 16,
   "metadata": {},
   "outputs": [
    {
     "data": {
      "text/html": [
       "<div>\n",
       "<style scoped>\n",
       "    .dataframe tbody tr th:only-of-type {\n",
       "        vertical-align: middle;\n",
       "    }\n",
       "\n",
       "    .dataframe tbody tr th {\n",
       "        vertical-align: top;\n",
       "    }\n",
       "\n",
       "    .dataframe thead th {\n",
       "        text-align: right;\n",
       "    }\n",
       "</style>\n",
       "<table border=\"1\" class=\"dataframe\">\n",
       "  <thead>\n",
       "    <tr style=\"text-align: right;\">\n",
       "      <th></th>\n",
       "      <th>chi_img_var</th>\n",
       "      <th>chi_spec</th>\n",
       "      <th>chi_sqr1a</th>\n",
       "      <th>chi_sqr1b</th>\n",
       "      <th>chi_sqr1c</th>\n",
       "      <th>chi_sqr1d</th>\n",
       "      <th>chi_sqr2</th>\n",
       "      <th>name</th>\n",
       "    </tr>\n",
       "  </thead>\n",
       "  <tbody>\n",
       "    <tr>\n",
       "      <th>0</th>\n",
       "      <td>2.263070</td>\n",
       "      <td>0.000732</td>\n",
       "      <td>0.000052</td>\n",
       "      <td>0.000044</td>\n",
       "      <td>0.000488</td>\n",
       "      <td>0.000584</td>\n",
       "      <td>0.000003</td>\n",
       "      <td>raw</td>\n",
       "    </tr>\n",
       "    <tr>\n",
       "      <th>1</th>\n",
       "      <td>1.493134</td>\n",
       "      <td>0.382274</td>\n",
       "      <td>0.005164</td>\n",
       "      <td>0.001487</td>\n",
       "      <td>0.004280</td>\n",
       "      <td>0.010931</td>\n",
       "      <td>0.000482</td>\n",
       "      <td>lbann1</td>\n",
       "    </tr>\n",
       "    <tr>\n",
       "      <th>2</th>\n",
       "      <td>1.421143</td>\n",
       "      <td>0.027200</td>\n",
       "      <td>0.000084</td>\n",
       "      <td>0.000029</td>\n",
       "      <td>0.000198</td>\n",
       "      <td>0.000311</td>\n",
       "      <td>0.000058</td>\n",
       "      <td>keras1</td>\n",
       "    </tr>\n",
       "    <tr>\n",
       "      <th>3</th>\n",
       "      <td>1.477085</td>\n",
       "      <td>0.032670</td>\n",
       "      <td>0.000482</td>\n",
       "      <td>0.000260</td>\n",
       "      <td>0.000185</td>\n",
       "      <td>0.000928</td>\n",
       "      <td>0.000295</td>\n",
       "      <td>keras2</td>\n",
       "    </tr>\n",
       "    <tr>\n",
       "      <th>4</th>\n",
       "      <td>5.057884</td>\n",
       "      <td>0.067963</td>\n",
       "      <td>0.001636</td>\n",
       "      <td>0.001368</td>\n",
       "      <td>0.008776</td>\n",
       "      <td>0.011780</td>\n",
       "      <td>0.000429</td>\n",
       "      <td>snew1</td>\n",
       "    </tr>\n",
       "    <tr>\n",
       "      <th>5</th>\n",
       "      <td>5.047597</td>\n",
       "      <td>0.109619</td>\n",
       "      <td>0.010802</td>\n",
       "      <td>0.006443</td>\n",
       "      <td>0.035665</td>\n",
       "      <td>0.052910</td>\n",
       "      <td>0.006076</td>\n",
       "      <td>snew2</td>\n",
       "    </tr>\n",
       "    <tr>\n",
       "      <th>6</th>\n",
       "      <td>4.459891</td>\n",
       "      <td>0.117420</td>\n",
       "      <td>0.003403</td>\n",
       "      <td>0.000716</td>\n",
       "      <td>0.010159</td>\n",
       "      <td>0.014278</td>\n",
       "      <td>0.001548</td>\n",
       "      <td>snew3</td>\n",
       "    </tr>\n",
       "  </tbody>\n",
       "</table>\n",
       "</div>"
      ],
      "text/plain": [
       "   chi_img_var  chi_spec  chi_sqr1a  chi_sqr1b  chi_sqr1c  chi_sqr1d  \\\n",
       "0     2.263070  0.000732   0.000052   0.000044   0.000488   0.000584   \n",
       "1     1.493134  0.382274   0.005164   0.001487   0.004280   0.010931   \n",
       "2     1.421143  0.027200   0.000084   0.000029   0.000198   0.000311   \n",
       "3     1.477085  0.032670   0.000482   0.000260   0.000185   0.000928   \n",
       "4     5.057884  0.067963   0.001636   0.001368   0.008776   0.011780   \n",
       "5     5.047597  0.109619   0.010802   0.006443   0.035665   0.052910   \n",
       "6     4.459891  0.117420   0.003403   0.000716   0.010159   0.014278   \n",
       "\n",
       "   chi_sqr2    name  \n",
       "0  0.000003     raw  \n",
       "1  0.000482  lbann1  \n",
       "2  0.000058  keras1  \n",
       "3  0.000295  keras2  \n",
       "4  0.000429   snew1  \n",
       "5  0.006076   snew2  \n",
       "6  0.001548   snew3  "
      ]
     },
     "execution_count": 16,
     "metadata": {},
     "output_type": "execute_result"
    }
   ],
   "source": [
    "df1"
   ]
  },
  {
   "cell_type": "code",
   "execution_count": null,
   "metadata": {},
   "outputs": [],
   "source": [
    "# max_val=np.amax(s_lbann,axis=(1,2))\n",
    "# print(np.where(max_val>0.994))\n",
    "# max_val.shape\n",
    "\n",
    "# plt.figure()\n",
    "# plt.plot(max_val)"
   ]
  },
  {
   "cell_type": "code",
   "execution_count": null,
   "metadata": {},
   "outputs": [],
   "source": [
    "# f_pixel_intensity(s_lbann[330],label='',normalize=False,log_scale=True,mode='simple')\n",
    "# f_pixel_intensity(f_invtransform(s_lbann[330]),label='',normalize=False,log_scale=True,mode='simple')"
   ]
  },
  {
   "cell_type": "code",
   "execution_count": 17,
   "metadata": {},
   "outputs": [
    {
     "data": {
      "application/vnd.jupyter.widget-view+json": {
       "model_id": "06038f59736544d18cad46e5bb75beb1",
       "version_major": 2,
       "version_minor": 0
      },
      "text/plain": [
       "interactive(children=(SelectMultiple(description='sample_names', options=('raw', 'lbann1', 'keras1', 'keras2',…"
      ]
     },
     "metadata": {},
     "output_type": "display_data"
    },
    {
     "data": {
      "text/plain": [
       "<function __main__.f_widget_compare(sample_names, sample_dict, Fig_type='pixel', rescale=True, log_scale=True, bins=25, mode='avg', normalize=True, bkgnd=[])>"
      ]
     },
     "execution_count": 17,
     "metadata": {},
     "output_type": "execute_result"
    }
   ],
   "source": [
    "# dict_samples={'raw': s_raw[:2000],'lbann1':s_lbann[:5000],'keras1':s_keras[0],'keras2':s_keras[1]}\n",
    "\n",
    "# dict_samples={'raw': s_raw,'keras1':s_keras[0],'keras2':s_keras[1],'s_new1':s_new1,'s_new2':s_new2,'s_new3':s_new3}\n",
    "\n",
    "bkgnd=s_raw\n",
    "bkgnd=[]\n",
    "interact_manual(f_widget_compare,sample_dict=fixed(dict_samples),\n",
    "                sample_names=SelectMultiple(options=dict_samples.keys()),\n",
    "                Fig_type=ToggleButtons(options=['pixel','spectrum']),\n",
    "                bins=SelectionSlider(options=np.arange(10,200,10),value=50),\n",
    "                mode=['avg','simple'],bkgnd=fixed(bkgnd))"
   ]
  },
  {
   "cell_type": "markdown",
   "metadata": {},
   "source": [
    "## Comparison for older dataset with multiple cosmologies"
   ]
  },
  {
   "cell_type": "code",
   "execution_count": null,
   "metadata": {},
   "outputs": [],
   "source": [
    "### Load images from keras code\n",
    "img_keras='/global/cfs/cdirs/m3363/vayyar/cosmogan_data/results_from_other_code/exagan1/run_200k_samples_peter_dataset_20_epochs/models/gen_imgs.npy'\n",
    "a1=np.load(img_keras)\n",
    "s_keras=a1[:,:,:]\n",
    "\n",
    "### Load validation samples\n",
    "img_raw='/global/cfs/cdirs/m3363/vayyar/cosmogan_data/raw_data/peter_dataset/raw_train.npy'\n",
    "\n",
    "a1=np.load(img_raw)\n",
    "s_raw=f_transform(a1[:,:,:,0])[:3000]\n",
    "\n",
    "print(s_raw.shape,s_keras.shape)"
   ]
  },
  {
   "cell_type": "code",
   "execution_count": null,
   "metadata": {},
   "outputs": [],
   "source": [
    "### Extract a few images generated by Lban directly for a set of epochs\n",
    "parent_dir='/global/cfs/cdirs/m3363/vayyar/cosmogan_data/results_data/20200529_111342_seed3273_80epochs/'\n",
    "\n",
    "ff=[]\n",
    "\n",
    "for epoch in [60,70]:\n",
    "    f_strg=parent_dir+'dump_outs/trainer0/model0/sgd.validation.epoch.{}*gen_img*.npy'.format(epoch)\n",
    "    lst=glob.glob(f_strg)\n",
    "    ff.append(lst)\n",
    "f_list=[fle for a in ff for fle in a] ## Flattening out a list of lists\n",
    "print(len(f_list))\n",
    "\n",
    "arr=[np.load(fname)[:,0,:,:] for fname in f_list]\n",
    "s_lbann=np.vstack(arr)\n",
    "print(s_lbann.shape,np.max(s_lbann))"
   ]
  },
  {
   "cell_type": "code",
   "execution_count": null,
   "metadata": {},
   "outputs": [],
   "source": [
    "dict_samples={'lbann':s_lbann, 'keras':s_keras,'raw': s_raw}\n",
    "bkgnd=[]\n",
    "\n",
    "interact_manual(f_widget_compare,sample_dict=fixed(dict_samples),\n",
    "                sample_names=SelectMultiple(options=dict_samples.keys()),\n",
    "                Fig_type=ToggleButtons(options=['pixel','spectrum']),\n",
    "                bins=SelectionSlider(options=np.arange(10,200,10),value=50),\n",
    "                mode=['avg','simple'],bkgnd=fixed(bkgnd))"
   ]
  },
  {
   "cell_type": "code",
   "execution_count": null,
   "metadata": {},
   "outputs": [],
   "source": []
  }
 ],
 "metadata": {
  "kernelspec": {
   "display_name": "v_py3",
   "language": "python",
   "name": "v_jpt_py3"
  },
  "language_info": {
   "codemirror_mode": {
    "name": "ipython",
    "version": 3
   },
   "file_extension": ".py",
   "mimetype": "text/x-python",
   "name": "python",
   "nbconvert_exporter": "python",
   "pygments_lexer": "ipython3",
   "version": "3.6.8"
  }
 },
 "nbformat": 4,
 "nbformat_minor": 4
}
