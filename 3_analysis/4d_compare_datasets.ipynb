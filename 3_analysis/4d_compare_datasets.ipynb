{
 "cells": [
  {
   "cell_type": "markdown",
   "metadata": {},
   "source": [
    "## Compare results for multiple cosmologies"
   ]
  },
  {
   "cell_type": "code",
   "execution_count": null,
   "metadata": {},
   "outputs": [],
   "source": [
    "import numpy as np\n",
    "import matplotlib.pyplot as plt\n",
    "import seaborn as sns\n",
    "import pandas as pd\n",
    "\n",
    "import subprocess as sp\n",
    "import os\n",
    "import glob\n",
    "import sys\n",
    "\n",
    "import itertools\n",
    "import time\n",
    "\n",
    "from ipywidgets import *"
   ]
  },
  {
   "cell_type": "code",
   "execution_count": null,
   "metadata": {},
   "outputs": [],
   "source": [
    "%matplotlib widget"
   ]
  },
  {
   "cell_type": "code",
   "execution_count": null,
   "metadata": {},
   "outputs": [],
   "source": [
    "sys.path.append('/global/u1/v/vpa/project/jpt_notebooks/Cosmology/Cosmo_GAN/repositories/lbann_cosmogan/3_analysis')\n",
    "from modules_image_analysis import *"
   ]
  },
  {
   "cell_type": "code",
   "execution_count": null,
   "metadata": {},
   "outputs": [],
   "source": [
    "### Transformation functions for image pixel values\n",
    "def f_transform(x):\n",
    "    return 2.*x/(x + 4. + 1e-8) - 1.\n",
    "\n",
    "def f_invtransform(s):\n",
    "    return 4.*(1. + s)/(1. - s + 1e-8)"
   ]
  },
  {
   "cell_type": "code",
   "execution_count": null,
   "metadata": {},
   "outputs": [],
   "source": [
    "parent_dir='/global/cfs/cdirs/m3363/vayyar/cosmogan_data/raw_data/128_square/dataset_3_different_universes_6k/'\n",
    "f_strg=parent_dir+'*.npy'\n",
    "f_list=glob.glob(f_strg)\n",
    "print(f_list)"
   ]
  },
  {
   "cell_type": "code",
   "execution_count": null,
   "metadata": {},
   "outputs": [],
   "source": [
    "def f_compute_hist_spect(sample,bins):\n",
    "    ''' Compute pixel intensity histograms and radial spectrum for 2D arrays\n",
    "    Input : Image arrays and bins\n",
    "    Output: dictionary with 5 arrays : Histogram values, errors and bin centers, Spectrum values and errors.\n",
    "    '''\n",
    "    ### Compute pixel histogram for row\n",
    "    gen_hist,gen_err,hist_bins=f_batch_histogram(sample,bins=bins,norm=True,hist_range=None)\n",
    "    ### Compute spectrum for row\n",
    "    spec,spec_err=f_compute_spectrum(sample,plot=False)\n",
    "\n",
    "    dict1={'hist_val':gen_hist,'hist_err':gen_err,'hist_bin_centers':hist_bins,'spec_val':spec,'spec_err':spec_err }\n",
    "    return dict1"
   ]
  },
  {
   "cell_type": "code",
   "execution_count": null,
   "metadata": {},
   "outputs": [],
   "source": [
    "### Extract fixed univ data\n",
    "fname='/global/cfs/cdirs/m3363/vayyar/cosmogan_data/raw_data/128_square/dataset_2_smoothing_200k/norm_1_train_val.npy'\n",
    "s_val=np.load(fname,mmap_mode='r')[:8000][:,0,:,:]\n",
    "print(s_val.shape)"
   ]
  },
  {
   "cell_type": "code",
   "execution_count": null,
   "metadata": {},
   "outputs": [],
   "source": [
    "bins=np.concatenate([np.array([-0.5]),np.arange(0.5,20.5,1),np.arange(20.5,100.5,5),np.arange(100.5,1000.5,50),np.array([2000])]) #bin edges to use\n",
    "bins=f_transform(bins)   ### scale to (-1,1) \n",
    "### Compute histogram and spectrum of raw data \n",
    "dict_val=f_compute_hist_spect(s_val,bins)"
   ]
  },
  {
   "cell_type": "code",
   "execution_count": null,
   "metadata": {},
   "outputs": [],
   "source": [
    "# print(bins)"
   ]
  },
  {
   "cell_type": "code",
   "execution_count": null,
   "metadata": {},
   "outputs": [],
   "source": [
    "df_runs=pd.DataFrame([])\n",
    "dict1={}\n",
    "for count,fname in enumerate(f_list):\n",
    "    lst=fname.split('.npy')[0].split('/')[-1].split('_')\n",
    "#     print(lst)\n",
    "    keys=['omega_m','sigma_8','H_0']\n",
    "    values=[float(lst[0][2:]),float(lst[1][2:]),float(lst[2][1:])]\n",
    "    dict1=dict(zip(keys,values))\n",
    "    strg=str(count)+'_Og={0}_Sg={1}_H0={2}'.format(dict1['omega_m'],dict1['sigma_8'],dict1['H_0'])\n",
    "    print(strg)\n",
    "\n",
    "    dict1['label']=strg\n",
    "    dict1['fname']=fname\n",
    "    images=f_transform(np.load(fname)[:,:,:,0])\n",
    "    dict1['num_img']=images.shape[0]\n",
    "    f_transform(images)\n",
    "#     print(images.shape,np.max(images),np.min(images))\n",
    "    dict_sample=f_compute_hist_spect(images,bins) ## list of 5 numpy arrays \n",
    "    dict1.update(dict_sample)\n",
    "    del(images)\n",
    "    df_runs=df_runs.append(dict1,ignore_index=True)\n",
    "    \n",
    "df_runs"
   ]
  },
  {
   "cell_type": "code",
   "execution_count": null,
   "metadata": {},
   "outputs": [],
   "source": []
  },
  {
   "cell_type": "code",
   "execution_count": null,
   "metadata": {},
   "outputs": [],
   "source": []
  },
  {
   "cell_type": "code",
   "execution_count": null,
   "metadata": {},
   "outputs": [],
   "source": [
    "### Add some external runs\n",
    "\n",
    "### Extract some LBANN training run data\n",
    "\n",
    "parent_dir='/global/cfs/cdirs/m3363/vayyar/cosmogan_data/results_data/20200725_204329_batchsize_256/dump_outs/trainer0/model0/'\n",
    "lst=[(17, 14207), (16, 13380), (18, 14922), (16, 13089)]\n",
    "prefix='lbann_train_'\n",
    "\n",
    "for count,run in enumerate(lst[:1]):\n",
    "    epoch,step=run[0],run[1]\n",
    "    key=prefix+'{0}-{1}'.format(epoch,step)\n",
    "    fname=parent_dir+'sgd.training.epoch.{0}.step.{1}_gen_img_instance1_activation_output0.npy'.format(epoch,step)\n",
    "    dict1={'label':key,'fname':fname}\n",
    "    images=np.load(fname)[:,0,:,:]\n",
    "    dict1['num_img']=images.shape[0]\n",
    "    print(dict1)\n",
    "    ### Compute spectrum and histograms\n",
    "    dict_sample=f_compute_hist_spect(images,bins)\n",
    "    ### Compute chi squares\n",
    "#     dict_chisqrs=f_compute_chisqr(dict_val,dict_sample)\n",
    "    \n",
    "    dict1.update(dict_sample)\n",
    "#     dict1.update(dict_chisqrs)\n",
    "    del(images)\n",
    "#     df_runs=df_runs.append(dict1,ignore_index=True)\n",
    "\n"
   ]
  },
  {
   "cell_type": "code",
   "execution_count": null,
   "metadata": {},
   "outputs": [],
   "source": [
    "\n",
    "def f_plot_hist_spec_best_combined(df,dict_bkg):\n",
    "\n",
    "    fig=plt.figure(figsize=(6,6))\n",
    "    ax1=fig.add_subplot(121)\n",
    "    ax2=fig.add_subplot(122)\n",
    "    for (i,row),marker in zip(df.iterrows(),itertools.cycle('>^*sDHPdpx_')):\n",
    "\n",
    "        x1=row.hist_bin_centers\n",
    "        y1=row.hist_val\n",
    "        yerr1=row.hist_err\n",
    "        x1=f_invtransform(x1)\n",
    "\n",
    "        y2=row.spec_val\n",
    "        yerr2=row.spec_err\n",
    "        x2=np.arange(len(y2))\n",
    "\n",
    "        label=row.label\n",
    "        ax1.errorbar(x1,y1,yerr1,marker=marker,markersize=5,linestyle='',label=label)\n",
    "    #     ax2.errorbar(x2,y2,yerr2,marker=marker,markersize=5,linestyle='',label='{0}-{1}'.format(epoch,step))\n",
    "\n",
    "        ax2.fill_between(x2, y2 - yerr2, y2 + yerr2, alpha=0.4)\n",
    "        ax2.plot(x2, y2, marker=marker, linestyle=':',label=label)\n",
    "\n",
    "    ### Plot input data\n",
    "    x,y,yerr=dict_bkg['hist_bin_centers'],dict_bkg['hist_val'],dict_bkg['hist_err']\n",
    "    x=f_invtransform(x)\n",
    "    ax1.errorbar(x, y,yerr,color='k',linestyle='-',label='bkgnd')   \n",
    "\n",
    "    y,yerr=dict_bkg['spec_val'],dict_bkg['spec_err']\n",
    "    x=np.arange(len(y))\n",
    "    ax2.fill_between(x, y - yerr, y + yerr, color='k',alpha=0.8)\n",
    "\n",
    "#     plt.legend()\n",
    "    # plt.yscale('log')\n",
    "    ax1.set_xscale('symlog',linthreshx=50)\n",
    "    ax1.set_yscale('log')\n",
    "    ax2.set_yscale('log')\n",
    "\n",
    "\n",
    "# f_plot_hist_spec_best(df_runs,dict_val)\n",
    "f_plot_hist_spec_best_combined(df_runs,dict1)"
   ]
  },
  {
   "cell_type": "code",
   "execution_count": null,
   "metadata": {},
   "outputs": [],
   "source": [
    "\n",
    "def f_plot_hist_spec_best(df,dict_bkg,plot_type):\n",
    "\n",
    "    fig=plt.figure(figsize=(6,6))\n",
    "    for (i,row),marker in zip(df.iterrows(),itertools.cycle('>^*sDHPdpx_')):\n",
    "        \n",
    "        label=row.label\n",
    "        if plot_type=='hist':\n",
    "            x1=row.hist_bin_centers\n",
    "            y1=row.hist_val\n",
    "            yerr1=row.hist_err\n",
    "            x1=f_invtransform(x1)\n",
    "            \n",
    "            plt.errorbar(x1,y1,yerr1,marker=marker,markersize=5,linestyle='',label=label)\n",
    "        if plot_type=='spec':\n",
    "            \n",
    "            y2=row.spec_val\n",
    "            yerr2=row.spec_err\n",
    "            x2=np.arange(len(y2))\n",
    "            \n",
    "            plt.fill_between(x2, y2 - yerr2, y2 + yerr2, alpha=0.4)\n",
    "            plt.plot(x2, y2, marker=marker, linestyle=':',label=label)\n",
    "\n",
    "    ### Plot input data\n",
    "    if plot_type=='hist':\n",
    "        x,y,yerr=dict_bkg['hist_bin_centers'],dict_bkg['hist_val'],dict_bkg['hist_err']\n",
    "        x=f_invtransform(x)\n",
    "        plt.errorbar(x, y,yerr,color='k',linestyle='-',label='bkgnd')   \n",
    "        plt.title('Pixel Intensity Histogram')\n",
    "        plt.xscale('symlog',linthreshx=50)\n",
    "        \n",
    "    if plot_type=='spec':\n",
    "        y,yerr=dict_bkg['spec_val'],dict_bkg['spec_err']\n",
    "        x=np.arange(len(y))\n",
    "        plt.fill_between(x, y - yerr, y + yerr, color='k',alpha=0.8)\n",
    "        plt.title('Spectrum')\n",
    "    plt.legend(bbox_to_anchor=(0.3, 0.75),ncol=2, fancybox=True, shadow=True,prop={'size':6})\n",
    "    plt.yscale('log')\n",
    "    \n",
    "#     plt.xscale('symlog',linthreshx=30)\n",
    "\n",
    "\n",
    "f_plot_hist_spec_best(df_runs,dict1,'hist')\n",
    "# f_plot_hist_spec_best(df_runs,dict_val,'hist')\n",
    "f_plot_hist_spec_best(df_runs,dict1,'spec')"
   ]
  },
  {
   "cell_type": "code",
   "execution_count": null,
   "metadata": {},
   "outputs": [],
   "source": [
    "dict1['hist_err'],dict_val['hist_err']"
   ]
  },
  {
   "cell_type": "code",
   "execution_count": null,
   "metadata": {},
   "outputs": [],
   "source": [
    "df_runs[df_runs.label=='0_Og=0.3_Sg=1.1_H0=70.0']['hist_err']"
   ]
  },
  {
   "cell_type": "code",
   "execution_count": null,
   "metadata": {},
   "outputs": [],
   "source": []
  },
  {
   "cell_type": "code",
   "execution_count": null,
   "metadata": {},
   "outputs": [],
   "source": []
  }
 ],
 "metadata": {
  "kernelspec": {
   "display_name": "v_py3",
   "language": "python",
   "name": "v_jpt_py3"
  },
  "language_info": {
   "codemirror_mode": {
    "name": "ipython",
    "version": 3
   },
   "file_extension": ".py",
   "mimetype": "text/x-python",
   "name": "python",
   "nbconvert_exporter": "python",
   "pygments_lexer": "ipython3",
   "version": "3.6.8"
  }
 },
 "nbformat": 4,
 "nbformat_minor": 4
}
