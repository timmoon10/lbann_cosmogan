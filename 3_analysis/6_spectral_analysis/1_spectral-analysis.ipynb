{
 "cells": [
  {
   "cell_type": "markdown",
   "metadata": {},
   "source": [
    "# Process images to extract spectral features\n",
    "\n",
    "April 13, 2020"
   ]
  },
  {
   "cell_type": "code",
   "execution_count": 2,
   "metadata": {},
   "outputs": [],
   "source": [
    "import numpy as np\n",
    "import matplotlib.pyplot as plt\n",
    "import pandas as pd\n",
    "\n",
    "import subprocess as sp\n",
    "import sys\n",
    "import os\n",
    "import glob"
   ]
  },
  {
   "cell_type": "code",
   "execution_count": 3,
   "metadata": {},
   "outputs": [],
   "source": [
    "%matplotlib widget"
   ]
  },
  {
   "cell_type": "code",
   "execution_count": 4,
   "metadata": {},
   "outputs": [
    {
     "name": "stdout",
     "output_type": "stream",
     "text": [
      "[NbConvertApp] WARNING | pattern 'modules_image_analysis.ipynb' matched no files\n",
      "This application is used to convert notebook files (*.ipynb) to various other\n",
      "formats.\n",
      "\n",
      "WARNING: THE COMMANDLINE INTERFACE MAY CHANGE IN FUTURE RELEASES.\n",
      "\n",
      "Options\n",
      "-------\n",
      "\n",
      "Arguments that take values are actually convenience aliases to full\n",
      "Configurables, whose aliases are listed on the help line. For more information\n",
      "on full configurables, see '--help-all'.\n",
      "\n",
      "--debug\n",
      "    set log level to logging.DEBUG (maximize logging output)\n",
      "--generate-config\n",
      "    generate default config file\n",
      "-y\n",
      "    Answer yes to any questions instead of prompting.\n",
      "--execute\n",
      "    Execute the notebook prior to export.\n",
      "--allow-errors\n",
      "    Continue notebook execution even if one of the cells throws an error and include the error message in the cell output (the default behaviour is to abort conversion). This flag is only relevant if '--execute' was specified, too.\n",
      "--stdin\n",
      "    read a single notebook file from stdin. Write the resulting notebook with default basename 'notebook.*'\n",
      "--stdout\n",
      "    Write notebook output to stdout instead of files.\n",
      "--inplace\n",
      "    Run nbconvert in place, overwriting the existing notebook (only \n",
      "    relevant when converting to notebook format)\n",
      "--clear-output\n",
      "    Clear output of current file and save in place, \n",
      "    overwriting the existing notebook.\n",
      "--no-prompt\n",
      "    Exclude input and output prompts from converted document.\n",
      "--no-input\n",
      "    Exclude input cells and output prompts from converted document. \n",
      "    This mode is ideal for generating code-free reports.\n",
      "--log-level=<Enum> (Application.log_level)\n",
      "    Default: 30\n",
      "    Choices: (0, 10, 20, 30, 40, 50, 'DEBUG', 'INFO', 'WARN', 'ERROR', 'CRITICAL')\n",
      "    Set the log level by value or name.\n",
      "--config=<Unicode> (JupyterApp.config_file)\n",
      "    Default: ''\n",
      "    Full path of a config file.\n",
      "--to=<Unicode> (NbConvertApp.export_format)\n",
      "    Default: 'html'\n",
      "    The export format to be used, either one of the built-in formats\n",
      "    ['asciidoc', 'custom', 'html', 'latex', 'markdown', 'notebook', 'pdf',\n",
      "    'python', 'rst', 'script', 'slides'] or a dotted object name that represents\n",
      "    the import path for an `Exporter` class\n",
      "--template=<Unicode> (TemplateExporter.template_file)\n",
      "    Default: ''\n",
      "    Name of the template file to use\n",
      "--writer=<DottedObjectName> (NbConvertApp.writer_class)\n",
      "    Default: 'FilesWriter'\n",
      "    Writer class used to write the  results of the conversion\n",
      "--post=<DottedOrNone> (NbConvertApp.postprocessor_class)\n",
      "    Default: ''\n",
      "    PostProcessor class used to write the results of the conversion\n",
      "--output=<Unicode> (NbConvertApp.output_base)\n",
      "    Default: ''\n",
      "    overwrite base name use for output files. can only be used when converting\n",
      "    one notebook at a time.\n",
      "--output-dir=<Unicode> (FilesWriter.build_directory)\n",
      "    Default: ''\n",
      "    Directory to write output(s) to. Defaults to output to the directory of each\n",
      "    notebook. To recover previous default behaviour (outputting to the current\n",
      "    working directory) use . as the flag value.\n",
      "--reveal-prefix=<Unicode> (SlidesExporter.reveal_url_prefix)\n",
      "    Default: ''\n",
      "    The URL prefix for reveal.js (version 3.x). This defaults to the reveal CDN,\n",
      "    but can be any url pointing to a copy  of reveal.js.\n",
      "    For speaker notes to work, this must be a relative path to a local  copy of\n",
      "    reveal.js: e.g., \"reveal.js\".\n",
      "    If a relative path is given, it must be a subdirectory of the current\n",
      "    directory (from which the server is run).\n",
      "    See the usage documentation\n",
      "    (https://nbconvert.readthedocs.io/en/latest/usage.html#reveal-js-html-\n",
      "    slideshow) for more details.\n",
      "--nbformat=<Enum> (NotebookExporter.nbformat_version)\n",
      "    Default: 4\n",
      "    Choices: [1, 2, 3, 4]\n",
      "    The nbformat version to write. Use this to downgrade notebooks.\n",
      "\n",
      "To see all available configurables, use `--help-all`\n",
      "\n",
      "Examples\n",
      "--------\n",
      "\n",
      "    The simplest way to use nbconvert is\n",
      "    \n",
      "    > jupyter nbconvert mynotebook.ipynb\n",
      "    \n",
      "    which will convert mynotebook.ipynb to the default format (probably HTML).\n",
      "    \n",
      "    You can specify the export format with `--to`.\n",
      "    Options include ['asciidoc', 'custom', 'html', 'latex', 'markdown', 'notebook', 'pdf', 'python', 'rst', 'script', 'slides'].\n",
      "    \n",
      "    > jupyter nbconvert --to latex mynotebook.ipynb\n",
      "    \n",
      "    Both HTML and LaTeX support multiple output templates. LaTeX includes\n",
      "    'base', 'article' and 'report'.  HTML includes 'basic' and 'full'. You\n",
      "    can specify the flavor of the format used.\n",
      "    \n",
      "    > jupyter nbconvert --to html --template basic mynotebook.ipynb\n",
      "    \n",
      "    You can also pipe the output to stdout, rather than a file\n",
      "    \n",
      "    > jupyter nbconvert mynotebook.ipynb --stdout\n",
      "    \n",
      "    PDF is generated via latex\n",
      "    \n",
      "    > jupyter nbconvert mynotebook.ipynb --to pdf\n",
      "    \n",
      "    You can get (and serve) a Reveal.js-powered slideshow\n",
      "    \n",
      "    > jupyter nbconvert myslides.ipynb --to slides --post serve\n",
      "    \n",
      "    Multiple notebooks can be given at the command line in a couple of \n",
      "    different ways:\n",
      "    \n",
      "    > jupyter nbconvert notebook*.ipynb\n",
      "    > jupyter nbconvert notebook1.ipynb notebook2.ipynb\n",
      "    \n",
      "    or you can specify the notebooks list in a config file, containing::\n",
      "    \n",
      "        c.NbConvertApp.notebooks = [\"my_notebook.ipynb\"]\n",
      "    \n",
      "    > jupyter nbconvert --config mycfg.py\n",
      "\n"
     ]
    }
   ],
   "source": [
    "sys.path.append('/global/u1/v/vpa/project/jpt_notebooks/Cosmology/Cosmo_GAN/LBANN/lbann_cosmogan/3_analysis/')\n",
    "from modules_image_analysis import *"
   ]
  },
  {
   "cell_type": "code",
   "execution_count": 5,
   "metadata": {},
   "outputs": [
    {
     "name": "stdout",
     "output_type": "stream",
     "text": [
      "(128, 128)\n"
     ]
    }
   ],
   "source": [
    "### Get imput image\n",
    "\n",
    "##### From file #####\n",
    "main_dir='/global/cfs/cdirs/m3363/vayyar/cosmogan_data/results_data/'\n",
    "f1='20200409_083646_exagan_with_mcr/dump_outs/model0-validation-epoch45-step7544-inp_img-output0.npy'\n",
    "\n",
    "fname=main_dir+f1\n",
    "a1=np.load(fname)\n",
    "img=a1[0].reshape(128,128)\n",
    "print(img.shape)"
   ]
  },
  {
   "cell_type": "code",
   "execution_count": 5,
   "metadata": {},
   "outputs": [
    {
     "name": "stdout",
     "output_type": "stream",
     "text": [
      "0.3504612364550701\n"
     ]
    }
   ],
   "source": [
    "mean,cov=[64,64],[[10.0,0.0],[0.0,10.0]]\n",
    "mean,cov=[64,15],[[10.0,0.0],[0.0,0.0001]]\n",
    "\n",
    "### Not working correctly !! \n",
    "a1=np.random.multivariate_normal(mean, cov, size=int(1e6))\n",
    "### Compute histogram of samples to get single 128x128 image\n",
    "H,e1,e2=np.histogram2d(a1[:,0],a1[:,1],bins=(128,128),normed=True)\n",
    "# H=H*(128.0*128)/np.mean(H)\n",
    "print(np.mean(H))"
   ]
  },
  {
   "cell_type": "code",
   "execution_count": null,
   "metadata": {},
   "outputs": [],
   "source": []
  },
  {
   "cell_type": "code",
   "execution_count": 7,
   "metadata": {},
   "outputs": [
    {
     "data": {
      "application/vnd.jupyter.widget-view+json": {
       "model_id": "18efc0877d5a49449ade2b028cacaaf4",
       "version_major": 2,
       "version_minor": 0
      },
      "text/plain": [
       "Canvas(toolbar=Toolbar(toolitems=[('Home', 'Reset original view', 'home', 'home'), ('Back', 'Back to previous …"
      ]
     },
     "metadata": {},
     "output_type": "display_data"
    },
    {
     "data": {
      "text/plain": [
       "<matplotlib.image.AxesImage at 0x7fdbacdde400>"
      ]
     },
     "execution_count": 7,
     "metadata": {},
     "output_type": "execute_result"
    }
   ],
   "source": [
    "### Plot image\n",
    "plt.figure()\n",
    "plt.imshow(H,origin=(0,0))"
   ]
  },
  {
   "cell_type": "code",
   "execution_count": 10,
   "metadata": {},
   "outputs": [
    {
     "data": {
      "application/vnd.jupyter.widget-view+json": {
       "model_id": "ccdcb46caf964f079d6043f2075b6fea",
       "version_major": 2,
       "version_minor": 0
      },
      "text/plain": [
       "Canvas(toolbar=Toolbar(toolitems=[('Home', 'Reset original view', 'home', 'home'), ('Back', 'Back to previous …"
      ]
     },
     "metadata": {},
     "output_type": "display_data"
    },
    {
     "data": {
      "text/plain": [
       "array([1.56264685e+01, 0.00000000e+00, 0.00000000e+00, 0.00000000e+00,\n",
       "       0.00000000e+00, 0.00000000e+00, 0.00000000e+00, 0.00000000e+00,\n",
       "       0.00000000e+00, 0.00000000e+00, 5.87785480e+00, 0.00000000e+00,\n",
       "       0.00000000e+00, 0.00000000e+00, 0.00000000e+00, 0.00000000e+00,\n",
       "       1.61552248e+00, 0.00000000e+00, 0.00000000e+00, 0.00000000e+00,\n",
       "       0.00000000e+00, 6.81355853e-01, 0.00000000e+00, 0.00000000e+00,\n",
       "       0.00000000e+00, 3.93089878e-01, 0.00000000e+00, 0.00000000e+00,\n",
       "       2.38936962e-01, 0.00000000e+00, 1.43362204e-01, 0.00000000e+00,\n",
       "       1.14073152e-01, 8.94086866e-02, 5.70365759e-02, 0.00000000e+00,\n",
       "       4.00797561e-02, 8.01595121e-02, 1.84983350e-02, 4.16213165e-02,\n",
       "       2.31229188e-02, 3.69966701e-02, 4.31628467e-02, 2.31229188e-02,\n",
       "       2.62060141e-02, 2.15813909e-02, 2.00398931e-02, 1.69568071e-02,\n",
       "       1.69568326e-02, 1.07906954e-02])"
      ]
     },
     "execution_count": 10,
     "metadata": {},
     "output_type": "execute_result"
    }
   ],
   "source": [
    "f_pixel_intensity(img,bins=50)"
   ]
  },
  {
   "cell_type": "code",
   "execution_count": null,
   "metadata": {},
   "outputs": [],
   "source": [
    "# plt.figure()\n",
    "# plt.plot(a1[:,0],linestyle='',marker='o')\n",
    "# plt.plot(a1[:,1],linestyle='',marker='*')"
   ]
  },
  {
   "cell_type": "code",
   "execution_count": 11,
   "metadata": {},
   "outputs": [],
   "source": [
    "from scipy.fftpack import fft2, ifft2\n",
    "from mpl_toolkits.mplot3d import Axes3D"
   ]
  },
  {
   "cell_type": "code",
   "execution_count": 1,
   "metadata": {},
   "outputs": [],
   "source": [
    "### 3d plot of image \n",
    "\n",
    "\n",
    "# x,y=e1[1:],e2[1:]\n",
    "# fig = plt.figure()\n",
    "# ax = Axes3D(fig)\n",
    "# surf = ax.plot_surface(x, y, np.abs(H), cmap='viridis')"
   ]
  },
  {
   "cell_type": "code",
   "execution_count": 22,
   "metadata": {},
   "outputs": [],
   "source": [
    "### new code \n",
    "# https://stackoverflow.com/questions/48842320/what-is-the-best-way-to-calculate-radial-average-of-the-image-with-python\n",
    "# https://stackoverflow.com/questions/21242011/most-efficient-way-to-calculate-radial-profile\n",
    "\n",
    "def radial_profile(data, center):\n",
    "    ''' Module to compute radial profile of a 2D image '''\n",
    "    y, x = np.indices((data.shape)) # Get a grid of x and y values\n",
    "    \n",
    "    center = np.array([(x.max()-x.min())/2.0, (y.max()-y.min())/2.0]) # compute centers\n",
    "    # get radial values of every pair of points\n",
    "    r = np.sqrt((x - center[0])**2 + (y - center[1])**2)\n",
    "    r = r.astype(np.int)\n",
    "    \n",
    "    # Compute histogram of r values\n",
    "    tbin = np.bincount(r.ravel(), data.ravel())\n",
    "    nr = np.bincount(r.ravel()) \n",
    "    radialprofile = tbin / nr\n",
    "    return radialprofile\n",
    "\n",
    "\n",
    "### Test with azimuthal average and compare times\n",
    "\n",
    "def f_get_azimuthalAverage(image, center=None):\n",
    "    \"\"\"\n",
    "    Calculate the azimuthally averaged radial profile.\n",
    "\n",
    "    image - The 2D image\n",
    "    center - The [x,y] pixel coordinates used as the center. The default is \n",
    "             None, which then uses the center of the image (including \n",
    "             fracitonal pixels).\n",
    "    source: https://www.astrobetter.com/blog/2010/03/03/fourier-transforms-of-images-in-python/\n",
    "    \"\"\"\n",
    "    # Create a grid of points with x and y coordinates\n",
    "    y, x = np.indices(image.shape)\n",
    "    \n",
    "    if not center:\n",
    "        center = np.array([(x.max()-x.min())/2.0, (y.max()-y.min())/2.0])\n",
    "    \n",
    "#     print(center)\n",
    "    # Get the radial coordinate for every grid point. Array has the shape of image\n",
    "    r = np.hypot(x - center[0], y - center[1])\n",
    "\n",
    "    ind = np.argsort(r.flat) ### Get indices that sort the \"r\" array in ascending order.\n",
    "\n",
    "    r_sorted = r.flat[ind]     ### Sort the \"r\" array\n",
    "    \n",
    "    i_sorted = image.flat[ind]   ### Sort the image points according to the radial coordinate\n",
    "\n",
    "    # Get the integer part of the radii (bin size = 1)\n",
    "    r_int = r_sorted.astype(int)\n",
    "\n",
    "    # Find all pixels that fall within each radial bin.\n",
    "    deltar = r_int[1:] - r_int[:-1]  # Assumes all radii represented\n",
    "    rind = np.where(deltar)[0]       # location of changed radius\n",
    "    nr = rind[1:] - rind[:-1]        # number of radius bin\n",
    "    \n",
    "    # Cumulative sum to figure out sums for each radius bin\n",
    "    csim = np.cumsum(i_sorted, dtype=float)\n",
    "    tbin = csim[rind[1:]] - csim[rind[:-1]]\n",
    "\n",
    "    radial_prof = tbin / nr\n",
    "\n",
    "    return radial_prof"
   ]
  },
  {
   "cell_type": "code",
   "execution_count": 14,
   "metadata": {},
   "outputs": [
    {
     "name": "stdout",
     "output_type": "stream",
     "text": [
      "1.81 ms ± 169 µs per loop (mean ± std. dev. of 7 runs, 100 loops each)\n"
     ]
    }
   ],
   "source": [
    "%%timeit \n",
    "a1=f_get_azimuthalAverage(img)"
   ]
  },
  {
   "cell_type": "code",
   "execution_count": 15,
   "metadata": {},
   "outputs": [
    {
     "name": "stdout",
     "output_type": "stream",
     "text": [
      "322 µs ± 4.64 µs per loop (mean ± std. dev. of 7 runs, 1000 loops each)\n"
     ]
    }
   ],
   "source": [
    "%%timeit \n",
    "a2=radial_profile(img,center=(63.5,63.5))"
   ]
  },
  {
   "cell_type": "code",
   "execution_count": 20,
   "metadata": {},
   "outputs": [],
   "source": [
    "# img=np.arange(100).reshape(10,10)\n",
    "# img=np.ones(100).reshape(10,10)\n",
    "\n",
    "a1=f_get_azimuthalAverage(img)\n",
    "a2=radial_profile(img,center=None)\n"
   ]
  },
  {
   "cell_type": "code",
   "execution_count": 64,
   "metadata": {},
   "outputs": [],
   "source": [
    "data=img[:]\n",
    "\n",
    "y, x = np.indices((data.shape))\n",
    "center = np.array([(x.max()-x.min())/2.0, (y.max()-y.min())/2.0])\n",
    "r = np.sqrt((x - center[0])**2 + (y - center[1])**2)\n",
    "r = r.astype(np.int)\n",
    "\n",
    "tbin = np.bincount(r.ravel(), data.ravel())\n",
    "nr = np.bincount(r.ravel())\n",
    "radialprofile = tbin / nr"
   ]
  },
  {
   "cell_type": "code",
   "execution_count": 21,
   "metadata": {
    "collapsed": true,
    "jupyter": {
     "outputs_hidden": true
    }
   },
   "outputs": [
    {
     "data": {
      "text/plain": [
       "(array([-0.85000001, -0.84380953, -0.76666667, -0.73877552, -0.59841271,\n",
       "        -0.75757576, -0.70185142, -0.81686508, -0.7968254 , -0.70640014,\n",
       "        -0.70305996, -0.63694924, -0.53395613, -0.5461315 , -0.63739664,\n",
       "        -0.62434329, -0.7347416 , -0.7434315 , -0.84095239, -0.83761273,\n",
       "        -0.78987233, -0.83722618, -0.80098246, -0.828271  , -0.84079745,\n",
       "        -0.79706863, -0.82936508, -0.78569298, -0.74168442, -0.75848853,\n",
       "        -0.77984589, -0.80347986, -0.79418132, -0.79057705, -0.7460928 ,\n",
       "        -0.77762501, -0.7915731 , -0.82635716, -0.75443458, -0.7835024 ,\n",
       "        -0.78811584, -0.78379731, -0.76277959, -0.79901277, -0.80008517,\n",
       "        -0.76060246, -0.78811938, -0.82529098, -0.79369129, -0.77993711,\n",
       "        -0.78664353, -0.76312844, -0.74121348, -0.73358099, -0.72692457,\n",
       "        -0.74036909, -0.73858259, -0.70594484, -0.71721987, -0.74173955,\n",
       "        -0.77715071, -0.77844584, -0.78007353, -0.77696743, -0.8012156 ,\n",
       "        -0.79799837, -0.80301005, -0.80965672, -0.78443288, -0.76443479,\n",
       "        -0.76404436, -0.71793305, -0.70382846, -0.70507795, -0.72869114,\n",
       "        -0.71389481, -0.78054115, -0.7849916 , -0.79437607, -0.77871574,\n",
       "        -0.87777778, -0.81013537, -0.70511675, -0.70859435, -0.79761905,\n",
       "        -0.75679013, -0.77592593, -0.6939394 ]),\n",
       " array([-1.        , -0.85000001, -0.84380953, -0.76666667, -0.73877552,\n",
       "        -0.59841271, -0.75757576, -0.70185142, -0.81686508, -0.7968254 ,\n",
       "        -0.70640014, -0.70305996, -0.63694924, -0.53395613, -0.5461315 ,\n",
       "        -0.63739664, -0.62434329, -0.7347416 , -0.7434315 , -0.84095239,\n",
       "        -0.83761273, -0.78987233, -0.83722618, -0.80098246, -0.828271  ,\n",
       "        -0.84079745, -0.79706863, -0.82936508, -0.78569298, -0.74168442,\n",
       "        -0.75848853, -0.77984589, -0.80347986, -0.79418132, -0.79057705,\n",
       "        -0.7460928 , -0.77762501, -0.7915731 , -0.82635716, -0.75443458,\n",
       "        -0.7835024 , -0.78811584, -0.78379731, -0.76277959, -0.79901277,\n",
       "        -0.80008517, -0.76060246, -0.78811938, -0.82529098, -0.79369129,\n",
       "        -0.77993711, -0.78664353, -0.76312844, -0.74121348, -0.73358099,\n",
       "        -0.72692457, -0.74036909, -0.73858259, -0.70594484, -0.71721987,\n",
       "        -0.74173955, -0.77715071, -0.77844584, -0.78007353, -0.77696743,\n",
       "        -0.8012156 , -0.79799837, -0.80301005, -0.80965672, -0.78443288,\n",
       "        -0.76443479, -0.76404436, -0.71793305, -0.70382846, -0.70507795,\n",
       "        -0.72869114, -0.71389481, -0.78054115, -0.7849916 , -0.79437607,\n",
       "        -0.77871574, -0.87777778, -0.81013537, -0.70511675, -0.70859435,\n",
       "        -0.79761905, -0.75679013, -0.77592593, -0.6939394 , -0.60317461]))"
      ]
     },
     "execution_count": 21,
     "metadata": {},
     "output_type": "execute_result"
    }
   ],
   "source": [
    "a1,a2"
   ]
  },
  {
   "cell_type": "code",
   "execution_count": 66,
   "metadata": {},
   "outputs": [
    {
     "data": {
      "text/plain": [
       "array([ 4.,  8., 20., 20., 28., 16.,  4.])"
      ]
     },
     "execution_count": 66,
     "metadata": {},
     "output_type": "execute_result"
    }
   ],
   "source": [
    "np.bincount(r.ravel(),data.ravel())\n",
    "# np.bincount(data.ravel())"
   ]
  },
  {
   "cell_type": "code",
   "execution_count": 25,
   "metadata": {},
   "outputs": [
    {
     "data": {
      "text/plain": [
       "True"
      ]
     },
     "execution_count": 25,
     "metadata": {},
     "output_type": "execute_result"
    }
   ],
   "source": [
    "np.array_equal(a1,a2[1:-1])"
   ]
  },
  {
   "cell_type": "code",
   "execution_count": 24,
   "metadata": {},
   "outputs": [
    {
     "data": {
      "application/vnd.jupyter.widget-view+json": {
       "model_id": "a953b7dbc6994e12a13343abe07e5dbf",
       "version_major": 2,
       "version_minor": 0
      },
      "text/plain": [
       "Canvas(toolbar=Toolbar(toolitems=[('Home', 'Reset original view', 'home', 'home'), ('Back', 'Back to previous …"
      ]
     },
     "metadata": {},
     "output_type": "display_data"
    },
    {
     "data": {
      "text/plain": [
       "[<matplotlib.lines.Line2D at 0x7fdbacab1ac8>]"
      ]
     },
     "execution_count": 24,
     "metadata": {},
     "output_type": "execute_result"
    }
   ],
   "source": [
    "plt.figure()\n",
    "plt.plot(a1,color='r',marker='o',linestyle='',markersize=10)\n",
    "plt.plot(a2[1:],color='b',marker='*',linestyle='')"
   ]
  },
  {
   "cell_type": "markdown",
   "metadata": {},
   "source": [
    "To do : \n",
    "- Read an image\n",
    "- Compute radial profile\n",
    "- Compute 2D fourier transform\n",
    "- Compute radial profile of Mod of fourier transform -> Power spectrum\n",
    "\n"
   ]
  },
  {
   "cell_type": "code",
   "execution_count": 12,
   "metadata": {},
   "outputs": [
    {
     "data": {
      "text/plain": [
       "41.0390625"
      ]
     },
     "execution_count": 12,
     "metadata": {},
     "output_type": "execute_result"
    }
   ],
   "source": [
    "105060*0.1/(2.*128)"
   ]
  },
  {
   "cell_type": "markdown",
   "metadata": {},
   "source": [
    "## 2-point function"
   ]
  },
  {
   "cell_type": "code",
   "execution_count": 80,
   "metadata": {},
   "outputs": [],
   "source": [
    "def f_radial_profile(data, center=(None,None)):\n",
    "    ''' Module to compute radial profile of a 2D image '''\n",
    "    y, x = np.indices((data.shape)) # Get a grid of x and y values\n",
    "    \n",
    "    if center[0]==None and center[1]==None:\n",
    "        center = np.array([(x.max()-x.min())/2.0, (y.max()-y.min())/2.0]) # compute centers\n",
    "    # get radial values of every pair of points\n",
    "    r = np.sqrt((x - center[0])**2 + (y - center[1])**2)\n",
    "    r = r.astype(np.int)\n",
    "    \n",
    "    # Compute histogram of r values\n",
    "    tbin = np.bincount(r.ravel(), data.ravel())\n",
    "    nr = np.bincount(r.ravel()) \n",
    "    radialprofile = tbin / nr\n",
    "    \n",
    "    return radialprofile"
   ]
  },
  {
   "cell_type": "code",
   "execution_count": 78,
   "metadata": {},
   "outputs": [
    {
     "data": {
      "application/vnd.jupyter.widget-view+json": {
       "model_id": "5ff5890968d64abaa1d4e2445348c740",
       "version_major": 2,
       "version_minor": 0
      },
      "text/plain": [
       "Canvas(toolbar=Toolbar(toolitems=[('Home', 'Reset original view', 'home', 'home'), ('Back', 'Back to previous …"
      ]
     },
     "metadata": {},
     "output_type": "display_data"
    },
    {
     "data": {
      "text/plain": [
       "<matplotlib.image.AxesImage at 0x2aaade19c828>"
      ]
     },
     "execution_count": 78,
     "metadata": {},
     "output_type": "execute_result"
    }
   ],
   "source": [
    "plt.figure()\n",
    "plt.imshow(img)"
   ]
  },
  {
   "cell_type": "code",
   "execution_count": 90,
   "metadata": {},
   "outputs": [],
   "source": [
    "_=f_radial_profile(img,center=(0,0))"
   ]
  },
  {
   "cell_type": "code",
   "execution_count": 119,
   "metadata": {},
   "outputs": [],
   "source": [
    "a1,a2=128,128\n",
    "# a1,a2=5,5\n",
    "centers=np.array([(x,y) for y in np.arange(a2) for x in np.arange(a1)])"
   ]
  },
  {
   "cell_type": "code",
   "execution_count": 121,
   "metadata": {},
   "outputs": [
    {
     "name": "stdout",
     "output_type": "stream",
     "text": [
      "(16384, 181)\n"
     ]
    }
   ],
   "source": [
    "\n",
    "r_list=[]\n",
    "for center in centers:\n",
    "    r1=f_radial_profile(img,center=center)\n",
    "    r_list.append(np.pad(r1,(0,181-len(r1)),'constant')) ## Padding with zeros at the end\n",
    "\n",
    "r_profs=np.array(r_list)\n",
    "print(r_profs.shape)"
   ]
  },
  {
   "cell_type": "code",
   "execution_count": 122,
   "metadata": {},
   "outputs": [],
   "source": [
    "### compute mean and err\n",
    "mean,err=np.mean(r_profs,axis=0),np.std(r_profs,axis=0)/np.sqrt(r_profs.shape[0])\n"
   ]
  },
  {
   "cell_type": "code",
   "execution_count": 123,
   "metadata": {},
   "outputs": [
    {
     "data": {
      "application/vnd.jupyter.widget-view+json": {
       "model_id": "85c60fca45944685818ccecd467162da",
       "version_major": 2,
       "version_minor": 0
      },
      "text/plain": [
       "Canvas(toolbar=Toolbar(toolitems=[('Home', 'Reset original view', 'home', 'home'), ('Back', 'Back to previous …"
      ]
     },
     "metadata": {},
     "output_type": "display_data"
    },
    {
     "data": {
      "text/plain": [
       "<ErrorbarContainer object of 3 artists>"
      ]
     },
     "execution_count": 123,
     "metadata": {},
     "output_type": "execute_result"
    }
   ],
   "source": [
    "plt.figure()\n",
    "plt.errorbar(x=np.arange(mean.shape[0]),y=mean,yerr=err,linestyle='',marker='o')"
   ]
  },
  {
   "cell_type": "code",
   "execution_count": null,
   "metadata": {},
   "outputs": [],
   "source": []
  }
 ],
 "metadata": {
  "kernelspec": {
   "display_name": "v_py3",
   "language": "python",
   "name": "v_jpt_py3"
  },
  "language_info": {
   "codemirror_mode": {
    "name": "ipython",
    "version": 3
   },
   "file_extension": ".py",
   "mimetype": "text/x-python",
   "name": "python",
   "nbconvert_exporter": "python",
   "pygments_lexer": "ipython3",
   "version": "3.6.8"
  }
 },
 "nbformat": 4,
 "nbformat_minor": 4
}
