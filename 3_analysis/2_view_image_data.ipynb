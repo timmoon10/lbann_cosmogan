{
 "cells": [
  {
   "cell_type": "markdown",
   "metadata": {},
   "source": [
    "# Extract data from output files\n",
    "\n",
    "March 9, 2020"
   ]
  },
  {
   "cell_type": "code",
   "execution_count": 2,
   "metadata": {},
   "outputs": [],
   "source": [
    "import numpy as np\n",
    "import matplotlib.pyplot as plt\n",
    "import pandas as pd\n",
    "\n",
    "import subprocess as sp\n",
    "import sys\n",
    "import os\n",
    "import glob"
   ]
  },
  {
   "cell_type": "code",
   "execution_count": 3,
   "metadata": {},
   "outputs": [
    {
     "name": "stdout",
     "output_type": "stream",
     "text": [
      "[NbConvertApp] Converting notebook modules_image_analysis.ipynb to script\n",
      "[NbConvertApp] Writing 8912 bytes to modules_image_analysis.py\n"
     ]
    }
   ],
   "source": [
    "sys.path.append('/global/u1/v/vpa/project/jpt_notebooks/Cosmology/Cosmo_GAN/LBANN/lbann_cosmogan/3_analysis/')\n",
    "from modules_image_analysis import *"
   ]
  },
  {
   "cell_type": "code",
   "execution_count": 9,
   "metadata": {},
   "outputs": [],
   "source": [
    "%matplotlib widget"
   ]
  },
  {
   "cell_type": "markdown",
   "metadata": {},
   "source": [
    "## Extract image data "
   ]
  },
  {
   "cell_type": "code",
   "execution_count": 8,
   "metadata": {},
   "outputs": [],
   "source": [
    "main_dir='/global/cfs/cdirs/m3363/vayyar/cosmogan_data/results_data/'\n",
    "fldr='20200331_131011_exagan/dump_outs/'\n",
    "fldr='20200401_125919_exagan_0.1_1/dump_outs/'\n",
    "\n",
    "# fldr='20200406_055957_exagan/dump_outs/model0-validation-epoch30-step836-gen_img_instance1_activation-output0.npy'\n",
    "f1='20200409_083646_exagan_with_mcr/dump_outs/model0-validation-epoch45-step7544-gen_img_instance1_activation-output0.npy'\n",
    "f2='20200409_083646_exagan_with_mcr/dump_outs/model0-validation-epoch45-step7544-inp_img-output0.npy'\n"
   ]
  },
  {
   "cell_type": "code",
   "execution_count": 6,
   "metadata": {},
   "outputs": [],
   "source": [
    "# train_gen_img_lst=glob.glob(main_dir+fldr+'model0-training*-gen_img*-output0.npy')\n",
    "# train_inp_img_lst=glob.glob(main_dir+fldr+'model0-training*-inp_img*-output0.npy')\n",
    "# val_gen_img_lst=glob.glob(main_dir+fldr+'model0-validation*-gen_img*-output0.npy')\n",
    "# val_inp_img_lst=glob.glob(main_dir+fldr+'model0-validation*-inp_img*-output0.npy')"
   ]
  },
  {
   "cell_type": "code",
   "execution_count": 10,
   "metadata": {},
   "outputs": [
    {
     "name": "stdout",
     "output_type": "stream",
     "text": [
      "(64, 1, 128, 128) (128, 128)\n",
      "(64, 16384) (128, 128)\n"
     ]
    }
   ],
   "source": [
    "### Generated image\n",
    "fname=main_dir+f1\n",
    "a1=np.load(fname)\n",
    "img1=a1[0,0,:,:]\n",
    "print(a1.shape,img1.shape)\n",
    "\n",
    "### Input image\n",
    "fname=main_dir+f2\n",
    "a2=np.load(fname)\n",
    "img2=a2[0,:].reshape(128,128)\n",
    "print(a2.shape,img2.shape)"
   ]
  },
  {
   "cell_type": "markdown",
   "metadata": {},
   "source": [
    "### Information on images: \n",
    "1. For each epoch-step combination, the code generates 4 images : 2 for training, 2 for validation.\n",
    "2. Each has one **input** and one **generated** image.\n",
    "3. The Input files have dimensions (batch_size, 128*128) \n",
    "4. The Gen files have dimensions (batch_size,1,128,128)\n",
    "\n",
    "We extract the first element (0) in the batch_size dimension"
   ]
  },
  {
   "cell_type": "markdown",
   "metadata": {},
   "source": [
    "### View single image"
   ]
  },
  {
   "cell_type": "code",
   "execution_count": 11,
   "metadata": {},
   "outputs": [
    {
     "data": {
      "application/vnd.jupyter.widget-view+json": {
       "model_id": "ce49f32d64c1433db547563da9ec7138",
       "version_major": 2,
       "version_minor": 0
      },
      "text/plain": [
       "Canvas(toolbar=Toolbar(toolitems=[('Home', 'Reset original view', 'home', 'home'), ('Back', 'Back to previous …"
      ]
     },
     "metadata": {},
     "output_type": "display_data"
    },
    {
     "data": {
      "text/plain": [
       "<matplotlib.image.AxesImage at 0x2aaadc8675c0>"
      ]
     },
     "execution_count": 11,
     "metadata": {},
     "output_type": "execute_result"
    }
   ],
   "source": [
    "plt.figure()\n",
    "plt.imshow(img1)"
   ]
  },
  {
   "cell_type": "markdown",
   "metadata": {},
   "source": [
    "### Comparing generated with input"
   ]
  },
  {
   "cell_type": "code",
   "execution_count": 12,
   "metadata": {},
   "outputs": [
    {
     "data": {
      "application/vnd.jupyter.widget-view+json": {
       "model_id": "9f69d43eb5e4406cbc301a80b457f155",
       "version_major": 2,
       "version_minor": 0
      },
      "text/plain": [
       "Canvas(toolbar=Toolbar(toolitems=[('Home', 'Reset original view', 'home', 'home'), ('Back', 'Back to previous …"
      ]
     },
     "metadata": {},
     "output_type": "display_data"
    },
    {
     "data": {
      "text/plain": [
       "Text(0.5, 1.0, 'Input')"
      ]
     },
     "execution_count": 12,
     "metadata": {},
     "output_type": "execute_result"
    }
   ],
   "source": [
    "fig=plt.figure(figsize=(10,5))\n",
    "fig.add_subplot(1,2,1)\n",
    "plt.imshow(img1)\n",
    "plt.title('Generated')\n",
    "fig.add_subplot(1,2,2)\n",
    "plt.imshow(img2)\n",
    "plt.title('Input')"
   ]
  },
  {
   "cell_type": "code",
   "execution_count": 23,
   "metadata": {},
   "outputs": [],
   "source": [
    "# f_plot_grid(samples[:],8)"
   ]
  },
  {
   "cell_type": "code",
   "execution_count": null,
   "metadata": {},
   "outputs": [],
   "source": []
  }
 ],
 "metadata": {
  "kernelspec": {
   "display_name": "v_py3",
   "language": "python",
   "name": "v_jpt_py3"
  },
  "language_info": {
   "codemirror_mode": {
    "name": "ipython",
    "version": 3
   },
   "file_extension": ".py",
   "mimetype": "text/x-python",
   "name": "python",
   "nbconvert_exporter": "python",
   "pygments_lexer": "ipython3",
   "version": "3.6.8"
  }
 },
 "nbformat": 4,
 "nbformat_minor": 4
}
